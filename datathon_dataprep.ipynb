{
 "cells": [
  {
   "cell_type": "markdown",
   "metadata": {},
   "source": [
    "# Titel"
   ]
  },
  {
   "cell_type": "markdown",
   "metadata": {},
   "source": [
    "# Importing the relevant libraries"
   ]
  },
  {
   "cell_type": "code",
   "execution_count": 101,
   "metadata": {},
   "outputs": [],
   "source": [
    "import pandas as pd \n",
    "import numpy as np\n",
    "import matplotlib.pyplot as plt\n",
    "import seaborn as sns\n",
    "import statsmodels.api as sm\n",
    "sns.set()"
   ]
  },
  {
   "cell_type": "markdown",
   "metadata": {},
   "source": [
    "## 1. Loading the raw data"
   ]
  },
  {
   "cell_type": "code",
   "execution_count": 102,
   "metadata": {},
   "outputs": [],
   "source": [
    "# read data\n",
    "data = pd.read_csv('Data.csv')"
   ]
  },
  {
   "cell_type": "code",
   "execution_count": 103,
   "metadata": {},
   "outputs": [
    {
     "data": {
      "text/html": [
       "<div>\n",
       "<style scoped>\n",
       "    .dataframe tbody tr th:only-of-type {\n",
       "        vertical-align: middle;\n",
       "    }\n",
       "\n",
       "    .dataframe tbody tr th {\n",
       "        vertical-align: top;\n",
       "    }\n",
       "\n",
       "    .dataframe thead th {\n",
       "        text-align: right;\n",
       "    }\n",
       "</style>\n",
       "<table border=\"1\" class=\"dataframe\">\n",
       "  <thead>\n",
       "    <tr style=\"text-align: right;\">\n",
       "      <th></th>\n",
       "      <th>Index</th>\n",
       "      <th>Age</th>\n",
       "      <th>Gender</th>\n",
       "      <th>City</th>\n",
       "      <th>Position</th>\n",
       "      <th>Quit</th>\n",
       "      <th>YearsOverall</th>\n",
       "      <th>YearsGer</th>\n",
       "      <th>Seniority</th>\n",
       "      <th>MainTech</th>\n",
       "      <th>...</th>\n",
       "      <th>BasicSalary</th>\n",
       "      <th>SalaryBonus</th>\n",
       "      <th>LY_Salary</th>\n",
       "      <th>LY_Bonus</th>\n",
       "      <th>VacDays</th>\n",
       "      <th>EmplStatus</th>\n",
       "      <th>Contract</th>\n",
       "      <th>Language</th>\n",
       "      <th>CusSize</th>\n",
       "      <th>CusArea</th>\n",
       "    </tr>\n",
       "  </thead>\n",
       "  <tbody>\n",
       "    <tr>\n",
       "      <th>0</th>\n",
       "      <td>250</td>\n",
       "      <td>28.0</td>\n",
       "      <td>Male</td>\n",
       "      <td>Munich</td>\n",
       "      <td>Network Administrator</td>\n",
       "      <td>No</td>\n",
       "      <td>9</td>\n",
       "      <td>3</td>\n",
       "      <td>Senior</td>\n",
       "      <td>Network</td>\n",
       "      <td>...</td>\n",
       "      <td>61200.0</td>\n",
       "      <td>7300</td>\n",
       "      <td>53300.0</td>\n",
       "      <td>6200</td>\n",
       "      <td>30</td>\n",
       "      <td>Full-time employee</td>\n",
       "      <td>Unlimited contract</td>\n",
       "      <td>English</td>\n",
       "      <td>1000+</td>\n",
       "      <td>Automotive</td>\n",
       "    </tr>\n",
       "    <tr>\n",
       "      <th>1</th>\n",
       "      <td>896</td>\n",
       "      <td>39.0</td>\n",
       "      <td>Female</td>\n",
       "      <td>Stuttgart</td>\n",
       "      <td>Project manager</td>\n",
       "      <td>No</td>\n",
       "      <td>13</td>\n",
       "      <td>13</td>\n",
       "      <td>Senior</td>\n",
       "      <td>NaN</td>\n",
       "      <td>...</td>\n",
       "      <td>108000.0</td>\n",
       "      <td>0</td>\n",
       "      <td>102000.0</td>\n",
       "      <td>0</td>\n",
       "      <td>30</td>\n",
       "      <td>Full-time employee</td>\n",
       "      <td>Unlimited contract</td>\n",
       "      <td>German</td>\n",
       "      <td>1000+</td>\n",
       "      <td>Automotive</td>\n",
       "    </tr>\n",
       "    <tr>\n",
       "      <th>2</th>\n",
       "      <td>260</td>\n",
       "      <td>35.0</td>\n",
       "      <td>Male</td>\n",
       "      <td>Frankfurt</td>\n",
       "      <td>Banker</td>\n",
       "      <td>No</td>\n",
       "      <td>12</td>\n",
       "      <td>2</td>\n",
       "      <td>Senior</td>\n",
       "      <td>NaN</td>\n",
       "      <td>...</td>\n",
       "      <td>100000.0</td>\n",
       "      <td>32000</td>\n",
       "      <td>NaN</td>\n",
       "      <td>NaN</td>\n",
       "      <td>NaN</td>\n",
       "      <td>Full-time employee</td>\n",
       "      <td>Unlimited contract</td>\n",
       "      <td>English</td>\n",
       "      <td>101 to 1000</td>\n",
       "      <td>Bank</td>\n",
       "    </tr>\n",
       "    <tr>\n",
       "      <th>3</th>\n",
       "      <td>661</td>\n",
       "      <td>32.0</td>\n",
       "      <td>Male</td>\n",
       "      <td>Amsterdam</td>\n",
       "      <td>Mobile Developer</td>\n",
       "      <td>No</td>\n",
       "      <td>13</td>\n",
       "      <td>NaN</td>\n",
       "      <td>Senior</td>\n",
       "      <td>Kotlin</td>\n",
       "      <td>...</td>\n",
       "      <td>85000.0</td>\n",
       "      <td>89000</td>\n",
       "      <td>80000.0</td>\n",
       "      <td>84000</td>\n",
       "      <td>27</td>\n",
       "      <td>Full-time employee</td>\n",
       "      <td>Unlimited contract</td>\n",
       "      <td>English</td>\n",
       "      <td>1000+</td>\n",
       "      <td>Bank</td>\n",
       "    </tr>\n",
       "    <tr>\n",
       "      <th>4</th>\n",
       "      <td>993</td>\n",
       "      <td>35.0</td>\n",
       "      <td>Female</td>\n",
       "      <td>Munich</td>\n",
       "      <td>Data Scientist</td>\n",
       "      <td>No</td>\n",
       "      <td>5</td>\n",
       "      <td>2</td>\n",
       "      <td>Senior</td>\n",
       "      <td>SAS,SQL,Python</td>\n",
       "      <td>...</td>\n",
       "      <td>75000.0</td>\n",
       "      <td>10000</td>\n",
       "      <td>NaN</td>\n",
       "      <td>NaN</td>\n",
       "      <td>30</td>\n",
       "      <td>Full-time employee</td>\n",
       "      <td>Unlimited contract</td>\n",
       "      <td>English</td>\n",
       "      <td>1000+</td>\n",
       "      <td>Bank</td>\n",
       "    </tr>\n",
       "    <tr>\n",
       "      <th>5</th>\n",
       "      <td>1100</td>\n",
       "      <td>22.0</td>\n",
       "      <td>Male</td>\n",
       "      <td>Frankfurt</td>\n",
       "      <td>Software Engineer</td>\n",
       "      <td>Yes</td>\n",
       "      <td>2</td>\n",
       "      <td>2</td>\n",
       "      <td>Junior</td>\n",
       "      <td>Java</td>\n",
       "      <td>...</td>\n",
       "      <td>45000.0</td>\n",
       "      <td>7000</td>\n",
       "      <td>37000.0</td>\n",
       "      <td>3000</td>\n",
       "      <td>30</td>\n",
       "      <td>Full-time employee</td>\n",
       "      <td>Unlimited contract</td>\n",
       "      <td>German</td>\n",
       "      <td>1000+</td>\n",
       "      <td>Bank</td>\n",
       "    </tr>\n",
       "    <tr>\n",
       "      <th>6</th>\n",
       "      <td>334</td>\n",
       "      <td>31.0</td>\n",
       "      <td>Male</td>\n",
       "      <td>Moscow</td>\n",
       "      <td>Data Scientist</td>\n",
       "      <td>Yes</td>\n",
       "      <td>2.5</td>\n",
       "      <td>0</td>\n",
       "      <td>Lead</td>\n",
       "      <td>Python</td>\n",
       "      <td>...</td>\n",
       "      <td>20000.0</td>\n",
       "      <td>6500</td>\n",
       "      <td>17000.0</td>\n",
       "      <td>3500</td>\n",
       "      <td>30</td>\n",
       "      <td>Full-time employee</td>\n",
       "      <td>Unlimited contract</td>\n",
       "      <td>Russian</td>\n",
       "      <td>1000+</td>\n",
       "      <td>Bank</td>\n",
       "    </tr>\n",
       "    <tr>\n",
       "      <th>7</th>\n",
       "      <td>246</td>\n",
       "      <td>30.0</td>\n",
       "      <td>Female</td>\n",
       "      <td>Frankfurt</td>\n",
       "      <td>QA Engineer</td>\n",
       "      <td>No</td>\n",
       "      <td>6</td>\n",
       "      <td>4</td>\n",
       "      <td>Senior</td>\n",
       "      <td>Bash</td>\n",
       "      <td>...</td>\n",
       "      <td>70000.0</td>\n",
       "      <td>2000</td>\n",
       "      <td>70000.0</td>\n",
       "      <td>2000</td>\n",
       "      <td>30</td>\n",
       "      <td>Full-time employee</td>\n",
       "      <td>Unlimited contract</td>\n",
       "      <td>German</td>\n",
       "      <td>1000+</td>\n",
       "      <td>Bank</td>\n",
       "    </tr>\n",
       "    <tr>\n",
       "      <th>8</th>\n",
       "      <td>154</td>\n",
       "      <td>40.0</td>\n",
       "      <td>Female</td>\n",
       "      <td>Munich</td>\n",
       "      <td>Software Engineer</td>\n",
       "      <td>No</td>\n",
       "      <td>20</td>\n",
       "      <td>7</td>\n",
       "      <td>Middle</td>\n",
       "      <td>Java</td>\n",
       "      <td>...</td>\n",
       "      <td>54000.0</td>\n",
       "      <td>NaN</td>\n",
       "      <td>54000.0</td>\n",
       "      <td>NaN</td>\n",
       "      <td>30</td>\n",
       "      <td>Full-time employee</td>\n",
       "      <td>Unlimited contract</td>\n",
       "      <td>German</td>\n",
       "      <td>101 to 1000</td>\n",
       "      <td>BehÃ¶rde</td>\n",
       "    </tr>\n",
       "    <tr>\n",
       "      <th>9</th>\n",
       "      <td>1018</td>\n",
       "      <td>35.0</td>\n",
       "      <td>Male</td>\n",
       "      <td>Murnau am Staffelsee</td>\n",
       "      <td>Beikoch</td>\n",
       "      <td>No</td>\n",
       "      <td>1</td>\n",
       "      <td>1</td>\n",
       "      <td>Middle</td>\n",
       "      <td>Apotheker</td>\n",
       "      <td>...</td>\n",
       "      <td>30000.0</td>\n",
       "      <td>1000</td>\n",
       "      <td>NaN</td>\n",
       "      <td>NaN</td>\n",
       "      <td>20</td>\n",
       "      <td>Full-time employee</td>\n",
       "      <td>Temporary contract</td>\n",
       "      <td>German</td>\n",
       "      <td>up to 10</td>\n",
       "      <td>Biergarten</td>\n",
       "    </tr>\n",
       "    <tr>\n",
       "      <th>10</th>\n",
       "      <td>207</td>\n",
       "      <td>25.0</td>\n",
       "      <td>Male</td>\n",
       "      <td>Berlin</td>\n",
       "      <td>Software Engineer</td>\n",
       "      <td>No</td>\n",
       "      <td>6</td>\n",
       "      <td>1</td>\n",
       "      <td>Middle</td>\n",
       "      <td>Java</td>\n",
       "      <td>...</td>\n",
       "      <td>61500.0</td>\n",
       "      <td>26000</td>\n",
       "      <td>NaN</td>\n",
       "      <td>NaN</td>\n",
       "      <td>28</td>\n",
       "      <td>Full-time employee</td>\n",
       "      <td>Unlimited contract</td>\n",
       "      <td>English</td>\n",
       "      <td>1000+</td>\n",
       "      <td>Big commercial</td>\n",
       "    </tr>\n",
       "    <tr>\n",
       "      <th>11</th>\n",
       "      <td>635</td>\n",
       "      <td>41.0</td>\n",
       "      <td>Male</td>\n",
       "      <td>Berlin</td>\n",
       "      <td>DevOps</td>\n",
       "      <td>No</td>\n",
       "      <td>20</td>\n",
       "      <td>14</td>\n",
       "      <td>Senior</td>\n",
       "      <td>Linux/UNIX, GIT, Virtualisation Platforms, *sh...</td>\n",
       "      <td>...</td>\n",
       "      <td>58800.0</td>\n",
       "      <td>20700</td>\n",
       "      <td>56400.0</td>\n",
       "      <td>17000</td>\n",
       "      <td>35</td>\n",
       "      <td>Full-time employee</td>\n",
       "      <td>Unlimited contract</td>\n",
       "      <td>German</td>\n",
       "      <td>1000+</td>\n",
       "      <td>Bloody enterprise</td>\n",
       "    </tr>\n",
       "    <tr>\n",
       "      <th>12</th>\n",
       "      <td>142</td>\n",
       "      <td>34.0</td>\n",
       "      <td>Male</td>\n",
       "      <td>Munich</td>\n",
       "      <td>Cloud Architect</td>\n",
       "      <td>No</td>\n",
       "      <td>10</td>\n",
       "      <td>4</td>\n",
       "      <td>Senior</td>\n",
       "      <td>Azure, SAP</td>\n",
       "      <td>...</td>\n",
       "      <td>120000.0</td>\n",
       "      <td>40000</td>\n",
       "      <td>70000.0</td>\n",
       "      <td>30000</td>\n",
       "      <td>30</td>\n",
       "      <td>Full-time employee</td>\n",
       "      <td>Unlimited contract</td>\n",
       "      <td>English</td>\n",
       "      <td>1000+</td>\n",
       "      <td>Cloud</td>\n",
       "    </tr>\n",
       "    <tr>\n",
       "      <th>13</th>\n",
       "      <td>642</td>\n",
       "      <td>32.0</td>\n",
       "      <td>Male</td>\n",
       "      <td>Berlin</td>\n",
       "      <td>Software Engineer</td>\n",
       "      <td>Yes</td>\n",
       "      <td>10</td>\n",
       "      <td>7</td>\n",
       "      <td>Lead</td>\n",
       "      <td>TypeScript</td>\n",
       "      <td>...</td>\n",
       "      <td>120000.0</td>\n",
       "      <td>0</td>\n",
       "      <td>90000.0</td>\n",
       "      <td>0</td>\n",
       "      <td>0</td>\n",
       "      <td>Self-employed (freelancer)</td>\n",
       "      <td>Temporary contract</td>\n",
       "      <td>Deuglisch</td>\n",
       "      <td>1000+</td>\n",
       "      <td>Concern</td>\n",
       "    </tr>\n",
       "    <tr>\n",
       "      <th>14</th>\n",
       "      <td>184</td>\n",
       "      <td>36.0</td>\n",
       "      <td>Male</td>\n",
       "      <td>Rosenheim</td>\n",
       "      <td>Data Science Manager</td>\n",
       "      <td>Yes</td>\n",
       "      <td>12</td>\n",
       "      <td>0.5</td>\n",
       "      <td>Manager</td>\n",
       "      <td>Python</td>\n",
       "      <td>...</td>\n",
       "      <td>89200.0</td>\n",
       "      <td>17800</td>\n",
       "      <td>NaN</td>\n",
       "      <td>NaN</td>\n",
       "      <td>NaN</td>\n",
       "      <td>Full-time employee</td>\n",
       "      <td>Unlimited contract</td>\n",
       "      <td>English</td>\n",
       "      <td>1000+</td>\n",
       "      <td>Construction</td>\n",
       "    </tr>\n",
       "    <tr>\n",
       "      <th>15</th>\n",
       "      <td>358</td>\n",
       "      <td>26.0</td>\n",
       "      <td>Male</td>\n",
       "      <td>Karlsruhe</td>\n",
       "      <td>Software Engineer</td>\n",
       "      <td>No</td>\n",
       "      <td>5</td>\n",
       "      <td>5</td>\n",
       "      <td>NaN</td>\n",
       "      <td>NaN</td>\n",
       "      <td>...</td>\n",
       "      <td>55000.0</td>\n",
       "      <td>0</td>\n",
       "      <td>52000.0</td>\n",
       "      <td>0</td>\n",
       "      <td>30</td>\n",
       "      <td>Full-time employee</td>\n",
       "      <td>Unlimited contract</td>\n",
       "      <td>50/50</td>\n",
       "      <td>11 to 50</td>\n",
       "      <td>Consulting / Agency</td>\n",
       "    </tr>\n",
       "    <tr>\n",
       "      <th>16</th>\n",
       "      <td>575</td>\n",
       "      <td>38.0</td>\n",
       "      <td>Male</td>\n",
       "      <td>Berlin</td>\n",
       "      <td>Freelance AI lead / advisor</td>\n",
       "      <td>Yes</td>\n",
       "      <td>20</td>\n",
       "      <td>7</td>\n",
       "      <td>Head</td>\n",
       "      <td>C</td>\n",
       "      <td>...</td>\n",
       "      <td>200000.0</td>\n",
       "      <td>200000</td>\n",
       "      <td>80000.0</td>\n",
       "      <td>80000</td>\n",
       "      <td>0</td>\n",
       "      <td>Self-employed (freelancer)</td>\n",
       "      <td>0</td>\n",
       "      <td>English</td>\n",
       "      <td>up to 10</td>\n",
       "      <td>Consulting / Agency</td>\n",
       "    </tr>\n",
       "    <tr>\n",
       "      <th>17</th>\n",
       "      <td>579</td>\n",
       "      <td>25.0</td>\n",
       "      <td>Male</td>\n",
       "      <td>Berlin</td>\n",
       "      <td>Software Engineer</td>\n",
       "      <td>No</td>\n",
       "      <td>5</td>\n",
       "      <td>1</td>\n",
       "      <td>Senior</td>\n",
       "      <td>Node.js</td>\n",
       "      <td>...</td>\n",
       "      <td>57000.0</td>\n",
       "      <td>NaN</td>\n",
       "      <td>NaN</td>\n",
       "      <td>NaN</td>\n",
       "      <td>24</td>\n",
       "      <td>Full-time employee</td>\n",
       "      <td>Temporary contract</td>\n",
       "      <td>English</td>\n",
       "      <td>up to 10</td>\n",
       "      <td>Consulting / Agency</td>\n",
       "    </tr>\n",
       "    <tr>\n",
       "      <th>18</th>\n",
       "      <td>770</td>\n",
       "      <td>30.0</td>\n",
       "      <td>Male</td>\n",
       "      <td>Berlin</td>\n",
       "      <td>Mobile Developer</td>\n",
       "      <td>Yes</td>\n",
       "      <td>8</td>\n",
       "      <td>5</td>\n",
       "      <td>Senior</td>\n",
       "      <td>Swift</td>\n",
       "      <td>...</td>\n",
       "      <td>60000.0</td>\n",
       "      <td>NaN</td>\n",
       "      <td>NaN</td>\n",
       "      <td>NaN</td>\n",
       "      <td>50</td>\n",
       "      <td>Self-employed (freelancer)</td>\n",
       "      <td>Temporary contract</td>\n",
       "      <td>English</td>\n",
       "      <td>up to 10</td>\n",
       "      <td>Consulting / Agency</td>\n",
       "    </tr>\n",
       "    <tr>\n",
       "      <th>19</th>\n",
       "      <td>860</td>\n",
       "      <td>27.0</td>\n",
       "      <td>Male</td>\n",
       "      <td>Berlin</td>\n",
       "      <td>Data Scientist</td>\n",
       "      <td>Yes</td>\n",
       "      <td>4</td>\n",
       "      <td>2</td>\n",
       "      <td>Junior</td>\n",
       "      <td>Python</td>\n",
       "      <td>...</td>\n",
       "      <td>60000.0</td>\n",
       "      <td>80000</td>\n",
       "      <td>NaN</td>\n",
       "      <td>NaN</td>\n",
       "      <td>15</td>\n",
       "      <td>Full-time employee</td>\n",
       "      <td>Temporary contract</td>\n",
       "      <td>English</td>\n",
       "      <td>51 to 100</td>\n",
       "      <td>Consulting / Agency</td>\n",
       "    </tr>\n",
       "  </tbody>\n",
       "</table>\n",
       "<p>20 rows × 21 columns</p>\n",
       "</div>"
      ],
      "text/plain": [
       "    Index   Age  Gender                   City                    Position   \\\n",
       "0     250  28.0    Male                 Munich        Network Administrator   \n",
       "1     896  39.0  Female             Stuttgart              Project manager    \n",
       "2     260  35.0    Male              Frankfurt                       Banker   \n",
       "3     661  32.0    Male              Amsterdam             Mobile Developer   \n",
       "4     993  35.0  Female                 Munich               Data Scientist   \n",
       "5    1100  22.0    Male              Frankfurt            Software Engineer   \n",
       "6     334  31.0    Male                 Moscow               Data Scientist   \n",
       "7     246  30.0  Female              Frankfurt                  QA Engineer   \n",
       "8     154  40.0  Female                 Munich            Software Engineer   \n",
       "9    1018  35.0    Male  Murnau am Staffelsee                       Beikoch   \n",
       "10    207  25.0    Male                 Berlin            Software Engineer   \n",
       "11    635  41.0    Male                 Berlin                       DevOps   \n",
       "12    142  34.0    Male                 Munich              Cloud Architect   \n",
       "13    642  32.0    Male                 Berlin            Software Engineer   \n",
       "14    184  36.0    Male              Rosenheim         Data Science Manager   \n",
       "15    358  26.0    Male              Karlsruhe            Software Engineer   \n",
       "16    575  38.0    Male                 Berlin  Freelance AI lead / advisor   \n",
       "17    579  25.0    Male                 Berlin            Software Engineer   \n",
       "18    770  30.0    Male                 Berlin             Mobile Developer   \n",
       "19    860  27.0    Male                 Berlin               Data Scientist   \n",
       "\n",
       "   Quit YearsOverall YearsGer Seniority  \\\n",
       "0    No            9        3    Senior   \n",
       "1    No           13       13    Senior   \n",
       "2    No           12        2    Senior   \n",
       "3    No           13      NaN    Senior   \n",
       "4    No            5        2    Senior   \n",
       "5   Yes            2        2    Junior   \n",
       "6   Yes          2.5        0      Lead   \n",
       "7    No            6        4    Senior   \n",
       "8    No           20        7    Middle   \n",
       "9    No            1        1    Middle   \n",
       "10   No            6        1    Middle   \n",
       "11   No           20       14    Senior   \n",
       "12   No           10        4    Senior   \n",
       "13  Yes           10        7      Lead   \n",
       "14  Yes           12      0.5   Manager   \n",
       "15   No            5        5       NaN   \n",
       "16  Yes           20        7      Head   \n",
       "17   No            5        1    Senior   \n",
       "18  Yes            8        5    Senior   \n",
       "19  Yes            4        2    Junior   \n",
       "\n",
       "                                             MainTech  ... BasicSalary  \\\n",
       "0                                             Network  ...     61200.0   \n",
       "1                                                 NaN  ...    108000.0   \n",
       "2                                                 NaN  ...    100000.0   \n",
       "3                                              Kotlin  ...     85000.0   \n",
       "4                                      SAS,SQL,Python  ...     75000.0   \n",
       "5                                                Java  ...     45000.0   \n",
       "6                                              Python  ...     20000.0   \n",
       "7                                                Bash  ...     70000.0   \n",
       "8                                                Java  ...     54000.0   \n",
       "9                                           Apotheker  ...     30000.0   \n",
       "10                                               Java  ...     61500.0   \n",
       "11  Linux/UNIX, GIT, Virtualisation Platforms, *sh...  ...     58800.0   \n",
       "12                                         Azure, SAP  ...    120000.0   \n",
       "13                                         TypeScript  ...    120000.0   \n",
       "14                                             Python  ...     89200.0   \n",
       "15                                                NaN  ...     55000.0   \n",
       "16                                                  C  ...    200000.0   \n",
       "17                                            Node.js  ...     57000.0   \n",
       "18                                              Swift  ...     60000.0   \n",
       "19                                             Python  ...     60000.0   \n",
       "\n",
       "    SalaryBonus LY_Salary  LY_Bonus VacDays                  EmplStatus  \\\n",
       "0          7300   53300.0      6200      30          Full-time employee   \n",
       "1             0  102000.0         0      30          Full-time employee   \n",
       "2         32000       NaN       NaN     NaN          Full-time employee   \n",
       "3         89000   80000.0     84000      27          Full-time employee   \n",
       "4         10000       NaN       NaN      30          Full-time employee   \n",
       "5          7000   37000.0      3000      30          Full-time employee   \n",
       "6          6500   17000.0      3500      30          Full-time employee   \n",
       "7          2000   70000.0      2000      30          Full-time employee   \n",
       "8           NaN   54000.0       NaN      30          Full-time employee   \n",
       "9          1000       NaN       NaN      20          Full-time employee   \n",
       "10        26000       NaN       NaN      28          Full-time employee   \n",
       "11        20700   56400.0     17000      35          Full-time employee   \n",
       "12        40000   70000.0     30000      30          Full-time employee   \n",
       "13            0   90000.0         0       0  Self-employed (freelancer)   \n",
       "14        17800       NaN       NaN     NaN          Full-time employee   \n",
       "15            0   52000.0         0      30          Full-time employee   \n",
       "16       200000   80000.0     80000       0  Self-employed (freelancer)   \n",
       "17          NaN       NaN       NaN      24          Full-time employee   \n",
       "18          NaN       NaN       NaN      50  Self-employed (freelancer)   \n",
       "19        80000       NaN       NaN      15          Full-time employee   \n",
       "\n",
       "              Contract   Language      CusSize              CusArea  \n",
       "0   Unlimited contract    English        1000+           Automotive  \n",
       "1   Unlimited contract     German        1000+          Automotive   \n",
       "2   Unlimited contract    English  101 to 1000                 Bank  \n",
       "3   Unlimited contract    English        1000+                 Bank  \n",
       "4   Unlimited contract    English        1000+                 Bank  \n",
       "5   Unlimited contract     German        1000+                 Bank  \n",
       "6   Unlimited contract    Russian        1000+                 Bank  \n",
       "7   Unlimited contract     German        1000+                Bank   \n",
       "8   Unlimited contract     German  101 to 1000             BehÃ¶rde  \n",
       "9   Temporary contract     German     up to 10          Biergarten   \n",
       "10  Unlimited contract    English        1000+       Big commercial  \n",
       "11  Unlimited contract     German        1000+    Bloody enterprise  \n",
       "12  Unlimited contract    English        1000+                Cloud  \n",
       "13  Temporary contract  Deuglisch        1000+              Concern  \n",
       "14  Unlimited contract    English        1000+         Construction  \n",
       "15  Unlimited contract      50/50     11 to 50  Consulting / Agency  \n",
       "16                   0    English     up to 10  Consulting / Agency  \n",
       "17  Temporary contract    English     up to 10  Consulting / Agency  \n",
       "18  Temporary contract    English     up to 10  Consulting / Agency  \n",
       "19  Temporary contract    English    51 to 100  Consulting / Agency  \n",
       "\n",
       "[20 rows x 21 columns]"
      ]
     },
     "execution_count": 103,
     "metadata": {},
     "output_type": "execute_result"
    }
   ],
   "source": [
    "# Show the first 20 rows of the data\n",
    "data.head(20)"
   ]
  },
  {
   "cell_type": "code",
   "execution_count": 104,
   "metadata": {},
   "outputs": [],
   "source": [
    "# Unrelevant columns löschen\n",
    "# Lösche die Spalte Index\n",
    "data = data.drop(['Index'], axis=1)"
   ]
  },
  {
   "cell_type": "code",
   "execution_count": 105,
   "metadata": {},
   "outputs": [
    {
     "name": "stdout",
     "output_type": "stream",
     "text": [
      "<class 'pandas.core.frame.DataFrame'>\n",
      "RangeIndex: 1253 entries, 0 to 1252\n",
      "Data columns (total 20 columns):\n",
      " #   Column        Non-Null Count  Dtype  \n",
      "---  ------        --------------  -----  \n",
      " 0   Age           1226 non-null   float64\n",
      " 1   Gender        1243 non-null   object \n",
      " 2   City          1253 non-null   object \n",
      " 3   Position      1247 non-null   object \n",
      " 4   Quit          1234 non-null   object \n",
      " 5   YearsOverall  1237 non-null   object \n",
      " 6   YearsGer      1221 non-null   object \n",
      " 7   Seniority     1241 non-null   object \n",
      " 8   MainTech      1126 non-null   object \n",
      " 9   OtherTech     1096 non-null   object \n",
      " 10  BasicSalary   1252 non-null   float64\n",
      " 11  SalaryBonus   828 non-null    object \n",
      " 12  LY_Salary     884 non-null    float64\n",
      " 13  LY_Bonus      613 non-null    object \n",
      " 14  VacDays       1184 non-null   object \n",
      " 15  EmplStatus    1235 non-null   object \n",
      " 16  Contract      1223 non-null   object \n",
      " 17  Language      1236 non-null   object \n",
      " 18  CusSize       1234 non-null   object \n",
      " 19  CusArea       1227 non-null   object \n",
      "dtypes: float64(3), object(17)\n",
      "memory usage: 195.9+ KB\n"
     ]
    }
   ],
   "source": [
    "# Datatype and ohte information about the data\n",
    "data.info()"
   ]
  },
  {
   "cell_type": "markdown",
   "metadata": {},
   "source": [
    "Datensatez hat sehr viele ungünsige Datentypen"
   ]
  },
  {
   "cell_type": "code",
   "execution_count": 106,
   "metadata": {},
   "outputs": [
    {
     "name": "stdout",
     "output_type": "stream",
     "text": [
      "Index(['Age', 'Gender', 'City', 'Position ', 'Quit', 'YearsOverall',\n",
      "       'YearsGer', 'Seniority', 'MainTech', 'OtherTech', 'BasicSalary',\n",
      "       'SalaryBonus', 'LY_Salary', 'LY_Bonus', 'VacDays', 'EmplStatus',\n",
      "       'Contract', 'Language', 'CusSize', 'CusArea'],\n",
      "      dtype='object')\n",
      "20\n"
     ]
    }
   ],
   "source": [
    "# print all columns\n",
    "print(data.columns)\n",
    "# print count of columns\n",
    "print(len(data.columns))\n"
   ]
  },
  {
   "cell_type": "code",
   "execution_count": 107,
   "metadata": {},
   "outputs": [
    {
     "data": {
      "text/plain": [
       "array(['Network', nan, 'Kotlin', 'SAS,SQL,Python', 'Java', 'Python',\n",
       "       'Bash', 'Apotheker',\n",
       "       'Linux/UNIX, GIT, Virtualisation Platforms, *shell(s) scripts',\n",
       "       'Azure, SAP', 'TypeScript', 'C', 'Node.js', 'Swift', '.net',\n",
       "       'Atlassian JIRA', 'SQL', 'Java, JavaScript',\n",
       "       'Pegasystems platform ', 'iOS', 'PHP', 'Android', 'Java/Kotlin',\n",
       "       'javascript', 'Javascript', 'Jira', 'Qml', 'C#/.NET', 'java',\n",
       "       'AWS', 'Kubrrnetes', 'UML', 'Scala', 'JavaScript ', 'C++', 'C#',\n",
       "       'Frontend', 'Network Automation', 'Python, SQL', 'Elixir',\n",
       "       'PHP/MySQL', 'Embedded C++', 'JS', 'NodsJs', 'Linux',\n",
       "       'Kuberenetes, Openstack', 'PL/SQL', 'SAP', '.NET', 'Spark',\n",
       "       'Aws Hadoop Postgre Typescript', 'JavaScript', 'Java, JS', 'ABAP',\n",
       "       'Javascript / Typescript', 'VB, RPA, Python', '.Net', 'R',\n",
       "       'PowerShell', 'Test Management ',\n",
       "       'Python, Whole Apache Data Science Stack, AWS', 'Python + SQL',\n",
       "       'GCP', 'Typescript', 'Javascript ', 'Go', 'SAP BW / ABAP',\n",
       "       '.net, c++, spss, embeddded', 'Django, Flask, Plotly Dash',\n",
       "       'Angular', 'Charles', 'Java, terraform', 'Java & PHP',\n",
       "       'Tricentis Tosca', 'Google Cloud Platform', 'C, C++', 'Ruby',\n",
       "       'Spring', 'PM tools', 'Haskell', 'C# .NET', 'kotlin', 'NodeJS',\n",
       "       'Kubernetes', 'React', 'Ð¡#', 'JavaScript/ES6', 'Hardware', 'VHDL',\n",
       "       'PHP ', 'ML', 'Scala, React.js', 'Ml/Python', 'php', 'Cloud',\n",
       "       'DC Management', '--', 'SWIFT', 'Java, angular, Aws',\n",
       "       'Swift, objective-c', 'Golang', 'DevOps', 'nothing',\n",
       "       'Autonomous Driving', 'Js, TypeScript, Angular', 'go', 'T-SQL',\n",
       "       'Oracle', 'NodeJS, Typescript, AWS', 'Objective-C', 'QA', 'C++/C#',\n",
       "       'Typescript / Angular', 'Golang ', 'Java/C++',\n",
       "       'JavaScript/Typescript', 'JavaScript / typescript', 'JAVA',\n",
       "       'Apache Spark', 'Kotlin ', 'Android/Kotlin', 'embedded',\n",
       "       'Typescript, Web apps', 'Terraform ', 'Python, statistics, SQL',\n",
       "       'React ', 'Management', 'Java, Kotlin', 'TS', 'sql', 'C/C++',\n",
       "       'java/scala/go/clouds/devops', 'Java ', 'DWH', 'Sketch, Figma',\n",
       "       'js', 'k8s', 'Frontend: react, node.js', 'Swift, Objective-C, iOS',\n",
       "       'Embedded', 'JavaScript / TypeScript',\n",
       "       'networking, linux, automation, cloud', 'Js, reactJS ', 'SRE',\n",
       "       'Terraform, Kubernetes, AWS, GCP, Ansible, Puppet', 'swift',\n",
       "       'ÐžÑ„Ð¼Ñ„', 'React JS', 'Typescript ', 'TypeScript/Angular',\n",
       "       'golang', 'Kotlin/PHP', 'AI', 'C++/c', 'Grails, Groovy',\n",
       "       'React / JavaScript', 'JavScript', 'Python (Django)',\n",
       "       'python, scala', 'Node', 'Python/SQL', 'TypeScript, Kotlin',\n",
       "       'JavaScript, TypeScript', 'Java & Distributed Systems Stuff',\n",
       "       'jenkins bash', 'Angular, TypeScript', 'Php', 'JS, Java',\n",
       "       'Python/NLP', 'Scala, Apache Spark', 'c++', 'Swift, Objective-C',\n",
       "       'React.js / TypeScript', 'BI, DWH, ETL/ELT', 'Java / Scala',\n",
       "       'Ruby on Rails', 'C++, C#', '.Net, Angular', 'spark',\n",
       "       'consumer analysis', 'C++, Java, Embedded C', 'Figma',\n",
       "       'ruby on rails', 'Power BI', 'none', 'Agile', 'Java, Javascript',\n",
       "       'Qlik BI Tool, SQL', 'Pascal, VB.NET, C#', 'Java/Scala',\n",
       "       'Go, PHP, SQL', 'Linux Kernel', 'typescript', 'FBD', 'SAP / ABAP',\n",
       "       'Cobol', 'Angular, Typescript', 'Perl', 'C, Matlab',\n",
       "       'PS, Sketch, React, CSS3', 'Java Backend', 'Qlik', 'Web developer',\n",
       "       'SAP ABAP', 'Java/Groovy', 'Salesforce ',\n",
       "       'Sql, BQ, tableau, gtm, ga',\n",
       "       'Business Development Manager Operation ', 'NLP, Python',\n",
       "       'AWS, GCP, Python,K8s', 'Go/Python', 'Js', 'android',\n",
       "       'C#, .net core', 'JavaScript/TypeScript', 'yaml', '-',\n",
       "       'TypeScript, JavaScript', 'Blockchain', 'c#', 'Angular, React',\n",
       "       'Erlang', 'React/Typescript', 'Scala / Python',\n",
       "       'TypeScript, React', 'Python / JavaScript (React)', 'Terraform',\n",
       "       'Computer Networking,  Network Security ', 'Kotlin, Java',\n",
       "       'several', 'Java, .Net', 'Nodejs', 'Spark, Pytorch', 'Clojure',\n",
       "       'JS, WDIO', 'julia', 'Sql ', 'Kubernetes, Terraform, GCP', 'Sql',\n",
       "       'Javascript, Angular', 'php, js, python, docker', 'NodeJS/TS',\n",
       "       'Javascript/Typescript', 'c/c++', 'Python, Pytorch', 'Web',\n",
       "       'scala', 'Magento', 'Python, database technologies',\n",
       "       'Swift/Kotlin', 'Python, cloud computing ', 'Azure'], dtype=object)"
      ]
     },
     "execution_count": 107,
     "metadata": {},
     "output_type": "execute_result"
    }
   ],
   "source": [
    "# Von MainTech die individuellen Ausprägungen anzeigen lassen\n",
    "data['MainTech'].unique()"
   ]
  },
  {
   "cell_type": "code",
   "execution_count": 108,
   "metadata": {},
   "outputs": [
    {
     "data": {
      "text/html": [
       "<div>\n",
       "<style scoped>\n",
       "    .dataframe tbody tr th:only-of-type {\n",
       "        vertical-align: middle;\n",
       "    }\n",
       "\n",
       "    .dataframe tbody tr th {\n",
       "        vertical-align: top;\n",
       "    }\n",
       "\n",
       "    .dataframe thead th {\n",
       "        text-align: right;\n",
       "    }\n",
       "</style>\n",
       "<table border=\"1\" class=\"dataframe\">\n",
       "  <thead>\n",
       "    <tr style=\"text-align: right;\">\n",
       "      <th></th>\n",
       "      <th>Age</th>\n",
       "      <th>Gender</th>\n",
       "      <th>City</th>\n",
       "      <th>Position</th>\n",
       "      <th>Quit</th>\n",
       "      <th>YearsOverall</th>\n",
       "      <th>YearsGer</th>\n",
       "      <th>Seniority</th>\n",
       "      <th>MainTech</th>\n",
       "      <th>OtherTech</th>\n",
       "      <th>BasicSalary</th>\n",
       "      <th>SalaryBonus</th>\n",
       "      <th>LY_Salary</th>\n",
       "      <th>LY_Bonus</th>\n",
       "      <th>VacDays</th>\n",
       "      <th>EmplStatus</th>\n",
       "      <th>Contract</th>\n",
       "      <th>Language</th>\n",
       "      <th>CusSize</th>\n",
       "      <th>CusArea</th>\n",
       "    </tr>\n",
       "  </thead>\n",
       "  <tbody>\n",
       "    <tr>\n",
       "      <th>count</th>\n",
       "      <td>1226.000000</td>\n",
       "      <td>1243</td>\n",
       "      <td>1253</td>\n",
       "      <td>1247</td>\n",
       "      <td>1234</td>\n",
       "      <td>1237</td>\n",
       "      <td>1221</td>\n",
       "      <td>1241</td>\n",
       "      <td>1126</td>\n",
       "      <td>1096</td>\n",
       "      <td>1.252000e+03</td>\n",
       "      <td>828</td>\n",
       "      <td>8.840000e+02</td>\n",
       "      <td>613</td>\n",
       "      <td>1184</td>\n",
       "      <td>1235</td>\n",
       "      <td>1223</td>\n",
       "      <td>1236</td>\n",
       "      <td>1234</td>\n",
       "      <td>1227</td>\n",
       "    </tr>\n",
       "    <tr>\n",
       "      <th>unique</th>\n",
       "      <td>NaN</td>\n",
       "      <td>3</td>\n",
       "      <td>112</td>\n",
       "      <td>148</td>\n",
       "      <td>2</td>\n",
       "      <td>48</td>\n",
       "      <td>53</td>\n",
       "      <td>24</td>\n",
       "      <td>251</td>\n",
       "      <td>562</td>\n",
       "      <td>NaN</td>\n",
       "      <td>167</td>\n",
       "      <td>NaN</td>\n",
       "      <td>130</td>\n",
       "      <td>45</td>\n",
       "      <td>11</td>\n",
       "      <td>3</td>\n",
       "      <td>14</td>\n",
       "      <td>5</td>\n",
       "      <td>63</td>\n",
       "    </tr>\n",
       "    <tr>\n",
       "      <th>top</th>\n",
       "      <td>NaN</td>\n",
       "      <td>Male</td>\n",
       "      <td>Berlin</td>\n",
       "      <td>Software Engineer</td>\n",
       "      <td>No</td>\n",
       "      <td>10</td>\n",
       "      <td>2</td>\n",
       "      <td>Senior</td>\n",
       "      <td>Python</td>\n",
       "      <td>Javascript / Typescript</td>\n",
       "      <td>NaN</td>\n",
       "      <td>0</td>\n",
       "      <td>NaN</td>\n",
       "      <td>0</td>\n",
       "      <td>30</td>\n",
       "      <td>Full-time employee</td>\n",
       "      <td>Unlimited contract</td>\n",
       "      <td>English</td>\n",
       "      <td>1000+</td>\n",
       "      <td>Product</td>\n",
       "    </tr>\n",
       "    <tr>\n",
       "      <th>freq</th>\n",
       "      <td>NaN</td>\n",
       "      <td>1049</td>\n",
       "      <td>681</td>\n",
       "      <td>387</td>\n",
       "      <td>1005</td>\n",
       "      <td>138</td>\n",
       "      <td>195</td>\n",
       "      <td>565</td>\n",
       "      <td>214</td>\n",
       "      <td>44</td>\n",
       "      <td>NaN</td>\n",
       "      <td>227</td>\n",
       "      <td>NaN</td>\n",
       "      <td>200</td>\n",
       "      <td>488</td>\n",
       "      <td>1189</td>\n",
       "      <td>1158</td>\n",
       "      <td>1020</td>\n",
       "      <td>448</td>\n",
       "      <td>759</td>\n",
       "    </tr>\n",
       "    <tr>\n",
       "      <th>mean</th>\n",
       "      <td>32.509788</td>\n",
       "      <td>NaN</td>\n",
       "      <td>NaN</td>\n",
       "      <td>NaN</td>\n",
       "      <td>NaN</td>\n",
       "      <td>NaN</td>\n",
       "      <td>NaN</td>\n",
       "      <td>NaN</td>\n",
       "      <td>NaN</td>\n",
       "      <td>NaN</td>\n",
       "      <td>8.034313e+07</td>\n",
       "      <td>NaN</td>\n",
       "      <td>6.329228e+05</td>\n",
       "      <td>NaN</td>\n",
       "      <td>NaN</td>\n",
       "      <td>NaN</td>\n",
       "      <td>NaN</td>\n",
       "      <td>NaN</td>\n",
       "      <td>NaN</td>\n",
       "      <td>NaN</td>\n",
       "    </tr>\n",
       "    <tr>\n",
       "      <th>std</th>\n",
       "      <td>5.663804</td>\n",
       "      <td>NaN</td>\n",
       "      <td>NaN</td>\n",
       "      <td>NaN</td>\n",
       "      <td>NaN</td>\n",
       "      <td>NaN</td>\n",
       "      <td>NaN</td>\n",
       "      <td>NaN</td>\n",
       "      <td>NaN</td>\n",
       "      <td>NaN</td>\n",
       "      <td>2.826189e+09</td>\n",
       "      <td>NaN</td>\n",
       "      <td>1.681458e+07</td>\n",
       "      <td>NaN</td>\n",
       "      <td>NaN</td>\n",
       "      <td>NaN</td>\n",
       "      <td>NaN</td>\n",
       "      <td>NaN</td>\n",
       "      <td>NaN</td>\n",
       "      <td>NaN</td>\n",
       "    </tr>\n",
       "    <tr>\n",
       "      <th>min</th>\n",
       "      <td>20.000000</td>\n",
       "      <td>NaN</td>\n",
       "      <td>NaN</td>\n",
       "      <td>NaN</td>\n",
       "      <td>NaN</td>\n",
       "      <td>NaN</td>\n",
       "      <td>NaN</td>\n",
       "      <td>NaN</td>\n",
       "      <td>NaN</td>\n",
       "      <td>NaN</td>\n",
       "      <td>1.000100e+04</td>\n",
       "      <td>NaN</td>\n",
       "      <td>1.100000e+04</td>\n",
       "      <td>NaN</td>\n",
       "      <td>NaN</td>\n",
       "      <td>NaN</td>\n",
       "      <td>NaN</td>\n",
       "      <td>NaN</td>\n",
       "      <td>NaN</td>\n",
       "      <td>NaN</td>\n",
       "    </tr>\n",
       "    <tr>\n",
       "      <th>25%</th>\n",
       "      <td>29.000000</td>\n",
       "      <td>NaN</td>\n",
       "      <td>NaN</td>\n",
       "      <td>NaN</td>\n",
       "      <td>NaN</td>\n",
       "      <td>NaN</td>\n",
       "      <td>NaN</td>\n",
       "      <td>NaN</td>\n",
       "      <td>NaN</td>\n",
       "      <td>NaN</td>\n",
       "      <td>5.895000e+04</td>\n",
       "      <td>NaN</td>\n",
       "      <td>5.500000e+04</td>\n",
       "      <td>NaN</td>\n",
       "      <td>NaN</td>\n",
       "      <td>NaN</td>\n",
       "      <td>NaN</td>\n",
       "      <td>NaN</td>\n",
       "      <td>NaN</td>\n",
       "      <td>NaN</td>\n",
       "    </tr>\n",
       "    <tr>\n",
       "      <th>50%</th>\n",
       "      <td>32.000000</td>\n",
       "      <td>NaN</td>\n",
       "      <td>NaN</td>\n",
       "      <td>NaN</td>\n",
       "      <td>NaN</td>\n",
       "      <td>NaN</td>\n",
       "      <td>NaN</td>\n",
       "      <td>NaN</td>\n",
       "      <td>NaN</td>\n",
       "      <td>NaN</td>\n",
       "      <td>7.000000e+04</td>\n",
       "      <td>NaN</td>\n",
       "      <td>6.500000e+04</td>\n",
       "      <td>NaN</td>\n",
       "      <td>NaN</td>\n",
       "      <td>NaN</td>\n",
       "      <td>NaN</td>\n",
       "      <td>NaN</td>\n",
       "      <td>NaN</td>\n",
       "      <td>NaN</td>\n",
       "    </tr>\n",
       "    <tr>\n",
       "      <th>75%</th>\n",
       "      <td>35.000000</td>\n",
       "      <td>NaN</td>\n",
       "      <td>NaN</td>\n",
       "      <td>NaN</td>\n",
       "      <td>NaN</td>\n",
       "      <td>NaN</td>\n",
       "      <td>NaN</td>\n",
       "      <td>NaN</td>\n",
       "      <td>NaN</td>\n",
       "      <td>NaN</td>\n",
       "      <td>8.000000e+04</td>\n",
       "      <td>NaN</td>\n",
       "      <td>7.500000e+04</td>\n",
       "      <td>NaN</td>\n",
       "      <td>NaN</td>\n",
       "      <td>NaN</td>\n",
       "      <td>NaN</td>\n",
       "      <td>NaN</td>\n",
       "      <td>NaN</td>\n",
       "      <td>NaN</td>\n",
       "    </tr>\n",
       "    <tr>\n",
       "      <th>max</th>\n",
       "      <td>69.000000</td>\n",
       "      <td>NaN</td>\n",
       "      <td>NaN</td>\n",
       "      <td>NaN</td>\n",
       "      <td>NaN</td>\n",
       "      <td>NaN</td>\n",
       "      <td>NaN</td>\n",
       "      <td>NaN</td>\n",
       "      <td>NaN</td>\n",
       "      <td>NaN</td>\n",
       "      <td>1.000000e+11</td>\n",
       "      <td>NaN</td>\n",
       "      <td>5.000000e+08</td>\n",
       "      <td>NaN</td>\n",
       "      <td>NaN</td>\n",
       "      <td>NaN</td>\n",
       "      <td>NaN</td>\n",
       "      <td>NaN</td>\n",
       "      <td>NaN</td>\n",
       "      <td>NaN</td>\n",
       "    </tr>\n",
       "  </tbody>\n",
       "</table>\n",
       "</div>"
      ],
      "text/plain": [
       "                Age Gender    City          Position   Quit YearsOverall  \\\n",
       "count   1226.000000   1243    1253               1247  1234         1237   \n",
       "unique          NaN      3     112                148     2           48   \n",
       "top             NaN   Male  Berlin  Software Engineer    No           10   \n",
       "freq            NaN   1049     681                387  1005          138   \n",
       "mean      32.509788    NaN     NaN                NaN   NaN          NaN   \n",
       "std        5.663804    NaN     NaN                NaN   NaN          NaN   \n",
       "min       20.000000    NaN     NaN                NaN   NaN          NaN   \n",
       "25%       29.000000    NaN     NaN                NaN   NaN          NaN   \n",
       "50%       32.000000    NaN     NaN                NaN   NaN          NaN   \n",
       "75%       35.000000    NaN     NaN                NaN   NaN          NaN   \n",
       "max       69.000000    NaN     NaN                NaN   NaN          NaN   \n",
       "\n",
       "       YearsGer Seniority MainTech                OtherTech   BasicSalary  \\\n",
       "count      1221      1241     1126                     1096  1.252000e+03   \n",
       "unique       53        24      251                      562           NaN   \n",
       "top           2    Senior   Python  Javascript / Typescript           NaN   \n",
       "freq        195       565      214                       44           NaN   \n",
       "mean        NaN       NaN      NaN                      NaN  8.034313e+07   \n",
       "std         NaN       NaN      NaN                      NaN  2.826189e+09   \n",
       "min         NaN       NaN      NaN                      NaN  1.000100e+04   \n",
       "25%         NaN       NaN      NaN                      NaN  5.895000e+04   \n",
       "50%         NaN       NaN      NaN                      NaN  7.000000e+04   \n",
       "75%         NaN       NaN      NaN                      NaN  8.000000e+04   \n",
       "max         NaN       NaN      NaN                      NaN  1.000000e+11   \n",
       "\n",
       "       SalaryBonus     LY_Salary LY_Bonus VacDays          EmplStatus  \\\n",
       "count          828  8.840000e+02      613    1184                1235   \n",
       "unique         167           NaN      130      45                  11   \n",
       "top              0           NaN        0      30  Full-time employee   \n",
       "freq           227           NaN      200     488                1189   \n",
       "mean           NaN  6.329228e+05      NaN     NaN                 NaN   \n",
       "std            NaN  1.681458e+07      NaN     NaN                 NaN   \n",
       "min            NaN  1.100000e+04      NaN     NaN                 NaN   \n",
       "25%            NaN  5.500000e+04      NaN     NaN                 NaN   \n",
       "50%            NaN  6.500000e+04      NaN     NaN                 NaN   \n",
       "75%            NaN  7.500000e+04      NaN     NaN                 NaN   \n",
       "max            NaN  5.000000e+08      NaN     NaN                 NaN   \n",
       "\n",
       "                  Contract Language CusSize  CusArea  \n",
       "count                 1223     1236    1234     1227  \n",
       "unique                   3       14       5       63  \n",
       "top     Unlimited contract  English   1000+  Product  \n",
       "freq                  1158     1020     448      759  \n",
       "mean                   NaN      NaN     NaN      NaN  \n",
       "std                    NaN      NaN     NaN      NaN  \n",
       "min                    NaN      NaN     NaN      NaN  \n",
       "25%                    NaN      NaN     NaN      NaN  \n",
       "50%                    NaN      NaN     NaN      NaN  \n",
       "75%                    NaN      NaN     NaN      NaN  \n",
       "max                    NaN      NaN     NaN      NaN  "
      ]
     },
     "execution_count": 108,
     "metadata": {},
     "output_type": "execute_result"
    }
   ],
   "source": [
    "# describe the data\n",
    "data.describe(include='all')"
   ]
  },
  {
   "cell_type": "code",
   "execution_count": 109,
   "metadata": {},
   "outputs": [
    {
     "data": {
      "text/plain": [
       "array([28., 39., 35., 32., 22., 31., 30., 40., 25., 41., 34., 36., 26.,\n",
       "       38., 27., 24., 52., 33., 37., 29., 23., 44., 54., nan, 45., 46.,\n",
       "       43., 49., 51., 47., 69., 50., 42., 48., 20., 56., 59., 66., 53.,\n",
       "       65., 21.])"
      ]
     },
     "execution_count": 109,
     "metadata": {},
     "output_type": "execute_result"
    }
   ],
   "source": [
    "# Gibt die unique values von Age aus\n",
    "data['Age'].unique()"
   ]
  },
  {
   "cell_type": "code",
   "execution_count": 110,
   "metadata": {},
   "outputs": [],
   "source": [
    "# streudiagramm für alle variablen\n",
    "#ﬁﬁﬁ sns.pairplot(data)"
   ]
  },
  {
   "cell_type": "markdown",
   "metadata": {},
   "source": [
    "numeric_features = clean_df.select_dtypes(include=[np.number])\n",
    "numeric_features.dtypes\n",
    "\n",
    "features ="
   ]
  },
  {
   "cell_type": "markdown",
   "metadata": {},
   "source": [
    "# Großes Diagramm \n",
    "fig, axs = plt.subplots(4, 3, figsize=(30, 24))\n",
    "\n",
    "for i, feature in enumerate(features):\n",
    "    row = i // 3\n",
    "    col = i % 3\n",
    "    sns.histplot(numeric_features[clean_df.booking_status == 1][feature],\n",
    "                 bins=100,\n",
    "                 color='green',\n",
    "                 label='not canceled',\n",
    "                 kde=True,\n",
    "                 stat='density',\n",
    "                 kde_kws=dict(cut=3),\n",
    "                 alpha=0.4,\n",
    "                 linewidth=0.25,\n",
    "                 ax=axs[row, col])\n",
    "    sns.histplot(numeric_features[clean_df.booking_status == 0][feature],\n",
    "                 bins=100,\n",
    "                 color='red',\n",
    "                 label='canceled',\n",
    "                 kde=True,\n",
    "                 stat='density',\n",
    "                 kde_kws=dict(cut=3),\n",
    "                 alpha=0.4,\n",
    "                 linewidth=0.25,\n",
    "                 ax=axs[row, col])\n",
    "    axs[row, col].set_title(f'Verteilung von {feature}')\n",
    "    axs[row, col].legend()\n",
    "\n",
    "plt.tight_layout()\n",
    "plt.show()"
   ]
  },
  {
   "cell_type": "markdown",
   "metadata": {},
   "source": [
    "# Show correlations in a heatmap between all variables\n",
    "# Create correlation matrix\n",
    "corr_matrix = data.corr().round(2)\n",
    "\n",
    "\n",
    "# Create a heatmap\n",
    "sns.heatmap(data=corr_matrix, annot=True)\n"
   ]
  },
  {
   "cell_type": "code",
   "execution_count": 111,
   "metadata": {},
   "outputs": [],
   "source": [
    "# "
   ]
  },
  {
   "cell_type": "markdown",
   "metadata": {},
   "source": [
    "# 2. Data Preparation"
   ]
  },
  {
   "cell_type": "markdown",
   "metadata": {},
   "source": [
    "## 2.1 Überprüfung fehlender Werte"
   ]
  },
  {
   "cell_type": "code",
   "execution_count": 112,
   "metadata": {},
   "outputs": [],
   "source": [
    "# Kopie des Datensatzes erstellen für die weitere Bearbeitung\n",
    "data_clean = data.copy()"
   ]
  },
  {
   "cell_type": "code",
   "execution_count": 113,
   "metadata": {},
   "outputs": [
    {
     "data": {
      "text/plain": [
       "Age              27\n",
       "Gender           10\n",
       "City              0\n",
       "Position          6\n",
       "Quit             19\n",
       "YearsOverall     16\n",
       "YearsGer         32\n",
       "Seniority        12\n",
       "MainTech        127\n",
       "OtherTech       157\n",
       "BasicSalary       1\n",
       "SalaryBonus     425\n",
       "LY_Salary       369\n",
       "LY_Bonus        640\n",
       "VacDays          69\n",
       "EmplStatus       18\n",
       "Contract         30\n",
       "Language         17\n",
       "CusSize          19\n",
       "CusArea          26\n",
       "dtype: int64"
      ]
     },
     "execution_count": 113,
     "metadata": {},
     "output_type": "execute_result"
    }
   ],
   "source": [
    "# Überprüfung auf leere Werte\n",
    "data_clean.isnull().sum()"
   ]
  },
  {
   "cell_type": "code",
   "execution_count": 114,
   "metadata": {},
   "outputs": [
    {
     "data": {
      "text/plain": [
       "<Axes: >"
      ]
     },
     "execution_count": 114,
     "metadata": {},
     "output_type": "execute_result"
    },
    {
     "data": {
      "image/png": "[encoded data removed]",
      "text/plain": [
       "<Figure size 640x480 with 1 Axes>"
      ]
     },
     "metadata": {},
     "output_type": "display_data"
    }
   ],
   "source": [
    "# Zeige die Alter in einem Histogramm\n",
    "data_clean['Age'].hist(bins=50)"
   ]
  },
  {
   "cell_type": "code",
   "execution_count": 115,
   "metadata": {},
   "outputs": [
    {
     "data": {
      "text/plain": [
       "32.0"
      ]
     },
     "execution_count": 115,
     "metadata": {},
     "output_type": "execute_result"
    }
   ],
   "source": [
    "# zeige mir den Median für alter an\n",
    "data_clean['Age'].median()"
   ]
  },
  {
   "cell_type": "code",
   "execution_count": 116,
   "metadata": {},
   "outputs": [],
   "source": [
    "# Ersetze die leeren Werte mit dem Median\n",
    "data_clean['Age'] = data_clean['Age'].fillna(data_clean['Age'].median())"
   ]
  },
  {
   "cell_type": "code",
   "execution_count": 117,
   "metadata": {},
   "outputs": [],
   "source": [
    "# wandle Age in int um\n",
    "data_clean['Age'] = data_clean['Age'].astype(int)"
   ]
  },
  {
   "cell_type": "code",
   "execution_count": 118,
   "metadata": {},
   "outputs": [
    {
     "name": "stdout",
     "output_type": "stream",
     "text": [
      "Male       1049\n",
      "Female      192\n",
      "Diverse       2\n",
      "Name: Gender, dtype: int64\n"
     ]
    },
    {
     "data": {
      "image/png": "[encoded data removed]",
      "text/plain": [
       "<Figure size 640x480 with 1 Axes>"
      ]
     },
     "metadata": {},
     "output_type": "display_data"
    }
   ],
   "source": [
    "# Zeige ein Gender in einem barplot an\n",
    "gender_counts = data_clean['Gender'].value_counts()\n",
    "print(gender_counts)\n",
    "\n",
    "gender_counts.plot(kind='bar')\n",
    "plt.xlabel('gender')\n",
    "plt.ylabel('Count')\n",
    "plt.title('Distribution of Gender')\n",
    "plt.show()\n"
   ]
  },
  {
   "cell_type": "code",
   "execution_count": 119,
   "metadata": {},
   "outputs": [],
   "source": [
    "# Lösche in der Spalte Gender alle leeren Werte\n",
    "data_clean = data_clean.dropna(subset=['Gender'])\n",
    "# Lösche in der Spalte Gender alle Werte die Diverse enthalten\n",
    "data_clean = data_clean[data_clean['Gender'] != 'Diverse']\n"
   ]
  },
  {
   "cell_type": "code",
   "execution_count": 120,
   "metadata": {},
   "outputs": [
    {
     "name": "stdout",
     "output_type": "stream",
     "text": [
      "Male      1049\n",
      "Female     192\n",
      "Name: Gender, dtype: int64\n"
     ]
    },
    {
     "data": {
      "image/png": "[encoded data removed]",
      "text/plain": [
       "<Figure size 640x480 with 1 Axes>"
      ]
     },
     "metadata": {},
     "output_type": "display_data"
    }
   ],
   "source": [
    "# Zeige ein Gender in einem barplot an\n",
    "gender_counts = data_clean['Gender'].value_counts()\n",
    "print(gender_counts)\n",
    "\n",
    "gender_counts.plot(kind='bar')\n",
    "plt.xlabel('gender')\n",
    "plt.ylabel('Count')\n",
    "plt.title('Distribution of Gender')\n",
    "plt.show()\n"
   ]
  },
  {
   "cell_type": "code",
   "execution_count": 121,
   "metadata": {},
   "outputs": [],
   "source": [
    "# Lösche die fehlenden Werte in der Position\n",
    "data_clean = data_clean.dropna(subset=['Position '])\n",
    "# Lösche die fhenlenden Werte in der Spalte Quit \n",
    "data_clean = data_clean.dropna(subset=['Quit'])"
   ]
  },
  {
   "cell_type": "markdown",
   "metadata": {},
   "source": [
    "Postion hat am Ende ein leer Zeichen also umbennen"
   ]
  },
  {
   "cell_type": "code",
   "execution_count": 122,
   "metadata": {},
   "outputs": [],
   "source": [
    "# Nenne die Spalte Poistion um in Position\n",
    "data_clean = data_clean.rename(columns={'Position ': 'Position'})"
   ]
  },
  {
   "cell_type": "code",
   "execution_count": 123,
   "metadata": {},
   "outputs": [
    {
     "data": {
      "text/plain": [
       "array(['9', '13', '12', '5', '2', '2.5', '6', '20', '1', '10', '8', '4',\n",
       "       '3', '0.8', nan, '7', '11', '14', '15', '17', '31', '27', '25',\n",
       "       '1,5', '18', '1.5', '23', '21', '30', '16', '0', '3.5', '383',\n",
       "       '29', '15, thereof 8 as CTO', '19', '6.5', '7.5', '22', '28', '24',\n",
       "       '2,5', '40', '26', '5.5', '1 (as QA Engineer) / 11 in total',\n",
       "       '6 (not as a data scientist, but as a lab scientist)', '4.5',\n",
       "       'less than year'], dtype=object)"
      ]
     },
     "execution_count": 123,
     "metadata": {},
     "output_type": "execute_result"
    }
   ],
   "source": [
    "# Zeige die unique values von YearsOverall \n",
    "data_clean['YearsOverall'].unique()"
   ]
  },
  {
   "cell_type": "code",
   "execution_count": 124,
   "metadata": {},
   "outputs": [],
   "source": [
    "# Ändere 1 (as QA Engineer) / 11 in total in 11 um\n",
    "data_clean['YearsOverall'] = data_clean['YearsOverall'].replace('1 (as QA Engineer) / 11 in total', '11')\n",
    "# Ändere 6 (not as a data scientist, but as a lab scientist in 6 um\n",
    "data_clean['YearsOverall'] = data_clean['YearsOverall'].replace('6 (not as a data scientist, but as a lab scientist)', '6')\n",
    "# Ändere less than year in 0\n",
    "data_clean['YearsOverall'] = data_clean['YearsOverall'].replace('less than year', '0')\n",
    "# Ändere 1,5 in 1.5 \n",
    "data_clean['YearsOverall'] = data_clean['YearsOverall'].replace('1,5', '1.5')\n",
    "# Ändere 15, thereof 8 as CTO in 15 um\n",
    "data_clean['YearsOverall'] = data_clean['YearsOverall'].replace('15, thereof 8 as CTO', '15')\n",
    "# Ändere 2,5 in 2.5\n",
    "data_clean['YearsOverall'] = data_clean['YearsOverall'].replace('2,5', '2.5')\n",
    "\n"
   ]
  },
  {
   "cell_type": "code",
   "execution_count": 125,
   "metadata": {},
   "outputs": [
    {
     "data": {
      "text/plain": [
       "array(['9', '13', '12', '5', '2', '2.5', '6', '20', '1', '10', '8', '4',\n",
       "       '3', '0.8', nan, '7', '11', '14', '15', '17', '31', '27', '25',\n",
       "       '1.5', '18', '23', '21', '30', '16', '0', '3.5', '383', '29', '19',\n",
       "       '6.5', '7.5', '22', '28', '24', '40', '26', '5.5', '4.5'],\n",
       "      dtype=object)"
      ]
     },
     "execution_count": 125,
     "metadata": {},
     "output_type": "execute_result"
    }
   ],
   "source": [
    "# Zeige die unique values von YearsOverall \n",
    "data_clean['YearsOverall'].unique()"
   ]
  },
  {
   "cell_type": "code",
   "execution_count": 126,
   "metadata": {},
   "outputs": [],
   "source": [
    "# Lösche die leeren Werte in der Spalte YearsOverall\n",
    "data_clean = data_clean.dropna(subset=['YearsOverall'])\n",
    "# Lösche 385 in der Spalte YearsOverall\n",
    "data_clean = data_clean[data_clean['YearsOverall'] != 383]\n",
    "# Wandel YearsOverall in float um\n",
    "data_clean['YearsOverall'] = data_clean['YearsOverall'].astype(float)"
   ]
  },
  {
   "cell_type": "code",
   "execution_count": 127,
   "metadata": {},
   "outputs": [
    {
     "data": {
      "text/plain": [
       "<Axes: >"
      ]
     },
     "execution_count": 127,
     "metadata": {},
     "output_type": "execute_result"
    },
    {
     "data": {
      "image/png": "[encoded data removed]",
      "text/plain": [
       "<Figure size 640x480 with 1 Axes>"
      ]
     },
     "metadata": {},
     "output_type": "display_data"
    }
   ],
   "source": [
    "# Gib eine Grafik für YearsOverall aus\n",
    "data_clean['YearsOverall'].hist(bins=50)"
   ]
  },
  {
   "cell_type": "code",
   "execution_count": 128,
   "metadata": {},
   "outputs": [
    {
     "data": {
      "text/plain": [
       "<Axes: >"
      ]
     },
     "execution_count": 128,
     "metadata": {},
     "output_type": "execute_result"
    },
    {
     "data": {
      "image/png": "[encoded data removed]",
      "text/plain": [
       "<Figure size 640x480 with 1 Axes>"
      ]
     },
     "metadata": {},
     "output_type": "display_data"
    }
   ],
   "source": [
    "# Declare a variable that is equal to the 99th percentile of the 'Price' variable\n",
    "q = data_clean['YearsOverall'].quantile(0.995)\n",
    "\n",
    "# Create a new data file with the condition that all prices must be below the 99th percentile of 'Price'\n",
    "# Remove the top 1% of the data about 'PreisTicket'\n",
    "data_clean = data_clean[data_clean['YearsOverall'] < q]\n",
    "\n",
    "data_clean['YearsOverall'].hist(bins=50)"
   ]
  },
  {
   "cell_type": "code",
   "execution_count": 129,
   "metadata": {},
   "outputs": [
    {
     "data": {
      "text/plain": [
       "array(['3', '13', '2', nan, '0', '4', '7', '1', '14', '0.5', '5',\n",
       "       'â\\x81°', '0.2', '10', '1.5', '4,5', '6', '0.25',\n",
       "       '4 (in Switzerland), 0 (in Germany)', '3 (in Poland)', '20', '2.5',\n",
       "       '15', '1,5', '8', '18', '12', '9', '3.5', '16', '19', '11', '0,3',\n",
       "       '0.4', '0.8', '3,5', '0.9', '4 month', '2,5', '0,5', '4.5', '0.1',\n",
       "       '2.6', '<1', '-', '25',\n",
       "       '6 (not as a data scientist, but as a lab scientist)', '3 months',\n",
       "       '1,7', 'less than year', '26', '< 1'], dtype=object)"
      ]
     },
     "execution_count": 129,
     "metadata": {},
     "output_type": "execute_result"
    }
   ],
   "source": [
    "# unique values von für YearsGer\n",
    "data_clean['YearsGer'].unique()"
   ]
  },
  {
   "cell_type": "code",
   "execution_count": 130,
   "metadata": {},
   "outputs": [],
   "source": [
    "# Lösche die Spalte YearsGer\n",
    "data_clean = data_clean.drop(['YearsGer'], axis=1)"
   ]
  },
  {
   "cell_type": "code",
   "execution_count": 131,
   "metadata": {},
   "outputs": [],
   "source": [
    "# Lösche die fehlenden Werte in der Spalte Seniority\n",
    "data_clean = data_clean.dropna(subset=['Seniority'])\n"
   ]
  },
  {
   "cell_type": "code",
   "execution_count": 132,
   "metadata": {},
   "outputs": [
    {
     "data": {
      "text/html": [
       "<div>\n",
       "<style scoped>\n",
       "    .dataframe tbody tr th:only-of-type {\n",
       "        vertical-align: middle;\n",
       "    }\n",
       "\n",
       "    .dataframe tbody tr th {\n",
       "        vertical-align: top;\n",
       "    }\n",
       "\n",
       "    .dataframe thead th {\n",
       "        text-align: right;\n",
       "    }\n",
       "</style>\n",
       "<table border=\"1\" class=\"dataframe\">\n",
       "  <thead>\n",
       "    <tr style=\"text-align: right;\">\n",
       "      <th></th>\n",
       "      <th>Age</th>\n",
       "      <th>Gender</th>\n",
       "      <th>City</th>\n",
       "      <th>Position</th>\n",
       "      <th>Quit</th>\n",
       "      <th>YearsOverall</th>\n",
       "      <th>Seniority</th>\n",
       "      <th>MainTech</th>\n",
       "      <th>OtherTech</th>\n",
       "      <th>BasicSalary</th>\n",
       "      <th>SalaryBonus</th>\n",
       "      <th>LY_Salary</th>\n",
       "      <th>LY_Bonus</th>\n",
       "      <th>VacDays</th>\n",
       "      <th>EmplStatus</th>\n",
       "      <th>Contract</th>\n",
       "      <th>Language</th>\n",
       "      <th>CusSize</th>\n",
       "      <th>CusArea</th>\n",
       "    </tr>\n",
       "  </thead>\n",
       "  <tbody>\n",
       "    <tr>\n",
       "      <th>0</th>\n",
       "      <td>28</td>\n",
       "      <td>Male</td>\n",
       "      <td>Munich</td>\n",
       "      <td>Network Administrator</td>\n",
       "      <td>No</td>\n",
       "      <td>9.0</td>\n",
       "      <td>Senior</td>\n",
       "      <td>Network</td>\n",
       "      <td>NaN</td>\n",
       "      <td>61200.0</td>\n",
       "      <td>7300</td>\n",
       "      <td>53300.0</td>\n",
       "      <td>6200</td>\n",
       "      <td>30</td>\n",
       "      <td>Full-time employee</td>\n",
       "      <td>Unlimited contract</td>\n",
       "      <td>English</td>\n",
       "      <td>1000+</td>\n",
       "      <td>Automotive</td>\n",
       "    </tr>\n",
       "    <tr>\n",
       "      <th>1</th>\n",
       "      <td>39</td>\n",
       "      <td>Female</td>\n",
       "      <td>Stuttgart</td>\n",
       "      <td>Project manager</td>\n",
       "      <td>No</td>\n",
       "      <td>13.0</td>\n",
       "      <td>Senior</td>\n",
       "      <td>NaN</td>\n",
       "      <td>NaN</td>\n",
       "      <td>108000.0</td>\n",
       "      <td>0</td>\n",
       "      <td>102000.0</td>\n",
       "      <td>0</td>\n",
       "      <td>30</td>\n",
       "      <td>Full-time employee</td>\n",
       "      <td>Unlimited contract</td>\n",
       "      <td>German</td>\n",
       "      <td>1000+</td>\n",
       "      <td>Automotive</td>\n",
       "    </tr>\n",
       "    <tr>\n",
       "      <th>2</th>\n",
       "      <td>35</td>\n",
       "      <td>Male</td>\n",
       "      <td>Frankfurt</td>\n",
       "      <td>Banker</td>\n",
       "      <td>No</td>\n",
       "      <td>12.0</td>\n",
       "      <td>Senior</td>\n",
       "      <td>NaN</td>\n",
       "      <td>NaN</td>\n",
       "      <td>100000.0</td>\n",
       "      <td>32000</td>\n",
       "      <td>NaN</td>\n",
       "      <td>NaN</td>\n",
       "      <td>NaN</td>\n",
       "      <td>Full-time employee</td>\n",
       "      <td>Unlimited contract</td>\n",
       "      <td>English</td>\n",
       "      <td>101 to 1000</td>\n",
       "      <td>Bank</td>\n",
       "    </tr>\n",
       "    <tr>\n",
       "      <th>3</th>\n",
       "      <td>32</td>\n",
       "      <td>Male</td>\n",
       "      <td>Amsterdam</td>\n",
       "      <td>Mobile Developer</td>\n",
       "      <td>No</td>\n",
       "      <td>13.0</td>\n",
       "      <td>Senior</td>\n",
       "      <td>Kotlin</td>\n",
       "      <td>Kotlin</td>\n",
       "      <td>85000.0</td>\n",
       "      <td>89000</td>\n",
       "      <td>80000.0</td>\n",
       "      <td>84000</td>\n",
       "      <td>27</td>\n",
       "      <td>Full-time employee</td>\n",
       "      <td>Unlimited contract</td>\n",
       "      <td>English</td>\n",
       "      <td>1000+</td>\n",
       "      <td>Bank</td>\n",
       "    </tr>\n",
       "    <tr>\n",
       "      <th>4</th>\n",
       "      <td>35</td>\n",
       "      <td>Female</td>\n",
       "      <td>Munich</td>\n",
       "      <td>Data Scientist</td>\n",
       "      <td>No</td>\n",
       "      <td>5.0</td>\n",
       "      <td>Senior</td>\n",
       "      <td>SAS,SQL,Python</td>\n",
       "      <td>Python, SQL, SAS</td>\n",
       "      <td>75000.0</td>\n",
       "      <td>10000</td>\n",
       "      <td>NaN</td>\n",
       "      <td>NaN</td>\n",
       "      <td>30</td>\n",
       "      <td>Full-time employee</td>\n",
       "      <td>Unlimited contract</td>\n",
       "      <td>English</td>\n",
       "      <td>1000+</td>\n",
       "      <td>Bank</td>\n",
       "    </tr>\n",
       "  </tbody>\n",
       "</table>\n",
       "</div>"
      ],
      "text/plain": [
       "   Age  Gender        City               Position Quit  YearsOverall  \\\n",
       "0   28    Male      Munich  Network Administrator   No           9.0   \n",
       "1   39  Female  Stuttgart        Project manager    No          13.0   \n",
       "2   35    Male   Frankfurt                 Banker   No          12.0   \n",
       "3   32    Male   Amsterdam       Mobile Developer   No          13.0   \n",
       "4   35  Female      Munich         Data Scientist   No           5.0   \n",
       "\n",
       "  Seniority        MainTech         OtherTech  BasicSalary SalaryBonus  \\\n",
       "0    Senior         Network               NaN      61200.0        7300   \n",
       "1    Senior             NaN               NaN     108000.0           0   \n",
       "2    Senior             NaN               NaN     100000.0       32000   \n",
       "3    Senior          Kotlin            Kotlin      85000.0       89000   \n",
       "4    Senior  SAS,SQL,Python  Python, SQL, SAS      75000.0       10000   \n",
       "\n",
       "   LY_Salary LY_Bonus VacDays          EmplStatus            Contract  \\\n",
       "0    53300.0     6200      30  Full-time employee  Unlimited contract   \n",
       "1   102000.0        0      30  Full-time employee  Unlimited contract   \n",
       "2        NaN      NaN     NaN  Full-time employee  Unlimited contract   \n",
       "3    80000.0    84000      27  Full-time employee  Unlimited contract   \n",
       "4        NaN      NaN      30  Full-time employee  Unlimited contract   \n",
       "\n",
       "  Language      CusSize      CusArea  \n",
       "0  English        1000+   Automotive  \n",
       "1   German        1000+  Automotive   \n",
       "2  English  101 to 1000         Bank  \n",
       "3  English        1000+         Bank  \n",
       "4  English        1000+         Bank  "
      ]
     },
     "execution_count": 132,
     "metadata": {},
     "output_type": "execute_result"
    }
   ],
   "source": [
    "# zeige head von data_clean\n",
    "data_clean.head()"
   ]
  },
  {
   "cell_type": "code",
   "execution_count": 133,
   "metadata": {},
   "outputs": [
    {
     "data": {
      "text/plain": [
       "Age               0\n",
       "Gender            0\n",
       "City              0\n",
       "Position          0\n",
       "Quit              0\n",
       "YearsOverall      0\n",
       "Seniority         0\n",
       "MainTech        112\n",
       "OtherTech       141\n",
       "BasicSalary       0\n",
       "SalaryBonus     392\n",
       "LY_Salary       338\n",
       "LY_Bonus        603\n",
       "VacDays          49\n",
       "EmplStatus        7\n",
       "Contract         16\n",
       "Language          5\n",
       "CusSize           4\n",
       "CusArea          10\n",
       "dtype: int64"
      ]
     },
     "execution_count": 133,
     "metadata": {},
     "output_type": "execute_result"
    }
   ],
   "source": [
    "# Überprüfung auf leere Werte\n",
    "data_clean.isnull().sum()"
   ]
  },
  {
   "cell_type": "code",
   "execution_count": 134,
   "metadata": {},
   "outputs": [],
   "source": [
    "# Ergänze den Datensatz um eine weitere Spalte  TechRole hinzu\n",
    "data_clean['TechRole'] = 0"
   ]
  },
  {
   "cell_type": "code",
   "execution_count": 135,
   "metadata": {},
   "outputs": [],
   "source": [
    "# Wenn in MainTech ein Wert enthalten ist, dann schreibe in TechRole 1\n",
    "data_clean.loc[data_clean['MainTech'].notnull(), 'TechRole'] = 1"
   ]
  },
  {
   "cell_type": "code",
   "execution_count": 136,
   "metadata": {},
   "outputs": [
    {
     "data": {
      "text/html": [
       "<div>\n",
       "<style scoped>\n",
       "    .dataframe tbody tr th:only-of-type {\n",
       "        vertical-align: middle;\n",
       "    }\n",
       "\n",
       "    .dataframe tbody tr th {\n",
       "        vertical-align: top;\n",
       "    }\n",
       "\n",
       "    .dataframe thead th {\n",
       "        text-align: right;\n",
       "    }\n",
       "</style>\n",
       "<table border=\"1\" class=\"dataframe\">\n",
       "  <thead>\n",
       "    <tr style=\"text-align: right;\">\n",
       "      <th></th>\n",
       "      <th>Age</th>\n",
       "      <th>Gender</th>\n",
       "      <th>City</th>\n",
       "      <th>Position</th>\n",
       "      <th>Quit</th>\n",
       "      <th>YearsOverall</th>\n",
       "      <th>Seniority</th>\n",
       "      <th>MainTech</th>\n",
       "      <th>OtherTech</th>\n",
       "      <th>BasicSalary</th>\n",
       "      <th>SalaryBonus</th>\n",
       "      <th>LY_Salary</th>\n",
       "      <th>LY_Bonus</th>\n",
       "      <th>VacDays</th>\n",
       "      <th>EmplStatus</th>\n",
       "      <th>Contract</th>\n",
       "      <th>Language</th>\n",
       "      <th>CusSize</th>\n",
       "      <th>CusArea</th>\n",
       "      <th>TechRole</th>\n",
       "    </tr>\n",
       "  </thead>\n",
       "  <tbody>\n",
       "    <tr>\n",
       "      <th>0</th>\n",
       "      <td>28</td>\n",
       "      <td>Male</td>\n",
       "      <td>Munich</td>\n",
       "      <td>Network Administrator</td>\n",
       "      <td>No</td>\n",
       "      <td>9.0</td>\n",
       "      <td>Senior</td>\n",
       "      <td>Network</td>\n",
       "      <td>NaN</td>\n",
       "      <td>61200.0</td>\n",
       "      <td>7300</td>\n",
       "      <td>53300.0</td>\n",
       "      <td>6200</td>\n",
       "      <td>30</td>\n",
       "      <td>Full-time employee</td>\n",
       "      <td>Unlimited contract</td>\n",
       "      <td>English</td>\n",
       "      <td>1000+</td>\n",
       "      <td>Automotive</td>\n",
       "      <td>1</td>\n",
       "    </tr>\n",
       "    <tr>\n",
       "      <th>1</th>\n",
       "      <td>39</td>\n",
       "      <td>Female</td>\n",
       "      <td>Stuttgart</td>\n",
       "      <td>Project manager</td>\n",
       "      <td>No</td>\n",
       "      <td>13.0</td>\n",
       "      <td>Senior</td>\n",
       "      <td>NaN</td>\n",
       "      <td>NaN</td>\n",
       "      <td>108000.0</td>\n",
       "      <td>0</td>\n",
       "      <td>102000.0</td>\n",
       "      <td>0</td>\n",
       "      <td>30</td>\n",
       "      <td>Full-time employee</td>\n",
       "      <td>Unlimited contract</td>\n",
       "      <td>German</td>\n",
       "      <td>1000+</td>\n",
       "      <td>Automotive</td>\n",
       "      <td>0</td>\n",
       "    </tr>\n",
       "    <tr>\n",
       "      <th>2</th>\n",
       "      <td>35</td>\n",
       "      <td>Male</td>\n",
       "      <td>Frankfurt</td>\n",
       "      <td>Banker</td>\n",
       "      <td>No</td>\n",
       "      <td>12.0</td>\n",
       "      <td>Senior</td>\n",
       "      <td>NaN</td>\n",
       "      <td>NaN</td>\n",
       "      <td>100000.0</td>\n",
       "      <td>32000</td>\n",
       "      <td>NaN</td>\n",
       "      <td>NaN</td>\n",
       "      <td>NaN</td>\n",
       "      <td>Full-time employee</td>\n",
       "      <td>Unlimited contract</td>\n",
       "      <td>English</td>\n",
       "      <td>101 to 1000</td>\n",
       "      <td>Bank</td>\n",
       "      <td>0</td>\n",
       "    </tr>\n",
       "    <tr>\n",
       "      <th>3</th>\n",
       "      <td>32</td>\n",
       "      <td>Male</td>\n",
       "      <td>Amsterdam</td>\n",
       "      <td>Mobile Developer</td>\n",
       "      <td>No</td>\n",
       "      <td>13.0</td>\n",
       "      <td>Senior</td>\n",
       "      <td>Kotlin</td>\n",
       "      <td>Kotlin</td>\n",
       "      <td>85000.0</td>\n",
       "      <td>89000</td>\n",
       "      <td>80000.0</td>\n",
       "      <td>84000</td>\n",
       "      <td>27</td>\n",
       "      <td>Full-time employee</td>\n",
       "      <td>Unlimited contract</td>\n",
       "      <td>English</td>\n",
       "      <td>1000+</td>\n",
       "      <td>Bank</td>\n",
       "      <td>1</td>\n",
       "    </tr>\n",
       "    <tr>\n",
       "      <th>4</th>\n",
       "      <td>35</td>\n",
       "      <td>Female</td>\n",
       "      <td>Munich</td>\n",
       "      <td>Data Scientist</td>\n",
       "      <td>No</td>\n",
       "      <td>5.0</td>\n",
       "      <td>Senior</td>\n",
       "      <td>SAS,SQL,Python</td>\n",
       "      <td>Python, SQL, SAS</td>\n",
       "      <td>75000.0</td>\n",
       "      <td>10000</td>\n",
       "      <td>NaN</td>\n",
       "      <td>NaN</td>\n",
       "      <td>30</td>\n",
       "      <td>Full-time employee</td>\n",
       "      <td>Unlimited contract</td>\n",
       "      <td>English</td>\n",
       "      <td>1000+</td>\n",
       "      <td>Bank</td>\n",
       "      <td>1</td>\n",
       "    </tr>\n",
       "  </tbody>\n",
       "</table>\n",
       "</div>"
      ],
      "text/plain": [
       "   Age  Gender        City               Position Quit  YearsOverall  \\\n",
       "0   28    Male      Munich  Network Administrator   No           9.0   \n",
       "1   39  Female  Stuttgart        Project manager    No          13.0   \n",
       "2   35    Male   Frankfurt                 Banker   No          12.0   \n",
       "3   32    Male   Amsterdam       Mobile Developer   No          13.0   \n",
       "4   35  Female      Munich         Data Scientist   No           5.0   \n",
       "\n",
       "  Seniority        MainTech         OtherTech  BasicSalary SalaryBonus  \\\n",
       "0    Senior         Network               NaN      61200.0        7300   \n",
       "1    Senior             NaN               NaN     108000.0           0   \n",
       "2    Senior             NaN               NaN     100000.0       32000   \n",
       "3    Senior          Kotlin            Kotlin      85000.0       89000   \n",
       "4    Senior  SAS,SQL,Python  Python, SQL, SAS      75000.0       10000   \n",
       "\n",
       "   LY_Salary LY_Bonus VacDays          EmplStatus            Contract  \\\n",
       "0    53300.0     6200      30  Full-time employee  Unlimited contract   \n",
       "1   102000.0        0      30  Full-time employee  Unlimited contract   \n",
       "2        NaN      NaN     NaN  Full-time employee  Unlimited contract   \n",
       "3    80000.0    84000      27  Full-time employee  Unlimited contract   \n",
       "4        NaN      NaN      30  Full-time employee  Unlimited contract   \n",
       "\n",
       "  Language      CusSize      CusArea  TechRole  \n",
       "0  English        1000+   Automotive         1  \n",
       "1   German        1000+  Automotive          0  \n",
       "2  English  101 to 1000         Bank         0  \n",
       "3  English        1000+         Bank         1  \n",
       "4  English        1000+         Bank         1  "
      ]
     },
     "execution_count": 136,
     "metadata": {},
     "output_type": "execute_result"
    }
   ],
   "source": [
    "# Zeige head von data_clean\n",
    "data_clean.head()"
   ]
  },
  {
   "cell_type": "code",
   "execution_count": 137,
   "metadata": {},
   "outputs": [
    {
     "data": {
      "text/plain": [
       "<Axes: >"
      ]
     },
     "execution_count": 137,
     "metadata": {},
     "output_type": "execute_result"
    },
    {
     "data": {
      "image/png": "[encoded data removed]",
      "text/plain": [
       "<Figure size 640x480 with 1 Axes>"
      ]
     },
     "metadata": {},
     "output_type": "display_data"
    }
   ],
   "source": [
    "# Zeige die Distribution von TechRole\n",
    "data_clean['TechRole'].hist(bins=50)"
   ]
  },
  {
   "cell_type": "code",
   "execution_count": 138,
   "metadata": {},
   "outputs": [],
   "source": [
    "# Lösche die Spalte MainTech\n",
    "data_clean = data_clean.drop(['MainTech'], axis=1)\n",
    "# Lösche die Spalte OtherTech\n",
    "data_clean = data_clean.drop(['OtherTech'], axis=1)\n"
   ]
  },
  {
   "cell_type": "code",
   "execution_count": 139,
   "metadata": {},
   "outputs": [
    {
     "data": {
      "text/plain": [
       "Age               0\n",
       "Gender            0\n",
       "City              0\n",
       "Position          0\n",
       "Quit              0\n",
       "YearsOverall      0\n",
       "Seniority         0\n",
       "BasicSalary       0\n",
       "SalaryBonus     392\n",
       "LY_Salary       338\n",
       "LY_Bonus        603\n",
       "VacDays          49\n",
       "EmplStatus        7\n",
       "Contract         16\n",
       "Language          5\n",
       "CusSize           4\n",
       "CusArea          10\n",
       "TechRole          0\n",
       "dtype: int64"
      ]
     },
     "execution_count": 139,
     "metadata": {},
     "output_type": "execute_result"
    }
   ],
   "source": [
    "# Überprüfung auf leere Werte\n",
    "data_clean.isnull().sum()"
   ]
  },
  {
   "cell_type": "code",
   "execution_count": 140,
   "metadata": {},
   "outputs": [],
   "source": [
    "# Ersteze die fehlenden Werte bei SalaryBonus durch 0\n",
    "data_clean['SalaryBonus'] = data_clean['SalaryBonus'].fillna(0)"
   ]
  },
  {
   "cell_type": "code",
   "execution_count": 141,
   "metadata": {},
   "outputs": [
    {
     "data": {
      "text/plain": [
       "array(['7300', '0', '32000', '89000', '10000', '7000', '6500', '2000', 0,\n",
       "       '1000', '26000', '20700', '40000', '17800', '200000', '80000',\n",
       "       '30000', '12000', '67000', '7750', '6000', '62000', '18000',\n",
       "       '60000', '101', '20000', '45600', '5000', '15000', '70000', '8000',\n",
       "       '1100', '3000', '4400', '66500', '17000', '15900', '65000',\n",
       "       '63000', '1250', '4700', '4500', '96000', '25000', 'depends',\n",
       "       '1500', '55000', '88000', '170000', '1600', '13000', '112000',\n",
       "       '60847.32', '4000', '28800', '50000', '2500', '3520', '3600',\n",
       "       '7200', '120000', '9400', '72000', '75000', '5800', '56000',\n",
       "       '6300', '22000', '7500', '10300', '6900', '95000', '140000',\n",
       "       '22500', '77000', '12150', '3500', '500', '63500', '20240',\n",
       "       '81200', '11000', '46000', '400', '122.13', '5400', '14500',\n",
       "       '43500', '50400', '77400', '12', '74000', '150000', '13500',\n",
       "       '5500', '45000', '38500', '2400', '1150000', '9000', '4300',\n",
       "       '59000', '100000', '70500', '450000', '7100', '3375', '6710',\n",
       "       '15000+-', '84000', '21000', '87250', '71000', '106000', '99000',\n",
       "       '3250', '54000', '14000', '82000', '66447', '53500', '800',\n",
       "       '35000', '2800', '107000', '12500', '-', '125000', '80400', '3800',\n",
       "       '28000', '31500', '25', '92000', 'Not sure', '700', '90000',\n",
       "       '16000', '105000', '8500', '73000', '47500', '11900', '63909',\n",
       "       '78000', '4250', '1200', '19200', '23000', '86000', 'bvg only',\n",
       "       '85000', '102600', '97000', '37968', '5000000000', '43000',\n",
       "       '58000', '9450', '82500', '36000', '45500', '16320', 'Na'],\n",
       "      dtype=object)"
      ]
     },
     "execution_count": 141,
     "metadata": {},
     "output_type": "execute_result"
    }
   ],
   "source": [
    "# Zeig die unique values von SalaryBonus\n",
    "data_clean['SalaryBonus'].unique()"
   ]
  },
  {
   "cell_type": "code",
   "execution_count": 142,
   "metadata": {},
   "outputs": [],
   "source": [
    "# Erseteze den Wert 15000+- durch  15000\n",
    "data_clean['SalaryBonus'] = data_clean['SalaryBonus'].replace('15000+-', '15000')\n",
    "# Ersetze den Wert `-' durch 0\n",
    "data_clean['SalaryBonus'] = data_clean['SalaryBonus'].replace('-', '0')\n",
    "# Lösche den Wert Not sure\n",
    "data_clean = data_clean[data_clean['SalaryBonus'] != 'Not sure']\n",
    "# Lösche den Wert bvg only\n",
    "data_clean = data_clean[data_clean['SalaryBonus'] != 'bvg only']\n",
    "# Ersetze den Wert Na durch 0\n",
    "data_clean['SalaryBonus'] = data_clean['SalaryBonus'].replace('Na', '0')\n",
    "# Lösche den Wert depends\n",
    "data_clean = data_clean[data_clean['SalaryBonus'] != 'depends']\n",
    "# Entferne die Nachkomma Stellen von 60847.32\n",
    "data_clean['SalaryBonus'] = data_clean['SalaryBonus'].replace('60847.32', '60847')\n",
    "# Entferne die Nachkomma Stellen von 122.13\n",
    "data_clean['SalaryBonus'] = data_clean['SalaryBonus'].replace('122.13', '122')\n"
   ]
  },
  {
   "cell_type": "code",
   "execution_count": null,
   "metadata": {},
   "outputs": [],
   "source": []
  },
  {
   "cell_type": "code",
   "execution_count": 143,
   "metadata": {},
   "outputs": [],
   "source": [
    "# Wandle die Spalte SalaryBonus in int um\n",
    "data_clean['SalaryBonus'] = data_clean['SalaryBonus'].astype(int)"
   ]
  },
  {
   "cell_type": "code",
   "execution_count": 144,
   "metadata": {},
   "outputs": [
    {
     "data": {
      "text/plain": [
       "array([      7300,          0,      32000,      89000,      10000,\n",
       "             7000,       6500,       2000,       1000,      26000,\n",
       "            20700,      40000,      17800,     200000,      80000,\n",
       "            30000,      12000,      67000,       7750,       6000,\n",
       "            62000,      18000,      60000,        101,      20000,\n",
       "            45600,       5000,      15000,      70000,       8000,\n",
       "             1100,       3000,       4400,      66500,      17000,\n",
       "            15900,      65000,      63000,       1250,       4700,\n",
       "             4500,      96000,      25000,       1500,      55000,\n",
       "            88000,     170000,       1600,      13000,     112000,\n",
       "            60847,       4000,      28800,      50000,       2500,\n",
       "             3520,       3600,       7200,     120000,       9400,\n",
       "            72000,      75000,       5800,      56000,       6300,\n",
       "            22000,       7500,      10300,       6900,      95000,\n",
       "           140000,      22500,      77000,      12150,       3500,\n",
       "              500,      63500,      20240,      81200,      11000,\n",
       "            46000,        400,        122,       5400,      14500,\n",
       "            43500,      50400,      77400,         12,      74000,\n",
       "           150000,      13500,       5500,      45000,      38500,\n",
       "             2400,    1150000,       9000,       4300,      59000,\n",
       "           100000,      70500,     450000,       7100,       3375,\n",
       "             6710,      84000,      21000,      87250,      71000,\n",
       "           106000,      99000,       3250,      54000,      14000,\n",
       "            82000,      66447,      53500,        800,      35000,\n",
       "             2800,     107000,      12500,     125000,      80400,\n",
       "             3800,      28000,      31500,         25,      92000,\n",
       "              700,      90000,      16000,     105000,       8500,\n",
       "            73000,      47500,      11900,      63909,      78000,\n",
       "             4250,       1200,      19200,      23000,      86000,\n",
       "            85000,     102600,      97000,      37968, 5000000000,\n",
       "            43000,      58000,       9450,      82500,      36000,\n",
       "            45500,      16320])"
      ]
     },
     "execution_count": 144,
     "metadata": {},
     "output_type": "execute_result"
    }
   ],
   "source": [
    "# Zeige die unique values von SalaryBonus\n",
    "data_clean['SalaryBonus'].unique()"
   ]
  },
  {
   "cell_type": "code",
   "execution_count": 145,
   "metadata": {},
   "outputs": [
    {
     "data": {
      "image/png": "[encoded data removed]",
      "text/plain": [
       "<Figure size 640x480 with 1 Axes>"
      ]
     },
     "metadata": {},
     "output_type": "display_data"
    }
   ],
   "source": [
    "# Zeige mir die Vertelung von SalaryBonus\n",
    "plt.hist(data_clean['SalaryBonus'], bins=20)\n",
    "plt.xlabel('SalaryBonus')\n",
    "plt.ylabel('Frequency')\n",
    "plt.title('Distribution of SalaryBonus')\n",
    "plt.show()"
   ]
  },
  {
   "cell_type": "code",
   "execution_count": 146,
   "metadata": {},
   "outputs": [
    {
     "data": {
      "text/plain": [
       "Age               0\n",
       "Gender            0\n",
       "City              0\n",
       "Position          0\n",
       "Quit              0\n",
       "YearsOverall      0\n",
       "Seniority         0\n",
       "BasicSalary       0\n",
       "SalaryBonus       0\n",
       "LY_Salary       336\n",
       "LY_Bonus        601\n",
       "VacDays          49\n",
       "EmplStatus        7\n",
       "Contract         16\n",
       "Language          5\n",
       "CusSize           4\n",
       "CusArea          10\n",
       "TechRole          0\n",
       "dtype: int64"
      ]
     },
     "execution_count": 146,
     "metadata": {},
     "output_type": "execute_result"
    }
   ],
   "source": [
    "# Zeige fehlende Werte an\n",
    "data_clean.isnull().sum()"
   ]
  },
  {
   "cell_type": "code",
   "execution_count": 147,
   "metadata": {},
   "outputs": [
    {
     "data": {
      "text/plain": [
       "array(['6200', '0', nan, '84000', '3000', '3500', '2000', '17000',\n",
       "       '30000', '80000', '15000', '58000', '1500', '5400', '49000',\n",
       "       '52000', '7000', '10000', '67200', '800', '67000', '8000', '65000',\n",
       "       '3900', '70000', '8500', '41000', '62000', '11000', '60000',\n",
       "       '5000', '20000', '1100', '500', '35000', '85000', '55000', '82000',\n",
       "       '1000', '700', '34000', '37500', '6000', '53000', '300', '47000',\n",
       "       '78000', '600', '13000', '4800', '28800', '2500', '2760', '2600',\n",
       "       '100000', '75000', '4000', '54000', '63000', '122000', '101',\n",
       "       '33000', '6800', '61000', '25000', '77000', '6300', '200000',\n",
       "       '850', '18000', '1800', '57000', '46000', '7500', '18800', '50000',\n",
       "       '56000', '45000', '74800', '40000', '115000', '92000', '120000',\n",
       "       '64000', '5500', '12000', '98000', '31000', '59000', '300000',\n",
       "       '87000', '9000', '22000', '76000', '6900', '66000', '8100',\n",
       "       '86000', '72000', '90000', '55200', '9500', '28500', '12500', '-',\n",
       "       '94000', '3800', '22500', '31500', '7200', '180000', '16000',\n",
       "       '105000', '68000', '48000', '39000', '100', '50400', '2004',\n",
       "       '14000', '73000', '3300', '16300', '89000', '50000000', '42000',\n",
       "       '7050', '36000', '75009'], dtype=object)"
      ]
     },
     "execution_count": 147,
     "metadata": {},
     "output_type": "execute_result"
    }
   ],
   "source": [
    "# Zeige die unique values von von LY_Bonus\n",
    "data_clean['LY_Bonus'].unique()"
   ]
  },
  {
   "cell_type": "code",
   "execution_count": 148,
   "metadata": {},
   "outputs": [],
   "source": [
    "# Erste die die fehlenden Werte und -, durch 0\n",
    "data_clean['LY_Bonus'] = data_clean['LY_Bonus'].fillna('0')\n",
    "data_clean['LY_Bonus'] = data_clean['LY_Bonus'].replace('-', '0')"
   ]
  },
  {
   "cell_type": "code",
   "execution_count": 149,
   "metadata": {},
   "outputs": [
    {
     "data": {
      "text/plain": [
       "array(['6200', '0', '84000', '3000', '3500', '2000', '17000', '30000',\n",
       "       '80000', '15000', '58000', '1500', '5400', '49000', '52000',\n",
       "       '7000', '10000', '67200', '800', '67000', '8000', '65000', '3900',\n",
       "       '70000', '8500', '41000', '62000', '11000', '60000', '5000',\n",
       "       '20000', '1100', '500', '35000', '85000', '55000', '82000', '1000',\n",
       "       '700', '34000', '37500', '6000', '53000', '300', '47000', '78000',\n",
       "       '600', '13000', '4800', '28800', '2500', '2760', '2600', '100000',\n",
       "       '75000', '4000', '54000', '63000', '122000', '101', '33000',\n",
       "       '6800', '61000', '25000', '77000', '6300', '200000', '850',\n",
       "       '18000', '1800', '57000', '46000', '7500', '18800', '50000',\n",
       "       '56000', '45000', '74800', '40000', '115000', '92000', '120000',\n",
       "       '64000', '5500', '12000', '98000', '31000', '59000', '300000',\n",
       "       '87000', '9000', '22000', '76000', '6900', '66000', '8100',\n",
       "       '86000', '72000', '90000', '55200', '9500', '28500', '12500',\n",
       "       '94000', '3800', '22500', '31500', '7200', '180000', '16000',\n",
       "       '105000', '68000', '48000', '39000', '100', '50400', '2004',\n",
       "       '14000', '73000', '3300', '16300', '89000', '50000000', '42000',\n",
       "       '7050', '36000', '75009'], dtype=object)"
      ]
     },
     "execution_count": 149,
     "metadata": {},
     "output_type": "execute_result"
    }
   ],
   "source": [
    "# Zeige die unique values von von LY_Bonus\n",
    "data_clean['LY_Bonus'].unique()"
   ]
  },
  {
   "cell_type": "code",
   "execution_count": 150,
   "metadata": {},
   "outputs": [],
   "source": [
    "# Wandle LY_Bonus in int um\n",
    "data_clean['LY_Bonus'] = data_clean['LY_Bonus'].astype(int)"
   ]
  },
  {
   "cell_type": "code",
   "execution_count": 151,
   "metadata": {},
   "outputs": [
    {
     "data": {
      "text/plain": [
       "array([    6200,        0,    84000,     3000,     3500,     2000,\n",
       "          17000,    30000,    80000,    15000,    58000,     1500,\n",
       "           5400,    49000,    52000,     7000,    10000,    67200,\n",
       "            800,    67000,     8000,    65000,     3900,    70000,\n",
       "           8500,    41000,    62000,    11000,    60000,     5000,\n",
       "          20000,     1100,      500,    35000,    85000,    55000,\n",
       "          82000,     1000,      700,    34000,    37500,     6000,\n",
       "          53000,      300,    47000,    78000,      600,    13000,\n",
       "           4800,    28800,     2500,     2760,     2600,   100000,\n",
       "          75000,     4000,    54000,    63000,   122000,      101,\n",
       "          33000,     6800,    61000,    25000,    77000,     6300,\n",
       "         200000,      850,    18000,     1800,    57000,    46000,\n",
       "           7500,    18800,    50000,    56000,    45000,    74800,\n",
       "          40000,   115000,    92000,   120000,    64000,     5500,\n",
       "          12000,    98000,    31000,    59000,   300000,    87000,\n",
       "           9000,    22000,    76000,     6900,    66000,     8100,\n",
       "          86000,    72000,    90000,    55200,     9500,    28500,\n",
       "          12500,    94000,     3800,    22500,    31500,     7200,\n",
       "         180000,    16000,   105000,    68000,    48000,    39000,\n",
       "            100,    50400,     2004,    14000,    73000,     3300,\n",
       "          16300,    89000, 50000000,    42000,     7050,    36000,\n",
       "          75009])"
      ]
     },
     "execution_count": 151,
     "metadata": {},
     "output_type": "execute_result"
    }
   ],
   "source": [
    "# unique values von LY_Bonus\n",
    "data_clean['LY_Bonus'].unique()"
   ]
  },
  {
   "cell_type": "code",
   "execution_count": 152,
   "metadata": {},
   "outputs": [
    {
     "data": {
      "text/plain": [
       "(array([1.195e+03, 0.000e+00, 0.000e+00, 0.000e+00, 0.000e+00, 0.000e+00,\n",
       "        0.000e+00, 0.000e+00, 0.000e+00, 0.000e+00, 0.000e+00, 0.000e+00,\n",
       "        0.000e+00, 0.000e+00, 0.000e+00, 0.000e+00, 0.000e+00, 0.000e+00,\n",
       "        0.000e+00, 1.000e+00]),\n",
       " array([       0.,  2500000.,  5000000.,  7500000., 10000000., 12500000.,\n",
       "        15000000., 17500000., 20000000., 22500000., 25000000., 27500000.,\n",
       "        30000000., 32500000., 35000000., 37500000., 40000000., 42500000.,\n",
       "        45000000., 47500000., 50000000.]),\n",
       " <BarContainer object of 20 artists>)"
      ]
     },
     "execution_count": 152,
     "metadata": {},
     "output_type": "execute_result"
    },
    {
     "data": {
      "image/png": "[encoded data removed]",
      "text/plain": [
       "<Figure size 640x480 with 1 Axes>"
      ]
     },
     "metadata": {},
     "output_type": "display_data"
    }
   ],
   "source": [
    "# Zeoge die Vertelung von LY_Bonus\n",
    "plt.hist(data_clean['LY_Bonus'], bins=20)"
   ]
  },
  {
   "cell_type": "code",
   "execution_count": 153,
   "metadata": {},
   "outputs": [],
   "source": [
    "# Erstelle eine neue Spalte ThisYearBonus und fülle sie mit 0\n",
    "data_clean['ThisYearBonus'] = 0\n",
    "# Wenn LY_Bonus grösser als 0 ist, dann schreibe in ThisYearBonus 1\n",
    "data_clean.loc[data_clean['SalaryBonus'] > 0, 'ThisYearBonus'] = 1"
   ]
  },
  {
   "cell_type": "code",
   "execution_count": 154,
   "metadata": {},
   "outputs": [],
   "source": [
    "# Erstelle eine neue Spalte LastYearBonus und fülle sie mit 0\n",
    "data_clean['LastYearBonus'] = 0\n",
    "# Wenn LY_Bonus grösser als 0 ist, dann schreibe in LastYearBonus 1\n",
    "data_clean.loc[data_clean['LY_Bonus'] > 0, 'LastYearBonus'] = 1"
   ]
  },
  {
   "cell_type": "code",
   "execution_count": 155,
   "metadata": {},
   "outputs": [],
   "source": [
    "# Entferne die Spalte LY_Bonus\n",
    "data_clean = data_clean.drop(['LY_Bonus'], axis=1)\n",
    "# Entferne die Spalte SalaryBonus\n",
    "data_clean = data_clean.drop(['SalaryBonus'], axis=1)"
   ]
  },
  {
   "cell_type": "code",
   "execution_count": 156,
   "metadata": {},
   "outputs": [
    {
     "data": {
      "text/plain": [
       "<Axes: xlabel='ThisYearBonus', ylabel='count'>"
      ]
     },
     "execution_count": 156,
     "metadata": {},
     "output_type": "execute_result"
    },
    {
     "data": {
      "image/png": "[encoded data removed]",
      "text/plain": [
       "<Figure size 640x480 with 1 Axes>"
      ]
     },
     "metadata": {},
     "output_type": "display_data"
    }
   ],
   "source": [
    "# Zeige coutnplot von ThisYearBonus\n",
    "sns.countplot(x='ThisYearBonus', data=data_clean, palette='hls')"
   ]
  },
  {
   "cell_type": "code",
   "execution_count": 157,
   "metadata": {},
   "outputs": [
    {
     "data": {
      "text/plain": [
       "<Axes: xlabel='LastYearBonus', ylabel='count'>"
      ]
     },
     "execution_count": 157,
     "metadata": {},
     "output_type": "execute_result"
    },
    {
     "data": {
      "image/png": "[encoded data removed]",
      "text/plain": [
       "<Figure size 640x480 with 1 Axes>"
      ]
     },
     "metadata": {},
     "output_type": "display_data"
    }
   ],
   "source": [
    "# zeige countplot von LastYearBonus\n",
    "sns.countplot(x='LastYearBonus', data=data_clean, palette='hls')"
   ]
  },
  {
   "cell_type": "code",
   "execution_count": 158,
   "metadata": {},
   "outputs": [
    {
     "data": {
      "text/plain": [
       "Age                0\n",
       "Gender             0\n",
       "City               0\n",
       "Position           0\n",
       "Quit               0\n",
       "YearsOverall       0\n",
       "Seniority          0\n",
       "BasicSalary        0\n",
       "LY_Salary        336\n",
       "VacDays           49\n",
       "EmplStatus         7\n",
       "Contract          16\n",
       "Language           5\n",
       "CusSize            4\n",
       "CusArea           10\n",
       "TechRole           0\n",
       "ThisYearBonus      0\n",
       "LastYearBonus      0\n",
       "dtype: int64"
      ]
     },
     "execution_count": 158,
     "metadata": {},
     "output_type": "execute_result"
    }
   ],
   "source": [
    "# zeige mir die fehlenden Werte an\n",
    "data_clean.isnull().sum()"
   ]
  },
  {
   "cell_type": "code",
   "execution_count": 159,
   "metadata": {},
   "outputs": [
    {
     "data": {
      "text/plain": [
       "array([5.3300e+04, 1.0200e+05,        nan, 8.0000e+04, 3.7000e+04,\n",
       "       1.7000e+04, 7.0000e+04, 5.4000e+04, 5.6400e+04, 9.0000e+04,\n",
       "       7.5000e+04, 8.5000e+04, 5.2000e+04, 6.7000e+04, 5.7000e+04,\n",
       "       1.3200e+05, 4.7000e+04, 1.0800e+05, 2.0000e+04, 1.2500e+05,\n",
       "       6.0000e+04, 4.5000e+04, 5.8000e+04, 6.1200e+04, 4.2000e+04,\n",
       "       5.3000e+04, 7.2500e+04, 4.3000e+04, 4.6000e+04, 5.0000e+04,\n",
       "       4.7500e+04, 1.0000e+05, 6.2000e+04, 7.8000e+04, 6.2500e+04,\n",
       "       6.8000e+04, 1.6000e+04, 1.6000e+05, 1.9000e+05, 5.2500e+04,\n",
       "       6.5000e+04, 6.6000e+04, 5.5000e+04, 5.4500e+04, 6.1500e+04,\n",
       "       7.6000e+04, 6.3000e+04, 5.0400e+04, 5.8040e+04, 3.4000e+04,\n",
       "       7.0200e+04, 2.5300e+04, 3.5000e+04, 4.0000e+04, 3.0000e+04,\n",
       "       1.3000e+05, 7.4000e+04, 7.2000e+04, 2.0000e+05, 8.2000e+04,\n",
       "       2.8800e+04, 4.4000e+04, 1.2000e+05, 8.8000e+04, 1.6560e+04,\n",
       "       2.6000e+04, 3.6000e+04, 4.1000e+04, 1.2000e+04, 5.6000e+04,\n",
       "       9.2000e+04, 8.1000e+04, 6.2400e+04, 7.3000e+04, 6.1000e+04,\n",
       "       7.7000e+04, 6.9000e+04, 6.8500e+04, 1.1500e+05, 1.0500e+05,\n",
       "       5.6500e+04, 4.8000e+04, 9.7000e+04, 6.7500e+04, 8.0600e+04,\n",
       "       8.2240e+04, 6.4000e+04, 5.9000e+04, 7.8500e+04, 7.0400e+04,\n",
       "       9.4000e+04, 8.6000e+04, 6.1400e+04, 1.8000e+04, 8.4000e+04,\n",
       "       1.0400e+05, 1.1800e+05, 7.9000e+04, 2.8000e+04, 3.1000e+04,\n",
       "       9.8000e+04, 7.3500e+04, 7.8600e+04, 2.3000e+05, 8.2600e+04,\n",
       "       9.5000e+04, 3.9000e+04, 7.1000e+04, 1.1000e+04, 1.1000e+05,\n",
       "       3.3000e+04, 6.3500e+04, 4.5600e+04, 4.4500e+04, 1.9000e+04,\n",
       "       1.6900e+05, 8.7000e+04, 5.1000e+04, 4.7745e+04, 3.7500e+04,\n",
       "       5.9500e+04, 5.1200e+04, 8.3000e+04, 4.9000e+04, 1.5000e+04,\n",
       "       9.3000e+04, 5.7600e+04, 4.3200e+04, 2.5000e+04, 1.4000e+05,\n",
       "       9.9000e+04, 2.7000e+04, 1.4712e+04, 6.7100e+04, 2.1800e+04,\n",
       "       8.9000e+04, 1.5600e+05, 6.9300e+04, 7.6000e+05, 3.2000e+04,\n",
       "       2.3000e+04, 5.0000e+08, 3.8000e+04, 9.1000e+04, 5.8800e+04,\n",
       "       8.3200e+04])"
      ]
     },
     "execution_count": 159,
     "metadata": {},
     "output_type": "execute_result"
    }
   ],
   "source": [
    "# Zeige die unique values von von LY_Salary\n",
    "data_clean['LY_Salary'].unique()"
   ]
  },
  {
   "cell_type": "code",
   "execution_count": 160,
   "metadata": {},
   "outputs": [],
   "source": [
    "# Ersetze die fehlenden Werte durch 0\n",
    "data_clean['LY_Salary'] = data_clean['LY_Salary'].fillna(0)"
   ]
  },
  {
   "cell_type": "code",
   "execution_count": 161,
   "metadata": {},
   "outputs": [
    {
     "data": {
      "text/plain": [
       "(array([1.195e+03, 0.000e+00, 0.000e+00, 0.000e+00, 0.000e+00, 0.000e+00,\n",
       "        0.000e+00, 0.000e+00, 0.000e+00, 0.000e+00, 0.000e+00, 0.000e+00,\n",
       "        0.000e+00, 0.000e+00, 0.000e+00, 0.000e+00, 0.000e+00, 0.000e+00,\n",
       "        0.000e+00, 1.000e+00]),\n",
       " array([0.00e+00, 2.50e+07, 5.00e+07, 7.50e+07, 1.00e+08, 1.25e+08,\n",
       "        1.50e+08, 1.75e+08, 2.00e+08, 2.25e+08, 2.50e+08, 2.75e+08,\n",
       "        3.00e+08, 3.25e+08, 3.50e+08, 3.75e+08, 4.00e+08, 4.25e+08,\n",
       "        4.50e+08, 4.75e+08, 5.00e+08]),\n",
       " <BarContainer object of 20 artists>)"
      ]
     },
     "execution_count": 161,
     "metadata": {},
     "output_type": "execute_result"
    },
    {
     "data": {
      "image/png": "[encoded data removed]",
      "text/plain": [
       "<Figure size 640x480 with 1 Axes>"
      ]
     },
     "metadata": {},
     "output_type": "display_data"
    }
   ],
   "source": [
    "# Zeige die Verteilung von LY_Salary\n",
    "plt.hist(data_clean['LY_Salary'], bins=20)"
   ]
  },
  {
   "cell_type": "code",
   "execution_count": 162,
   "metadata": {},
   "outputs": [
    {
     "data": {
      "text/html": [
       "<div>\n",
       "<style scoped>\n",
       "    .dataframe tbody tr th:only-of-type {\n",
       "        vertical-align: middle;\n",
       "    }\n",
       "\n",
       "    .dataframe tbody tr th {\n",
       "        vertical-align: top;\n",
       "    }\n",
       "\n",
       "    .dataframe thead th {\n",
       "        text-align: right;\n",
       "    }\n",
       "</style>\n",
       "<table border=\"1\" class=\"dataframe\">\n",
       "  <thead>\n",
       "    <tr style=\"text-align: right;\">\n",
       "      <th></th>\n",
       "      <th>Age</th>\n",
       "      <th>Gender</th>\n",
       "      <th>City</th>\n",
       "      <th>Position</th>\n",
       "      <th>Quit</th>\n",
       "      <th>YearsOverall</th>\n",
       "      <th>Seniority</th>\n",
       "      <th>BasicSalary</th>\n",
       "      <th>LY_Salary</th>\n",
       "      <th>VacDays</th>\n",
       "      <th>EmplStatus</th>\n",
       "      <th>Contract</th>\n",
       "      <th>Language</th>\n",
       "      <th>CusSize</th>\n",
       "      <th>CusArea</th>\n",
       "      <th>TechRole</th>\n",
       "      <th>ThisYearBonus</th>\n",
       "      <th>LastYearBonus</th>\n",
       "    </tr>\n",
       "  </thead>\n",
       "  <tbody>\n",
       "    <tr>\n",
       "      <th>count</th>\n",
       "      <td>1184.000000</td>\n",
       "      <td>1184</td>\n",
       "      <td>1184</td>\n",
       "      <td>1184</td>\n",
       "      <td>1184</td>\n",
       "      <td>1184.000000</td>\n",
       "      <td>1184</td>\n",
       "      <td>1184.000000</td>\n",
       "      <td>1184.000000</td>\n",
       "      <td>1135</td>\n",
       "      <td>1177</td>\n",
       "      <td>1169</td>\n",
       "      <td>1179</td>\n",
       "      <td>1180</td>\n",
       "      <td>1174</td>\n",
       "      <td>1184.000000</td>\n",
       "      <td>1184.000000</td>\n",
       "      <td>1184.000000</td>\n",
       "    </tr>\n",
       "    <tr>\n",
       "      <th>unique</th>\n",
       "      <td>NaN</td>\n",
       "      <td>2</td>\n",
       "      <td>105</td>\n",
       "      <td>144</td>\n",
       "      <td>2</td>\n",
       "      <td>NaN</td>\n",
       "      <td>22</td>\n",
       "      <td>NaN</td>\n",
       "      <td>NaN</td>\n",
       "      <td>43</td>\n",
       "      <td>10</td>\n",
       "      <td>3</td>\n",
       "      <td>13</td>\n",
       "      <td>5</td>\n",
       "      <td>61</td>\n",
       "      <td>NaN</td>\n",
       "      <td>NaN</td>\n",
       "      <td>NaN</td>\n",
       "    </tr>\n",
       "    <tr>\n",
       "      <th>top</th>\n",
       "      <td>NaN</td>\n",
       "      <td>Male</td>\n",
       "      <td>Berlin</td>\n",
       "      <td>Software Engineer</td>\n",
       "      <td>No</td>\n",
       "      <td>NaN</td>\n",
       "      <td>Senior</td>\n",
       "      <td>NaN</td>\n",
       "      <td>NaN</td>\n",
       "      <td>30</td>\n",
       "      <td>Full-time employee</td>\n",
       "      <td>Unlimited contract</td>\n",
       "      <td>English</td>\n",
       "      <td>1000+</td>\n",
       "      <td>Product</td>\n",
       "      <td>NaN</td>\n",
       "      <td>NaN</td>\n",
       "      <td>NaN</td>\n",
       "    </tr>\n",
       "    <tr>\n",
       "      <th>freq</th>\n",
       "      <td>NaN</td>\n",
       "      <td>1000</td>\n",
       "      <td>649</td>\n",
       "      <td>366</td>\n",
       "      <td>964</td>\n",
       "      <td>NaN</td>\n",
       "      <td>540</td>\n",
       "      <td>NaN</td>\n",
       "      <td>NaN</td>\n",
       "      <td>473</td>\n",
       "      <td>1140</td>\n",
       "      <td>1110</td>\n",
       "      <td>977</td>\n",
       "      <td>428</td>\n",
       "      <td>733</td>\n",
       "      <td>NaN</td>\n",
       "      <td>NaN</td>\n",
       "      <td>NaN</td>\n",
       "    </tr>\n",
       "    <tr>\n",
       "      <th>mean</th>\n",
       "      <td>32.328547</td>\n",
       "      <td>NaN</td>\n",
       "      <td>NaN</td>\n",
       "      <td>NaN</td>\n",
       "      <td>NaN</td>\n",
       "      <td>8.609459</td>\n",
       "      <td>NaN</td>\n",
       "      <td>70705.651292</td>\n",
       "      <td>46666.213682</td>\n",
       "      <td>NaN</td>\n",
       "      <td>NaN</td>\n",
       "      <td>NaN</td>\n",
       "      <td>NaN</td>\n",
       "      <td>NaN</td>\n",
       "      <td>NaN</td>\n",
       "      <td>0.906250</td>\n",
       "      <td>0.483108</td>\n",
       "      <td>0.330236</td>\n",
       "    </tr>\n",
       "    <tr>\n",
       "      <th>std</th>\n",
       "      <td>5.214519</td>\n",
       "      <td>NaN</td>\n",
       "      <td>NaN</td>\n",
       "      <td>NaN</td>\n",
       "      <td>NaN</td>\n",
       "      <td>4.966149</td>\n",
       "      <td>NaN</td>\n",
       "      <td>31736.975963</td>\n",
       "      <td>32955.262067</td>\n",
       "      <td>NaN</td>\n",
       "      <td>NaN</td>\n",
       "      <td>NaN</td>\n",
       "      <td>NaN</td>\n",
       "      <td>NaN</td>\n",
       "      <td>NaN</td>\n",
       "      <td>0.291604</td>\n",
       "      <td>0.499926</td>\n",
       "      <td>0.470497</td>\n",
       "    </tr>\n",
       "    <tr>\n",
       "      <th>min</th>\n",
       "      <td>20.000000</td>\n",
       "      <td>NaN</td>\n",
       "      <td>NaN</td>\n",
       "      <td>NaN</td>\n",
       "      <td>NaN</td>\n",
       "      <td>0.000000</td>\n",
       "      <td>NaN</td>\n",
       "      <td>10001.000000</td>\n",
       "      <td>0.000000</td>\n",
       "      <td>NaN</td>\n",
       "      <td>NaN</td>\n",
       "      <td>NaN</td>\n",
       "      <td>NaN</td>\n",
       "      <td>NaN</td>\n",
       "      <td>NaN</td>\n",
       "      <td>0.000000</td>\n",
       "      <td>0.000000</td>\n",
       "      <td>0.000000</td>\n",
       "    </tr>\n",
       "    <tr>\n",
       "      <th>25%</th>\n",
       "      <td>29.000000</td>\n",
       "      <td>NaN</td>\n",
       "      <td>NaN</td>\n",
       "      <td>NaN</td>\n",
       "      <td>NaN</td>\n",
       "      <td>5.000000</td>\n",
       "      <td>NaN</td>\n",
       "      <td>58000.000000</td>\n",
       "      <td>0.000000</td>\n",
       "      <td>NaN</td>\n",
       "      <td>NaN</td>\n",
       "      <td>NaN</td>\n",
       "      <td>NaN</td>\n",
       "      <td>NaN</td>\n",
       "      <td>NaN</td>\n",
       "      <td>1.000000</td>\n",
       "      <td>0.000000</td>\n",
       "      <td>0.000000</td>\n",
       "    </tr>\n",
       "    <tr>\n",
       "      <th>50%</th>\n",
       "      <td>32.000000</td>\n",
       "      <td>NaN</td>\n",
       "      <td>NaN</td>\n",
       "      <td>NaN</td>\n",
       "      <td>NaN</td>\n",
       "      <td>8.000000</td>\n",
       "      <td>NaN</td>\n",
       "      <td>70000.000000</td>\n",
       "      <td>58000.000000</td>\n",
       "      <td>NaN</td>\n",
       "      <td>NaN</td>\n",
       "      <td>NaN</td>\n",
       "      <td>NaN</td>\n",
       "      <td>NaN</td>\n",
       "      <td>NaN</td>\n",
       "      <td>1.000000</td>\n",
       "      <td>0.000000</td>\n",
       "      <td>0.000000</td>\n",
       "    </tr>\n",
       "    <tr>\n",
       "      <th>75%</th>\n",
       "      <td>35.000000</td>\n",
       "      <td>NaN</td>\n",
       "      <td>NaN</td>\n",
       "      <td>NaN</td>\n",
       "      <td>NaN</td>\n",
       "      <td>12.000000</td>\n",
       "      <td>NaN</td>\n",
       "      <td>80000.000000</td>\n",
       "      <td>70550.000000</td>\n",
       "      <td>NaN</td>\n",
       "      <td>NaN</td>\n",
       "      <td>NaN</td>\n",
       "      <td>NaN</td>\n",
       "      <td>NaN</td>\n",
       "      <td>NaN</td>\n",
       "      <td>1.000000</td>\n",
       "      <td>1.000000</td>\n",
       "      <td>1.000000</td>\n",
       "    </tr>\n",
       "    <tr>\n",
       "      <th>max</th>\n",
       "      <td>65.000000</td>\n",
       "      <td>NaN</td>\n",
       "      <td>NaN</td>\n",
       "      <td>NaN</td>\n",
       "      <td>NaN</td>\n",
       "      <td>29.000000</td>\n",
       "      <td>NaN</td>\n",
       "      <td>850000.000000</td>\n",
       "      <td>130000.000000</td>\n",
       "      <td>NaN</td>\n",
       "      <td>NaN</td>\n",
       "      <td>NaN</td>\n",
       "      <td>NaN</td>\n",
       "      <td>NaN</td>\n",
       "      <td>NaN</td>\n",
       "      <td>1.000000</td>\n",
       "      <td>1.000000</td>\n",
       "      <td>1.000000</td>\n",
       "    </tr>\n",
       "  </tbody>\n",
       "</table>\n",
       "</div>"
      ],
      "text/plain": [
       "                Age Gender    City           Position  Quit  YearsOverall  \\\n",
       "count   1184.000000   1184    1184               1184  1184   1184.000000   \n",
       "unique          NaN      2     105                144     2           NaN   \n",
       "top             NaN   Male  Berlin  Software Engineer    No           NaN   \n",
       "freq            NaN   1000     649                366   964           NaN   \n",
       "mean      32.328547    NaN     NaN                NaN   NaN      8.609459   \n",
       "std        5.214519    NaN     NaN                NaN   NaN      4.966149   \n",
       "min       20.000000    NaN     NaN                NaN   NaN      0.000000   \n",
       "25%       29.000000    NaN     NaN                NaN   NaN      5.000000   \n",
       "50%       32.000000    NaN     NaN                NaN   NaN      8.000000   \n",
       "75%       35.000000    NaN     NaN                NaN   NaN     12.000000   \n",
       "max       65.000000    NaN     NaN                NaN   NaN     29.000000   \n",
       "\n",
       "       Seniority    BasicSalary      LY_Salary VacDays          EmplStatus  \\\n",
       "count       1184    1184.000000    1184.000000    1135                1177   \n",
       "unique        22            NaN            NaN      43                  10   \n",
       "top       Senior            NaN            NaN      30  Full-time employee   \n",
       "freq         540            NaN            NaN     473                1140   \n",
       "mean         NaN   70705.651292   46666.213682     NaN                 NaN   \n",
       "std          NaN   31736.975963   32955.262067     NaN                 NaN   \n",
       "min          NaN   10001.000000       0.000000     NaN                 NaN   \n",
       "25%          NaN   58000.000000       0.000000     NaN                 NaN   \n",
       "50%          NaN   70000.000000   58000.000000     NaN                 NaN   \n",
       "75%          NaN   80000.000000   70550.000000     NaN                 NaN   \n",
       "max          NaN  850000.000000  130000.000000     NaN                 NaN   \n",
       "\n",
       "                  Contract Language CusSize  CusArea     TechRole  \\\n",
       "count                 1169     1179    1180     1174  1184.000000   \n",
       "unique                   3       13       5       61          NaN   \n",
       "top     Unlimited contract  English   1000+  Product          NaN   \n",
       "freq                  1110      977     428      733          NaN   \n",
       "mean                   NaN      NaN     NaN      NaN     0.906250   \n",
       "std                    NaN      NaN     NaN      NaN     0.291604   \n",
       "min                    NaN      NaN     NaN      NaN     0.000000   \n",
       "25%                    NaN      NaN     NaN      NaN     1.000000   \n",
       "50%                    NaN      NaN     NaN      NaN     1.000000   \n",
       "75%                    NaN      NaN     NaN      NaN     1.000000   \n",
       "max                    NaN      NaN     NaN      NaN     1.000000   \n",
       "\n",
       "        ThisYearBonus  LastYearBonus  \n",
       "count     1184.000000    1184.000000  \n",
       "unique            NaN            NaN  \n",
       "top               NaN            NaN  \n",
       "freq              NaN            NaN  \n",
       "mean         0.483108       0.330236  \n",
       "std          0.499926       0.470497  \n",
       "min          0.000000       0.000000  \n",
       "25%          0.000000       0.000000  \n",
       "50%          0.000000       0.000000  \n",
       "75%          1.000000       1.000000  \n",
       "max          1.000000       1.000000  "
      ]
     },
     "execution_count": 162,
     "metadata": {},
     "output_type": "execute_result"
    }
   ],
   "source": [
    "# Declare a variable that is equal to the 99th percentile of the 'Price' variable\n",
    "q = data_clean['LY_Salary'].quantile(0.99)\n",
    "\n",
    "# Create a new data file with the condition that all prices must be below the 99th percentile of 'Price'\n",
    "# Remove the top 1% of the data about 'PreisTicket'\n",
    "data_cut = data_clean[data_clean['LY_Salary'] < q]\n",
    "\n",
    "data_cut.describe(include='all')"
   ]
  },
  {
   "cell_type": "code",
   "execution_count": 163,
   "metadata": {},
   "outputs": [
    {
     "data": {
      "text/plain": [
       "(array([1.195e+03, 0.000e+00, 0.000e+00, 0.000e+00, 0.000e+00, 0.000e+00,\n",
       "        0.000e+00, 0.000e+00, 0.000e+00, 0.000e+00, 0.000e+00, 0.000e+00,\n",
       "        0.000e+00, 0.000e+00, 0.000e+00, 0.000e+00, 0.000e+00, 0.000e+00,\n",
       "        0.000e+00, 1.000e+00]),\n",
       " array([0.00e+00, 2.50e+07, 5.00e+07, 7.50e+07, 1.00e+08, 1.25e+08,\n",
       "        1.50e+08, 1.75e+08, 2.00e+08, 2.25e+08, 2.50e+08, 2.75e+08,\n",
       "        3.00e+08, 3.25e+08, 3.50e+08, 3.75e+08, 4.00e+08, 4.25e+08,\n",
       "        4.50e+08, 4.75e+08, 5.00e+08]),\n",
       " <BarContainer object of 20 artists>)"
      ]
     },
     "execution_count": 163,
     "metadata": {},
     "output_type": "execute_result"
    },
    {
     "data": {
      "image/png": "[encoded data removed]",
      "text/plain": [
       "<Figure size 640x480 with 1 Axes>"
      ]
     },
     "metadata": {},
     "output_type": "display_data"
    }
   ],
   "source": [
    "plt.hist(data_clean['LY_Salary'], bins=20)"
   ]
  },
  {
   "cell_type": "code",
   "execution_count": 164,
   "metadata": {},
   "outputs": [],
   "source": [
    "# Lösche die Spaalte LY_Salary\n",
    "data_clean = data_clean.drop(['LY_Salary'], axis=1)"
   ]
  },
  {
   "cell_type": "code",
   "execution_count": 165,
   "metadata": {},
   "outputs": [
    {
     "data": {
      "text/plain": [
       "Age               0\n",
       "Gender            0\n",
       "City              0\n",
       "Position          0\n",
       "Quit              0\n",
       "YearsOverall      0\n",
       "Seniority         0\n",
       "BasicSalary       0\n",
       "VacDays          49\n",
       "EmplStatus        7\n",
       "Contract         16\n",
       "Language          5\n",
       "CusSize           4\n",
       "CusArea          10\n",
       "TechRole          0\n",
       "ThisYearBonus     0\n",
       "LastYearBonus     0\n",
       "dtype: int64"
      ]
     },
     "execution_count": 165,
     "metadata": {},
     "output_type": "execute_result"
    }
   ],
   "source": [
    "# Zeige die fehlenden Werte an\n",
    "data_clean.isnull().sum()"
   ]
  },
  {
   "cell_type": "code",
   "execution_count": 166,
   "metadata": {},
   "outputs": [],
   "source": [
    "# Entferne alle restlichen fehlenden Werte\n",
    "data_clean = data_clean.dropna()"
   ]
  },
  {
   "cell_type": "code",
   "execution_count": 167,
   "metadata": {},
   "outputs": [],
   "source": [
    "# Lösche Spalte City\n",
    "data_clean = data_clean.drop(['City'], axis=1)"
   ]
  },
  {
   "cell_type": "code",
   "execution_count": 168,
   "metadata": {},
   "outputs": [],
   "source": [
    "# Lösche die Spalte VacDays\n",
    "data_clean = data_clean.drop(['VacDays'], axis=1)"
   ]
  },
  {
   "cell_type": "code",
   "execution_count": 169,
   "metadata": {},
   "outputs": [],
   "source": [
    "# Lösche die Spalte Position\n",
    "data_clean = data_clean.drop(['Position'], axis=1)"
   ]
  },
  {
   "cell_type": "code",
   "execution_count": 170,
   "metadata": {},
   "outputs": [
    {
     "data": {
      "text/html": [
       "<div>\n",
       "<style scoped>\n",
       "    .dataframe tbody tr th:only-of-type {\n",
       "        vertical-align: middle;\n",
       "    }\n",
       "\n",
       "    .dataframe tbody tr th {\n",
       "        vertical-align: top;\n",
       "    }\n",
       "\n",
       "    .dataframe thead th {\n",
       "        text-align: right;\n",
       "    }\n",
       "</style>\n",
       "<table border=\"1\" class=\"dataframe\">\n",
       "  <thead>\n",
       "    <tr style=\"text-align: right;\">\n",
       "      <th></th>\n",
       "      <th>Age</th>\n",
       "      <th>Gender</th>\n",
       "      <th>Quit</th>\n",
       "      <th>YearsOverall</th>\n",
       "      <th>Seniority</th>\n",
       "      <th>BasicSalary</th>\n",
       "      <th>EmplStatus</th>\n",
       "      <th>Contract</th>\n",
       "      <th>Language</th>\n",
       "      <th>CusSize</th>\n",
       "      <th>CusArea</th>\n",
       "      <th>TechRole</th>\n",
       "      <th>ThisYearBonus</th>\n",
       "      <th>LastYearBonus</th>\n",
       "    </tr>\n",
       "  </thead>\n",
       "  <tbody>\n",
       "    <tr>\n",
       "      <th>0</th>\n",
       "      <td>28</td>\n",
       "      <td>Male</td>\n",
       "      <td>No</td>\n",
       "      <td>9.0</td>\n",
       "      <td>Senior</td>\n",
       "      <td>61200.0</td>\n",
       "      <td>Full-time employee</td>\n",
       "      <td>Unlimited contract</td>\n",
       "      <td>English</td>\n",
       "      <td>1000+</td>\n",
       "      <td>Automotive</td>\n",
       "      <td>1</td>\n",
       "      <td>1</td>\n",
       "      <td>1</td>\n",
       "    </tr>\n",
       "    <tr>\n",
       "      <th>1</th>\n",
       "      <td>39</td>\n",
       "      <td>Female</td>\n",
       "      <td>No</td>\n",
       "      <td>13.0</td>\n",
       "      <td>Senior</td>\n",
       "      <td>108000.0</td>\n",
       "      <td>Full-time employee</td>\n",
       "      <td>Unlimited contract</td>\n",
       "      <td>German</td>\n",
       "      <td>1000+</td>\n",
       "      <td>Automotive</td>\n",
       "      <td>0</td>\n",
       "      <td>0</td>\n",
       "      <td>0</td>\n",
       "    </tr>\n",
       "    <tr>\n",
       "      <th>3</th>\n",
       "      <td>32</td>\n",
       "      <td>Male</td>\n",
       "      <td>No</td>\n",
       "      <td>13.0</td>\n",
       "      <td>Senior</td>\n",
       "      <td>85000.0</td>\n",
       "      <td>Full-time employee</td>\n",
       "      <td>Unlimited contract</td>\n",
       "      <td>English</td>\n",
       "      <td>1000+</td>\n",
       "      <td>Bank</td>\n",
       "      <td>1</td>\n",
       "      <td>1</td>\n",
       "      <td>1</td>\n",
       "    </tr>\n",
       "    <tr>\n",
       "      <th>4</th>\n",
       "      <td>35</td>\n",
       "      <td>Female</td>\n",
       "      <td>No</td>\n",
       "      <td>5.0</td>\n",
       "      <td>Senior</td>\n",
       "      <td>75000.0</td>\n",
       "      <td>Full-time employee</td>\n",
       "      <td>Unlimited contract</td>\n",
       "      <td>English</td>\n",
       "      <td>1000+</td>\n",
       "      <td>Bank</td>\n",
       "      <td>1</td>\n",
       "      <td>1</td>\n",
       "      <td>0</td>\n",
       "    </tr>\n",
       "    <tr>\n",
       "      <th>5</th>\n",
       "      <td>22</td>\n",
       "      <td>Male</td>\n",
       "      <td>Yes</td>\n",
       "      <td>2.0</td>\n",
       "      <td>Junior</td>\n",
       "      <td>45000.0</td>\n",
       "      <td>Full-time employee</td>\n",
       "      <td>Unlimited contract</td>\n",
       "      <td>German</td>\n",
       "      <td>1000+</td>\n",
       "      <td>Bank</td>\n",
       "      <td>1</td>\n",
       "      <td>1</td>\n",
       "      <td>1</td>\n",
       "    </tr>\n",
       "  </tbody>\n",
       "</table>\n",
       "</div>"
      ],
      "text/plain": [
       "   Age  Gender Quit  YearsOverall Seniority  BasicSalary          EmplStatus  \\\n",
       "0   28    Male   No           9.0    Senior      61200.0  Full-time employee   \n",
       "1   39  Female   No          13.0    Senior     108000.0  Full-time employee   \n",
       "3   32    Male   No          13.0    Senior      85000.0  Full-time employee   \n",
       "4   35  Female   No           5.0    Senior      75000.0  Full-time employee   \n",
       "5   22    Male  Yes           2.0    Junior      45000.0  Full-time employee   \n",
       "\n",
       "             Contract Language CusSize      CusArea  TechRole  ThisYearBonus  \\\n",
       "0  Unlimited contract  English   1000+   Automotive         1              1   \n",
       "1  Unlimited contract   German   1000+  Automotive          0              0   \n",
       "3  Unlimited contract  English   1000+         Bank         1              1   \n",
       "4  Unlimited contract  English   1000+         Bank         1              1   \n",
       "5  Unlimited contract   German   1000+         Bank         1              1   \n",
       "\n",
       "   LastYearBonus  \n",
       "0              1  \n",
       "1              0  \n",
       "3              1  \n",
       "4              0  \n",
       "5              1  "
      ]
     },
     "execution_count": 170,
     "metadata": {},
     "output_type": "execute_result"
    }
   ],
   "source": [
    "# zeige head von data_clean\n",
    "data_clean.head()"
   ]
  },
  {
   "cell_type": "code",
   "execution_count": 171,
   "metadata": {},
   "outputs": [
    {
     "data": {
      "text/plain": [
       "array(['1000+', '101 to 1000', 'up to 10', '51 to 100', '11 to 50'],\n",
       "      dtype=object)"
      ]
     },
     "execution_count": 171,
     "metadata": {},
     "output_type": "execute_result"
    }
   ],
   "source": [
    "# unique values von CusSize\n",
    "data_clean['CusSize'].unique()"
   ]
  },
  {
   "cell_type": "code",
   "execution_count": 172,
   "metadata": {},
   "outputs": [
    {
     "data": {
      "text/plain": [
       "array(['English', 'German', 'Russian', 'Deuglisch', 'French', 'Italian',\n",
       "       'Polish', 'Spanish', 'Czech', 'Indian', 'English and German',\n",
       "       'Russian, English', 'both'], dtype=object)"
      ]
     },
     "execution_count": 172,
     "metadata": {},
     "output_type": "execute_result"
    }
   ],
   "source": [
    "# unique values von Language\n",
    "data_clean['Language'].unique()"
   ]
  },
  {
   "cell_type": "code",
   "execution_count": 173,
   "metadata": {},
   "outputs": [],
   "source": [
    "# Lösche die Spalte Language\n",
    "data_clean = data_clean.drop(['Language'], axis=1)"
   ]
  },
  {
   "cell_type": "code",
   "execution_count": 174,
   "metadata": {},
   "outputs": [
    {
     "data": {
      "text/plain": [
       "array(['Unlimited contract', 'Temporary contract', '0'], dtype=object)"
      ]
     },
     "execution_count": 174,
     "metadata": {},
     "output_type": "execute_result"
    }
   ],
   "source": [
    "# unique values von Contract\n",
    "data_clean['Contract'].unique()"
   ]
  },
  {
   "cell_type": "code",
   "execution_count": 175,
   "metadata": {},
   "outputs": [
    {
     "data": {
      "text/plain": [
       "<Axes: xlabel='Contract', ylabel='count'>"
      ]
     },
     "execution_count": 175,
     "metadata": {},
     "output_type": "execute_result"
    },
    {
     "data": {
      "image/png": "[encoded data removed]",
      "text/plain": [
       "<Figure size 640x480 with 1 Axes>"
      ]
     },
     "metadata": {},
     "output_type": "display_data"
    }
   ],
   "source": [
    "# zeige die Verteilung von Contract\n",
    "sns.countplot(x='Contract', data=data_clean, palette='hls')"
   ]
  },
  {
   "cell_type": "code",
   "execution_count": 176,
   "metadata": {},
   "outputs": [],
   "source": [
    "# lösche die 0 Werte von Contract\n",
    "data_clean = data_clean[data_clean['Contract'] != 0]"
   ]
  },
  {
   "cell_type": "code",
   "execution_count": 177,
   "metadata": {},
   "outputs": [
    {
     "data": {
      "text/plain": [
       "<Axes: xlabel='EmplStatus', ylabel='count'>"
      ]
     },
     "execution_count": 177,
     "metadata": {},
     "output_type": "execute_result"
    },
    {
     "data": {
      "image/png": "[encoded data removed]",
      "text/plain": [
       "<Figure size 640x480 with 1 Axes>"
      ]
     },
     "metadata": {},
     "output_type": "display_data"
    }
   ],
   "source": [
    "# zeige die Verteilung von EmplStaturs\n",
    "sns.countplot(x='EmplStatus', data=data_clean, palette='hls')"
   ]
  },
  {
   "cell_type": "code",
   "execution_count": 178,
   "metadata": {},
   "outputs": [
    {
     "data": {
      "text/plain": [
       "array(['Full-time employee', 'Self-employed (freelancer)', 'Werkstudent',\n",
       "       'Founder', 'working student', 'Part-time employee',\n",
       "       \"full-time, but 32 hours per week (it was my request, I'm a student)\",\n",
       "       'Working Student'], dtype=object)"
      ]
     },
     "execution_count": 178,
     "metadata": {},
     "output_type": "execute_result"
    }
   ],
   "source": [
    "# uniuqe values von EmplStatus\n",
    "data_clean['EmplStatus'].unique()"
   ]
  },
  {
   "cell_type": "code",
   "execution_count": 179,
   "metadata": {},
   "outputs": [],
   "source": [
    "# Lösche die Spalte EmplStatus\n",
    "data_clean = data_clean.drop(['EmplStatus'], axis=1)"
   ]
  },
  {
   "cell_type": "code",
   "execution_count": 180,
   "metadata": {},
   "outputs": [
    {
     "data": {
      "text/html": [
       "<div>\n",
       "<style scoped>\n",
       "    .dataframe tbody tr th:only-of-type {\n",
       "        vertical-align: middle;\n",
       "    }\n",
       "\n",
       "    .dataframe tbody tr th {\n",
       "        vertical-align: top;\n",
       "    }\n",
       "\n",
       "    .dataframe thead th {\n",
       "        text-align: right;\n",
       "    }\n",
       "</style>\n",
       "<table border=\"1\" class=\"dataframe\">\n",
       "  <thead>\n",
       "    <tr style=\"text-align: right;\">\n",
       "      <th></th>\n",
       "      <th>Age</th>\n",
       "      <th>Gender</th>\n",
       "      <th>Quit</th>\n",
       "      <th>YearsOverall</th>\n",
       "      <th>Seniority</th>\n",
       "      <th>BasicSalary</th>\n",
       "      <th>Contract</th>\n",
       "      <th>CusSize</th>\n",
       "      <th>CusArea</th>\n",
       "      <th>TechRole</th>\n",
       "      <th>ThisYearBonus</th>\n",
       "      <th>LastYearBonus</th>\n",
       "    </tr>\n",
       "  </thead>\n",
       "  <tbody>\n",
       "    <tr>\n",
       "      <th>0</th>\n",
       "      <td>28</td>\n",
       "      <td>Male</td>\n",
       "      <td>No</td>\n",
       "      <td>9.0</td>\n",
       "      <td>Senior</td>\n",
       "      <td>61200.0</td>\n",
       "      <td>Unlimited contract</td>\n",
       "      <td>1000+</td>\n",
       "      <td>Automotive</td>\n",
       "      <td>1</td>\n",
       "      <td>1</td>\n",
       "      <td>1</td>\n",
       "    </tr>\n",
       "    <tr>\n",
       "      <th>1</th>\n",
       "      <td>39</td>\n",
       "      <td>Female</td>\n",
       "      <td>No</td>\n",
       "      <td>13.0</td>\n",
       "      <td>Senior</td>\n",
       "      <td>108000.0</td>\n",
       "      <td>Unlimited contract</td>\n",
       "      <td>1000+</td>\n",
       "      <td>Automotive</td>\n",
       "      <td>0</td>\n",
       "      <td>0</td>\n",
       "      <td>0</td>\n",
       "    </tr>\n",
       "    <tr>\n",
       "      <th>3</th>\n",
       "      <td>32</td>\n",
       "      <td>Male</td>\n",
       "      <td>No</td>\n",
       "      <td>13.0</td>\n",
       "      <td>Senior</td>\n",
       "      <td>85000.0</td>\n",
       "      <td>Unlimited contract</td>\n",
       "      <td>1000+</td>\n",
       "      <td>Bank</td>\n",
       "      <td>1</td>\n",
       "      <td>1</td>\n",
       "      <td>1</td>\n",
       "    </tr>\n",
       "    <tr>\n",
       "      <th>4</th>\n",
       "      <td>35</td>\n",
       "      <td>Female</td>\n",
       "      <td>No</td>\n",
       "      <td>5.0</td>\n",
       "      <td>Senior</td>\n",
       "      <td>75000.0</td>\n",
       "      <td>Unlimited contract</td>\n",
       "      <td>1000+</td>\n",
       "      <td>Bank</td>\n",
       "      <td>1</td>\n",
       "      <td>1</td>\n",
       "      <td>0</td>\n",
       "    </tr>\n",
       "    <tr>\n",
       "      <th>5</th>\n",
       "      <td>22</td>\n",
       "      <td>Male</td>\n",
       "      <td>Yes</td>\n",
       "      <td>2.0</td>\n",
       "      <td>Junior</td>\n",
       "      <td>45000.0</td>\n",
       "      <td>Unlimited contract</td>\n",
       "      <td>1000+</td>\n",
       "      <td>Bank</td>\n",
       "      <td>1</td>\n",
       "      <td>1</td>\n",
       "      <td>1</td>\n",
       "    </tr>\n",
       "  </tbody>\n",
       "</table>\n",
       "</div>"
      ],
      "text/plain": [
       "   Age  Gender Quit  YearsOverall Seniority  BasicSalary            Contract  \\\n",
       "0   28    Male   No           9.0    Senior      61200.0  Unlimited contract   \n",
       "1   39  Female   No          13.0    Senior     108000.0  Unlimited contract   \n",
       "3   32    Male   No          13.0    Senior      85000.0  Unlimited contract   \n",
       "4   35  Female   No           5.0    Senior      75000.0  Unlimited contract   \n",
       "5   22    Male  Yes           2.0    Junior      45000.0  Unlimited contract   \n",
       "\n",
       "  CusSize      CusArea  TechRole  ThisYearBonus  LastYearBonus  \n",
       "0   1000+   Automotive         1              1              1  \n",
       "1   1000+  Automotive          0              0              0  \n",
       "3   1000+         Bank         1              1              1  \n",
       "4   1000+         Bank         1              1              0  \n",
       "5   1000+         Bank         1              1              1  "
      ]
     },
     "execution_count": 180,
     "metadata": {},
     "output_type": "execute_result"
    }
   ],
   "source": [
    "# Zeige den aktuellen Dataframe\n",
    "data_clean.head()"
   ]
  },
  {
   "cell_type": "code",
   "execution_count": 181,
   "metadata": {},
   "outputs": [
    {
     "data": {
      "text/plain": [
       "array(['Senior', 'Junior', 'Lead', 'Middle', 'Head', 'No level',\n",
       "       'C-Level', 'intern', 'Student', 'VP', 'Work Center Manager', 'CTO',\n",
       "       'Director', 'Key', 'Principal', 'No level ',\n",
       "       'C-level executive manager', 'student', 'Working Student'],\n",
       "      dtype=object)"
      ]
     },
     "execution_count": 181,
     "metadata": {},
     "output_type": "execute_result"
    }
   ],
   "source": [
    "# unique values von Seniority\n",
    "data_clean['Seniority'].unique()"
   ]
  },
  {
   "cell_type": "code",
   "execution_count": 182,
   "metadata": {},
   "outputs": [
    {
     "data": {
      "text/html": [
       "<div>\n",
       "<style scoped>\n",
       "    .dataframe tbody tr th:only-of-type {\n",
       "        vertical-align: middle;\n",
       "    }\n",
       "\n",
       "    .dataframe tbody tr th {\n",
       "        vertical-align: top;\n",
       "    }\n",
       "\n",
       "    .dataframe thead th {\n",
       "        text-align: right;\n",
       "    }\n",
       "</style>\n",
       "<table border=\"1\" class=\"dataframe\">\n",
       "  <thead>\n",
       "    <tr style=\"text-align: right;\">\n",
       "      <th></th>\n",
       "      <th>Age</th>\n",
       "      <th>Gender</th>\n",
       "      <th>Quit</th>\n",
       "      <th>YearsOverall</th>\n",
       "      <th>Seniority</th>\n",
       "      <th>BasicSalary</th>\n",
       "      <th>Contract</th>\n",
       "      <th>CusSize</th>\n",
       "      <th>CusArea</th>\n",
       "      <th>TechRole</th>\n",
       "      <th>ThisYearBonus</th>\n",
       "      <th>LastYearBonus</th>\n",
       "    </tr>\n",
       "  </thead>\n",
       "  <tbody>\n",
       "    <tr>\n",
       "      <th>count</th>\n",
       "      <td>1124.000000</td>\n",
       "      <td>1124</td>\n",
       "      <td>1124</td>\n",
       "      <td>1124.000000</td>\n",
       "      <td>1124</td>\n",
       "      <td>1.124000e+03</td>\n",
       "      <td>1124</td>\n",
       "      <td>1124</td>\n",
       "      <td>1124</td>\n",
       "      <td>1124.000000</td>\n",
       "      <td>1124.000000</td>\n",
       "      <td>1124.000000</td>\n",
       "    </tr>\n",
       "    <tr>\n",
       "      <th>unique</th>\n",
       "      <td>NaN</td>\n",
       "      <td>2</td>\n",
       "      <td>2</td>\n",
       "      <td>NaN</td>\n",
       "      <td>19</td>\n",
       "      <td>NaN</td>\n",
       "      <td>3</td>\n",
       "      <td>5</td>\n",
       "      <td>58</td>\n",
       "      <td>NaN</td>\n",
       "      <td>NaN</td>\n",
       "      <td>NaN</td>\n",
       "    </tr>\n",
       "    <tr>\n",
       "      <th>top</th>\n",
       "      <td>NaN</td>\n",
       "      <td>Male</td>\n",
       "      <td>No</td>\n",
       "      <td>NaN</td>\n",
       "      <td>Senior</td>\n",
       "      <td>NaN</td>\n",
       "      <td>Unlimited contract</td>\n",
       "      <td>1000+</td>\n",
       "      <td>Product</td>\n",
       "      <td>NaN</td>\n",
       "      <td>NaN</td>\n",
       "      <td>NaN</td>\n",
       "    </tr>\n",
       "    <tr>\n",
       "      <th>freq</th>\n",
       "      <td>NaN</td>\n",
       "      <td>952</td>\n",
       "      <td>919</td>\n",
       "      <td>NaN</td>\n",
       "      <td>511</td>\n",
       "      <td>NaN</td>\n",
       "      <td>1067</td>\n",
       "      <td>414</td>\n",
       "      <td>706</td>\n",
       "      <td>NaN</td>\n",
       "      <td>NaN</td>\n",
       "      <td>NaN</td>\n",
       "    </tr>\n",
       "    <tr>\n",
       "      <th>mean</th>\n",
       "      <td>32.326512</td>\n",
       "      <td>NaN</td>\n",
       "      <td>NaN</td>\n",
       "      <td>8.625979</td>\n",
       "      <td>NaN</td>\n",
       "      <td>5.161422e+05</td>\n",
       "      <td>NaN</td>\n",
       "      <td>NaN</td>\n",
       "      <td>NaN</td>\n",
       "      <td>0.914591</td>\n",
       "      <td>0.493772</td>\n",
       "      <td>0.346975</td>\n",
       "    </tr>\n",
       "    <tr>\n",
       "      <th>std</th>\n",
       "      <td>5.170397</td>\n",
       "      <td>NaN</td>\n",
       "      <td>NaN</td>\n",
       "      <td>4.975026</td>\n",
       "      <td>NaN</td>\n",
       "      <td>1.491166e+07</td>\n",
       "      <td>NaN</td>\n",
       "      <td>NaN</td>\n",
       "      <td>NaN</td>\n",
       "      <td>0.279614</td>\n",
       "      <td>0.500184</td>\n",
       "      <td>0.476220</td>\n",
       "    </tr>\n",
       "    <tr>\n",
       "      <th>min</th>\n",
       "      <td>20.000000</td>\n",
       "      <td>NaN</td>\n",
       "      <td>NaN</td>\n",
       "      <td>0.000000</td>\n",
       "      <td>NaN</td>\n",
       "      <td>1.000100e+04</td>\n",
       "      <td>NaN</td>\n",
       "      <td>NaN</td>\n",
       "      <td>NaN</td>\n",
       "      <td>0.000000</td>\n",
       "      <td>0.000000</td>\n",
       "      <td>0.000000</td>\n",
       "    </tr>\n",
       "    <tr>\n",
       "      <th>25%</th>\n",
       "      <td>29.000000</td>\n",
       "      <td>NaN</td>\n",
       "      <td>NaN</td>\n",
       "      <td>5.000000</td>\n",
       "      <td>NaN</td>\n",
       "      <td>5.895000e+04</td>\n",
       "      <td>NaN</td>\n",
       "      <td>NaN</td>\n",
       "      <td>NaN</td>\n",
       "      <td>1.000000</td>\n",
       "      <td>0.000000</td>\n",
       "      <td>0.000000</td>\n",
       "    </tr>\n",
       "    <tr>\n",
       "      <th>50%</th>\n",
       "      <td>32.000000</td>\n",
       "      <td>NaN</td>\n",
       "      <td>NaN</td>\n",
       "      <td>8.000000</td>\n",
       "      <td>NaN</td>\n",
       "      <td>7.000000e+04</td>\n",
       "      <td>NaN</td>\n",
       "      <td>NaN</td>\n",
       "      <td>NaN</td>\n",
       "      <td>1.000000</td>\n",
       "      <td>0.000000</td>\n",
       "      <td>0.000000</td>\n",
       "    </tr>\n",
       "    <tr>\n",
       "      <th>75%</th>\n",
       "      <td>35.000000</td>\n",
       "      <td>NaN</td>\n",
       "      <td>NaN</td>\n",
       "      <td>12.000000</td>\n",
       "      <td>NaN</td>\n",
       "      <td>8.000000e+04</td>\n",
       "      <td>NaN</td>\n",
       "      <td>NaN</td>\n",
       "      <td>NaN</td>\n",
       "      <td>1.000000</td>\n",
       "      <td>1.000000</td>\n",
       "      <td>1.000000</td>\n",
       "    </tr>\n",
       "    <tr>\n",
       "      <th>max</th>\n",
       "      <td>65.000000</td>\n",
       "      <td>NaN</td>\n",
       "      <td>NaN</td>\n",
       "      <td>29.000000</td>\n",
       "      <td>NaN</td>\n",
       "      <td>5.000000e+08</td>\n",
       "      <td>NaN</td>\n",
       "      <td>NaN</td>\n",
       "      <td>NaN</td>\n",
       "      <td>1.000000</td>\n",
       "      <td>1.000000</td>\n",
       "      <td>1.000000</td>\n",
       "    </tr>\n",
       "  </tbody>\n",
       "</table>\n",
       "</div>"
      ],
      "text/plain": [
       "                Age Gender  Quit  YearsOverall Seniority   BasicSalary  \\\n",
       "count   1124.000000   1124  1124   1124.000000      1124  1.124000e+03   \n",
       "unique          NaN      2     2           NaN        19           NaN   \n",
       "top             NaN   Male    No           NaN    Senior           NaN   \n",
       "freq            NaN    952   919           NaN       511           NaN   \n",
       "mean      32.326512    NaN   NaN      8.625979       NaN  5.161422e+05   \n",
       "std        5.170397    NaN   NaN      4.975026       NaN  1.491166e+07   \n",
       "min       20.000000    NaN   NaN      0.000000       NaN  1.000100e+04   \n",
       "25%       29.000000    NaN   NaN      5.000000       NaN  5.895000e+04   \n",
       "50%       32.000000    NaN   NaN      8.000000       NaN  7.000000e+04   \n",
       "75%       35.000000    NaN   NaN     12.000000       NaN  8.000000e+04   \n",
       "max       65.000000    NaN   NaN     29.000000       NaN  5.000000e+08   \n",
       "\n",
       "                  Contract CusSize  CusArea     TechRole  ThisYearBonus  \\\n",
       "count                 1124    1124     1124  1124.000000    1124.000000   \n",
       "unique                   3       5       58          NaN            NaN   \n",
       "top     Unlimited contract   1000+  Product          NaN            NaN   \n",
       "freq                  1067     414      706          NaN            NaN   \n",
       "mean                   NaN     NaN      NaN     0.914591       0.493772   \n",
       "std                    NaN     NaN      NaN     0.279614       0.500184   \n",
       "min                    NaN     NaN      NaN     0.000000       0.000000   \n",
       "25%                    NaN     NaN      NaN     1.000000       0.000000   \n",
       "50%                    NaN     NaN      NaN     1.000000       0.000000   \n",
       "75%                    NaN     NaN      NaN     1.000000       1.000000   \n",
       "max                    NaN     NaN      NaN     1.000000       1.000000   \n",
       "\n",
       "        LastYearBonus  \n",
       "count     1124.000000  \n",
       "unique            NaN  \n",
       "top               NaN  \n",
       "freq              NaN  \n",
       "mean         0.346975  \n",
       "std          0.476220  \n",
       "min          0.000000  \n",
       "25%          0.000000  \n",
       "50%          0.000000  \n",
       "75%          1.000000  \n",
       "max          1.000000  "
      ]
     },
     "execution_count": 182,
     "metadata": {},
     "output_type": "execute_result"
    }
   ],
   "source": [
    "data_clean.describe(include='all')"
   ]
  },
  {
   "cell_type": "code",
   "execution_count": 183,
   "metadata": {},
   "outputs": [
    {
     "data": {
      "text/plain": [
       "array(['Automotive', 'Automotive ', 'Bank', 'Bank ', 'BehÃ¶rde',\n",
       "       'Biergarten ', 'Big commercial', 'Bloody enterprise', 'Cloud',\n",
       "       'Concern', 'Consulting / Agency', 'Consulting and Product',\n",
       "       'consumer goods', 'corporate incubator', 'Corporation',\n",
       "       'Corporation ', 'Ecommerce', 'eCommerce', 'E-commerce',\n",
       "       'e-commerce', 'E-Commerce', 'Education', 'Energy ', 'Enterprise',\n",
       "       'FAANG', 'Finance', 'Financial ', 'Fintech', 'Game Company',\n",
       "       'Handel ', 'Industry', 'Insurance',\n",
       "       'IT Department of established business', 'IT-Outsourcing',\n",
       "       'Market Research ', 'Media', 'Multinational ', 'Non-tech retail',\n",
       "       'Old industry', 'Outsorce', 'Outsourse', 'Pharma', 'Product',\n",
       "       'Publisher', 'Publishing and Technology', 'Research',\n",
       "       'Research institute', 'Retail', 'SaaS', 'Science Institute ',\n",
       "       'Semiconductor', 'service', 'Startup', 'Systemhaus',\n",
       "       'Telecommunications', 'Transport & Logistics', 'University',\n",
       "       'Utilities'], dtype=object)"
      ]
     },
     "execution_count": 183,
     "metadata": {},
     "output_type": "execute_result"
    }
   ],
   "source": [
    "# zeige die unique values von CusArea\n",
    "data_clean['CusArea'].unique()\n"
   ]
  },
  {
   "cell_type": "code",
   "execution_count": 184,
   "metadata": {},
   "outputs": [],
   "source": [
    "# löschen der Spalte CusArea\n",
    "data_clean = data_clean.drop(['CusArea'], axis=1)"
   ]
  },
  {
   "cell_type": "code",
   "execution_count": 185,
   "metadata": {},
   "outputs": [
    {
     "data": {
      "text/plain": [
       "array(['Senior', 'Junior', 'Lead', 'Middle', 'Head', 'No level',\n",
       "       'C-Level', 'intern', 'Student', 'VP', 'Work Center Manager', 'CTO',\n",
       "       'Director', 'Key', 'Principal', 'No level ',\n",
       "       'C-level executive manager', 'student', 'Working Student'],\n",
       "      dtype=object)"
      ]
     },
     "execution_count": 185,
     "metadata": {},
     "output_type": "execute_result"
    }
   ],
   "source": [
    "# unique values von Seniority\n",
    "data_clean['Seniority'].unique()"
   ]
  },
  {
   "cell_type": "code",
   "execution_count": 186,
   "metadata": {},
   "outputs": [],
   "source": [
    "# Liste mit den logischen Kategorien definieren\n",
    "management_levels = ['Senior', 'Lead', 'Work Center Manager', 'Principal']\n",
    "top_management_levels = ['C-Level', 'VP', 'CTO', 'Director', 'C-level executive manager', 'Head']\n",
    "employee_levels = ['Junior', 'Middle']\n",
    "unset_levels = ['No level', 'No level ']\n",
    "intern_levels = ['intern', 'Student', 'student', 'Working Student']\n",
    "\n",
    "# Neue Spalte \"Level\" basierend auf den logischen Kategorien erstellen\n",
    "data_clean['Level'] = 'Other'\n",
    "data_clean.loc[data_clean['Seniority'].isin(management_levels), 'Level'] = 'Management'\n",
    "data_clean.loc[data_clean['Seniority'].isin(top_management_levels), 'Level'] = 'Top Management'\n",
    "data_clean.loc[data_clean['Seniority'].isin(employee_levels), 'Level'] = 'Employee'\n",
    "data_clean.loc[data_clean['Seniority'].isin(unset_levels), 'Level'] = 'Unset'\n",
    "data_clean.loc[data_clean['Seniority'].isin(intern_levels), 'Level'] = 'Intern'"
   ]
  },
  {
   "cell_type": "code",
   "execution_count": 187,
   "metadata": {},
   "outputs": [
    {
     "data": {
      "text/plain": [
       "<Axes: xlabel='Level', ylabel='count'>"
      ]
     },
     "execution_count": 187,
     "metadata": {},
     "output_type": "execute_result"
    },
    {
     "data": {
      "image/png": "[encoded data removed]",
      "text/plain": [
       "<Figure size 640x480 with 1 Axes>"
      ]
     },
     "metadata": {},
     "output_type": "display_data"
    }
   ],
   "source": [
    "# zeige die Vertelung von Level\n",
    "sns.countplot(x='Level', data=data_clean, palette='hls')"
   ]
  },
  {
   "cell_type": "code",
   "execution_count": 188,
   "metadata": {},
   "outputs": [],
   "source": [
    "# Lössche unset und intern und other\n",
    "data_clean = data_clean[data_clean['Level'] != 'Unset']\n",
    "data_clean = data_clean[data_clean['Level'] != 'Intern']\n",
    "data_clean = data_clean[data_clean['Level'] != 'Other']"
   ]
  },
  {
   "cell_type": "code",
   "execution_count": 189,
   "metadata": {},
   "outputs": [],
   "source": [
    "# Lösche die Spalte Seniority\n",
    "data_clean = data_clean.drop(['Seniority'], axis=1)"
   ]
  },
  {
   "cell_type": "code",
   "execution_count": 190,
   "metadata": {},
   "outputs": [
    {
     "data": {
      "text/html": [
       "<div>\n",
       "<style scoped>\n",
       "    .dataframe tbody tr th:only-of-type {\n",
       "        vertical-align: middle;\n",
       "    }\n",
       "\n",
       "    .dataframe tbody tr th {\n",
       "        vertical-align: top;\n",
       "    }\n",
       "\n",
       "    .dataframe thead th {\n",
       "        text-align: right;\n",
       "    }\n",
       "</style>\n",
       "<table border=\"1\" class=\"dataframe\">\n",
       "  <thead>\n",
       "    <tr style=\"text-align: right;\">\n",
       "      <th></th>\n",
       "      <th>Age</th>\n",
       "      <th>Gender</th>\n",
       "      <th>Quit</th>\n",
       "      <th>YearsOverall</th>\n",
       "      <th>BasicSalary</th>\n",
       "      <th>Contract</th>\n",
       "      <th>CusSize</th>\n",
       "      <th>TechRole</th>\n",
       "      <th>ThisYearBonus</th>\n",
       "      <th>LastYearBonus</th>\n",
       "      <th>Level</th>\n",
       "    </tr>\n",
       "  </thead>\n",
       "  <tbody>\n",
       "    <tr>\n",
       "      <th>0</th>\n",
       "      <td>28</td>\n",
       "      <td>Male</td>\n",
       "      <td>No</td>\n",
       "      <td>9.0</td>\n",
       "      <td>61200.0</td>\n",
       "      <td>Unlimited contract</td>\n",
       "      <td>1000+</td>\n",
       "      <td>1</td>\n",
       "      <td>1</td>\n",
       "      <td>1</td>\n",
       "      <td>Management</td>\n",
       "    </tr>\n",
       "    <tr>\n",
       "      <th>1</th>\n",
       "      <td>39</td>\n",
       "      <td>Female</td>\n",
       "      <td>No</td>\n",
       "      <td>13.0</td>\n",
       "      <td>108000.0</td>\n",
       "      <td>Unlimited contract</td>\n",
       "      <td>1000+</td>\n",
       "      <td>0</td>\n",
       "      <td>0</td>\n",
       "      <td>0</td>\n",
       "      <td>Management</td>\n",
       "    </tr>\n",
       "    <tr>\n",
       "      <th>3</th>\n",
       "      <td>32</td>\n",
       "      <td>Male</td>\n",
       "      <td>No</td>\n",
       "      <td>13.0</td>\n",
       "      <td>85000.0</td>\n",
       "      <td>Unlimited contract</td>\n",
       "      <td>1000+</td>\n",
       "      <td>1</td>\n",
       "      <td>1</td>\n",
       "      <td>1</td>\n",
       "      <td>Management</td>\n",
       "    </tr>\n",
       "    <tr>\n",
       "      <th>4</th>\n",
       "      <td>35</td>\n",
       "      <td>Female</td>\n",
       "      <td>No</td>\n",
       "      <td>5.0</td>\n",
       "      <td>75000.0</td>\n",
       "      <td>Unlimited contract</td>\n",
       "      <td>1000+</td>\n",
       "      <td>1</td>\n",
       "      <td>1</td>\n",
       "      <td>0</td>\n",
       "      <td>Management</td>\n",
       "    </tr>\n",
       "    <tr>\n",
       "      <th>5</th>\n",
       "      <td>22</td>\n",
       "      <td>Male</td>\n",
       "      <td>Yes</td>\n",
       "      <td>2.0</td>\n",
       "      <td>45000.0</td>\n",
       "      <td>Unlimited contract</td>\n",
       "      <td>1000+</td>\n",
       "      <td>1</td>\n",
       "      <td>1</td>\n",
       "      <td>1</td>\n",
       "      <td>Employee</td>\n",
       "    </tr>\n",
       "  </tbody>\n",
       "</table>\n",
       "</div>"
      ],
      "text/plain": [
       "   Age  Gender Quit  YearsOverall  BasicSalary            Contract CusSize  \\\n",
       "0   28    Male   No           9.0      61200.0  Unlimited contract   1000+   \n",
       "1   39  Female   No          13.0     108000.0  Unlimited contract   1000+   \n",
       "3   32    Male   No          13.0      85000.0  Unlimited contract   1000+   \n",
       "4   35  Female   No           5.0      75000.0  Unlimited contract   1000+   \n",
       "5   22    Male  Yes           2.0      45000.0  Unlimited contract   1000+   \n",
       "\n",
       "   TechRole  ThisYearBonus  LastYearBonus       Level  \n",
       "0         1              1              1  Management  \n",
       "1         0              0              0  Management  \n",
       "3         1              1              1  Management  \n",
       "4         1              1              0  Management  \n",
       "5         1              1              1    Employee  "
      ]
     },
     "execution_count": 190,
     "metadata": {},
     "output_type": "execute_result"
    }
   ],
   "source": [
    "# zeige head von data_clean\n",
    "data_clean.head()"
   ]
  },
  {
   "cell_type": "markdown",
   "metadata": {},
   "source": [
    "## 2.3 Überprüfung auf Duplikate"
   ]
  },
  {
   "cell_type": "code",
   "execution_count": 191,
   "metadata": {},
   "outputs": [],
   "source": [
    "# Index neu setzen\n",
    "data_clean = data_clean.reset_index(drop=True)"
   ]
  },
  {
   "cell_type": "markdown",
   "metadata": {},
   "source": [
    "# 2.4 Binäre Variablen in 1 und 0 umwandeln"
   ]
  },
  {
   "cell_type": "code",
   "execution_count": 192,
   "metadata": {},
   "outputs": [],
   "source": [
    "# binäre variablen umwandeln\n",
    "# Quit in 0 und 1 umwandeln\n",
    "data_clean['Quit'] = data_clean['Quit'].map({'Yes': 1, 'No': 0})"
   ]
  },
  {
   "cell_type": "code",
   "execution_count": 193,
   "metadata": {},
   "outputs": [],
   "source": [
    "# Gender in 0 und 1 umwandeln\n",
    "data_clean['Gender'] = data_clean['Gender'].map({'Male': 1, 'Female': 0})"
   ]
  },
  {
   "cell_type": "markdown",
   "metadata": {},
   "source": [
    "# 2.5 Ausreißer überprüfen wurden bereits bearbeitet"
   ]
  },
  {
   "cell_type": "code",
   "execution_count": 194,
   "metadata": {},
   "outputs": [
    {
     "data": {
      "text/plain": [
       "Index(['Contract', 'CusSize', 'Level'], dtype='object')"
      ]
     },
     "execution_count": 194,
     "metadata": {},
     "output_type": "execute_result"
    }
   ],
   "source": [
    "# Zeige alle Spalten mit kathegorischen Variablen\n",
    "categorical_columns = data_clean.select_dtypes(include=['object']).columns\n",
    "categorical_columns"
   ]
  },
  {
   "cell_type": "code",
   "execution_count": 195,
   "metadata": {},
   "outputs": [
    {
     "data": {
      "text/plain": [
       "Index(['Age', 'Gender', 'Quit', 'YearsOverall', 'BasicSalary', 'TechRole',\n",
       "       'ThisYearBonus', 'LastYearBonus'],\n",
       "      dtype='object')"
      ]
     },
     "execution_count": 195,
     "metadata": {},
     "output_type": "execute_result"
    }
   ],
   "source": [
    "# Zeige alle Spalten mit numerischen Variablen\n",
    "numerical_columns = data_clean.select_dtypes(include=['float64', 'int64']).columns\n",
    "numerical_columns"
   ]
  },
  {
   "cell_type": "markdown",
   "metadata": {},
   "source": []
  },
  {
   "cell_type": "code",
   "execution_count": 196,
   "metadata": {},
   "outputs": [
    {
     "name": "stdout",
     "output_type": "stream",
     "text": [
      "Ausreißer in Spalte 'Age':\n",
      "      Age  Gender  Quit  YearsOverall  BasicSalary            Contract  \\\n",
      "87     54       1     1          25.0      75000.0  Unlimited contract   \n",
      "111    46       1     0          23.0      90000.0  Unlimited contract   \n",
      "115    49       1     0          27.0      57000.0  Unlimited contract   \n",
      "137    45       1     1           2.0      42000.0  Unlimited contract   \n",
      "165    50       1     0          29.0      28800.0  Unlimited contract   \n",
      "170    45       1     0          19.0      90000.0  Unlimited contract   \n",
      "218    48       1     0          25.0      75000.0  Unlimited contract   \n",
      "287    46       1     1           4.0      82000.0  Unlimited contract   \n",
      "294    46       1     1          14.0      80000.0  Unlimited contract   \n",
      "314    45       1     0          10.0      77000.0  Unlimited contract   \n",
      "342    45       0     0           6.0      55000.0  Unlimited contract   \n",
      "363    46       1     1          14.0      80000.0  Unlimited contract   \n",
      "374    47       1     0          22.0      46000.0  Unlimited contract   \n",
      "493    45       0     0          15.0      52000.0  Unlimited contract   \n",
      "594    46       1     0          13.0      70000.0  Unlimited contract   \n",
      "776    56       1     0           9.0      75000.0  Temporary contract   \n",
      "782    49       1     0          15.0      67000.0  Unlimited contract   \n",
      "785    45       1     0          26.0      93000.0  Unlimited contract   \n",
      "792    46       1     0          13.0      70000.0  Unlimited contract   \n",
      "793    46       1     0          12.0      85000.0  Unlimited contract   \n",
      "802    45       1     0          25.0      75000.0  Unlimited contract   \n",
      "803    65       1     0          25.0      55000.0  Unlimited contract   \n",
      "952    46       1     1          10.0      68500.0  Unlimited contract   \n",
      "1059   48       1     0          15.0      30000.0  Unlimited contract   \n",
      "1107   45       1     1           3.0      70000.0  Unlimited contract   \n",
      "\n",
      "          CusSize  TechRole  ThisYearBonus  LastYearBonus       Level  \n",
      "87          1000+         1              1              1    Employee  \n",
      "111         1000+         1              1              1  Management  \n",
      "115   101 to 1000         1              0              0  Management  \n",
      "137   101 to 1000         1              0              0  Management  \n",
      "165      11 to 50         1              1              1  Management  \n",
      "170         1000+         0              1              1  Management  \n",
      "218   101 to 1000         1              0              0  Management  \n",
      "287   101 to 1000         0              0              1  Management  \n",
      "294     51 to 100         1              0              0  Management  \n",
      "314   101 to 1000         1              1              1  Management  \n",
      "342      11 to 50         1              0              0  Management  \n",
      "363     51 to 100         1              0              0  Management  \n",
      "374      up to 10         1              1              1  Management  \n",
      "493      11 to 50         1              0              0  Management  \n",
      "594         1000+         1              1              0    Employee  \n",
      "776         1000+         1              0              0  Management  \n",
      "782         1000+         1              1              0  Management  \n",
      "785         1000+         1              1              1  Management  \n",
      "792   101 to 1000         1              1              1  Management  \n",
      "793         1000+         1              1              1  Management  \n",
      "802         1000+         1              1              1  Management  \n",
      "803     51 to 100         1              0              0  Management  \n",
      "952     51 to 100         1              0              0  Management  \n",
      "1059     up to 10         1              0              0  Management  \n",
      "1107     11 to 50         1              0              0  Management  \n",
      "Ausreißer in Spalte 'Gender':\n",
      "      Age  Gender  Quit  YearsOverall  BasicSalary            Contract  \\\n",
      "1      39       0     0          13.0     108000.0  Unlimited contract   \n",
      "3      35       0     0           5.0      75000.0  Unlimited contract   \n",
      "6      30       0     0           6.0      70000.0  Unlimited contract   \n",
      "7      40       0     0          20.0      54000.0  Unlimited contract   \n",
      "27     32       0     0          10.0      60000.0  Unlimited contract   \n",
      "...   ...     ...   ...           ...          ...                 ...   \n",
      "1084   37       0     1           7.0      75000.0  Unlimited contract   \n",
      "1086   35       0     0           5.0      60000.0  Unlimited contract   \n",
      "1088   29       0     0           6.0      51000.0  Unlimited contract   \n",
      "1103   26       0     0           5.0      65000.0  Unlimited contract   \n",
      "1115   30       0     0           8.0      85000.0  Unlimited contract   \n",
      "\n",
      "          CusSize  TechRole  ThisYearBonus  LastYearBonus           Level  \n",
      "1           1000+         0              0              0      Management  \n",
      "3           1000+         1              1              0      Management  \n",
      "6           1000+         1              1              1      Management  \n",
      "7     101 to 1000         1              0              0        Employee  \n",
      "27      51 to 100         0              1              1      Management  \n",
      "...           ...       ...            ...            ...             ...  \n",
      "1084     11 to 50         1              1              0  Top Management  \n",
      "1086  101 to 1000         0              0              0      Management  \n",
      "1088  101 to 1000         1              0              0        Employee  \n",
      "1103     up to 10         1              1              1        Employee  \n",
      "1115        1000+         1              1              1      Management  \n",
      "\n",
      "[167 rows x 11 columns]\n",
      "Ausreißer in Spalte 'Quit':\n",
      "      Age  Gender  Quit  YearsOverall  BasicSalary            Contract  \\\n",
      "4      22       1     1           2.0      45000.0  Unlimited contract   \n",
      "5      31       1     1           2.5      20000.0  Unlimited contract   \n",
      "12     32       1     1          10.0     120000.0  Temporary contract   \n",
      "13     38       1     1          20.0     200000.0                   0   \n",
      "15     30       1     1           8.0      60000.0  Temporary contract   \n",
      "...   ...     ...   ...           ...          ...                 ...   \n",
      "1099   36       1     1           1.0      37500.0  Temporary contract   \n",
      "1101   35       1     1           9.0      77000.0  Unlimited contract   \n",
      "1107   45       1     1           3.0      70000.0  Unlimited contract   \n",
      "1108   30       1     1           2.0      13000.0  Unlimited contract   \n",
      "1113   24       1     1           3.0      10164.0  Temporary contract   \n",
      "\n",
      "          CusSize  TechRole  ThisYearBonus  LastYearBonus           Level  \n",
      "4           1000+         1              1              1        Employee  \n",
      "5           1000+         1              1              1      Management  \n",
      "12          1000+         1              0              0      Management  \n",
      "13       up to 10         1              1              1  Top Management  \n",
      "15       up to 10         1              0              0      Management  \n",
      "...           ...       ...            ...            ...             ...  \n",
      "1099     up to 10         1              0              0        Employee  \n",
      "1101  101 to 1000         1              0              0      Management  \n",
      "1107     11 to 50         1              0              0      Management  \n",
      "1108    51 to 100         1              0              0        Employee  \n",
      "1113     11 to 50         1              0              0        Employee  \n",
      "\n",
      "[203 rows x 11 columns]\n",
      "Ausreißer in Spalte 'YearsOverall':\n",
      "     Age  Gender  Quit  YearsOverall  BasicSalary            Contract  \\\n",
      "87    54       1     1          25.0      75000.0  Unlimited contract   \n",
      "111   46       1     0          23.0      90000.0  Unlimited contract   \n",
      "115   49       1     0          27.0      57000.0  Unlimited contract   \n",
      "165   50       1     0          29.0      28800.0  Unlimited contract   \n",
      "180   32       1     1          25.0     100000.0  Temporary contract   \n",
      "218   48       1     0          25.0      75000.0  Unlimited contract   \n",
      "289   40       1     0          25.0      85000.0  Unlimited contract   \n",
      "388   44       1     0          28.0      78500.0  Unlimited contract   \n",
      "460   38       1     1          24.0     130000.0  Unlimited contract   \n",
      "785   45       1     0          26.0      93000.0  Unlimited contract   \n",
      "802   45       1     0          25.0      75000.0  Unlimited contract   \n",
      "803   65       1     0          25.0      55000.0  Unlimited contract   \n",
      "\n",
      "         CusSize  TechRole  ThisYearBonus  LastYearBonus           Level  \n",
      "87         1000+         1              1              1        Employee  \n",
      "111        1000+         1              1              1      Management  \n",
      "115  101 to 1000         1              0              0      Management  \n",
      "165     11 to 50         1              1              1      Management  \n",
      "180     11 to 50         1              1              1      Management  \n",
      "218  101 to 1000         1              0              0      Management  \n",
      "289     11 to 50         1              1              1      Management  \n",
      "388    51 to 100         1              0              1      Management  \n",
      "460  101 to 1000         1              0              0  Top Management  \n",
      "785        1000+         1              1              1      Management  \n",
      "802        1000+         1              1              1      Management  \n",
      "803    51 to 100         1              0              0      Management  \n",
      "Ausreißer in Spalte 'BasicSalary':\n",
      "      Age  Gender  Quit  YearsOverall  BasicSalary            Contract  \\\n",
      "5      31       1     1           2.5      20000.0  Unlimited contract   \n",
      "11     34       1     0          10.0     120000.0  Unlimited contract   \n",
      "12     32       1     1          10.0     120000.0  Temporary contract   \n",
      "13     38       1     1          20.0     200000.0                   0   \n",
      "17     24       1     1           0.8      11500.0  Temporary contract   \n",
      "...   ...     ...   ...           ...          ...                 ...   \n",
      "1061   22       1     1           3.0      10001.0  Unlimited contract   \n",
      "1068   36       1     0          16.0     120000.0  Unlimited contract   \n",
      "1100   33       1     0          11.0     154000.0  Temporary contract   \n",
      "1108   30       1     1           2.0      13000.0  Unlimited contract   \n",
      "1113   24       1     1           3.0      10164.0  Temporary contract   \n",
      "\n",
      "          CusSize  TechRole  ThisYearBonus  LastYearBonus           Level  \n",
      "5           1000+         1              1              1      Management  \n",
      "11          1000+         1              1              1      Management  \n",
      "12          1000+         1              0              0      Management  \n",
      "13       up to 10         1              1              1  Top Management  \n",
      "17       11 to 50         1              0              0        Employee  \n",
      "...           ...       ...            ...            ...             ...  \n",
      "1061     up to 10         1              0              0        Employee  \n",
      "1068  101 to 1000         1              1              1      Management  \n",
      "1100     11 to 50         1              0              0      Management  \n",
      "1108    51 to 100         1              0              0        Employee  \n",
      "1113     11 to 50         1              0              0        Employee  \n",
      "\n",
      "[67 rows x 11 columns]\n",
      "Ausreißer in Spalte 'TechRole':\n",
      "      Age  Gender  Quit  YearsOverall  BasicSalary            Contract  \\\n",
      "1      39       0     0          13.0     108000.0  Unlimited contract   \n",
      "19     32       1     0          10.0     110000.0  Unlimited contract   \n",
      "23     34       1     0          12.0      77500.0  Unlimited contract   \n",
      "27     32       0     0          10.0      60000.0  Unlimited contract   \n",
      "36     28       0     0           4.0      53000.0  Unlimited contract   \n",
      "...   ...     ...   ...           ...          ...                 ...   \n",
      "1078   31       0     1           4.0      60000.0  Unlimited contract   \n",
      "1083   36       1     0          15.0      90000.0  Unlimited contract   \n",
      "1086   35       0     0           5.0      60000.0  Unlimited contract   \n",
      "1102   43       1     0          21.0      83000.0  Unlimited contract   \n",
      "1110   38       1     0          20.0      44000.0  Unlimited contract   \n",
      "\n",
      "          CusSize  TechRole  ThisYearBonus  LastYearBonus           Level  \n",
      "1           1000+         0              0              0      Management  \n",
      "19          1000+         0              1              1  Top Management  \n",
      "23    101 to 1000         0              1              0      Management  \n",
      "27      51 to 100         0              1              1      Management  \n",
      "36          1000+         0              0              0        Employee  \n",
      "...           ...       ...            ...            ...             ...  \n",
      "1078  101 to 1000         0              0              0        Employee  \n",
      "1083  101 to 1000         0              0              0      Management  \n",
      "1086  101 to 1000         0              0              0      Management  \n",
      "1102    51 to 100         0              0              0      Management  \n",
      "1110     11 to 50         0              0              0      Management  \n",
      "\n",
      "[94 rows x 11 columns]\n",
      "Ausreißer in Spalte 'ThisYearBonus':\n",
      "Empty DataFrame\n",
      "Columns: [Age, Gender, Quit, YearsOverall, BasicSalary, Contract, CusSize, TechRole, ThisYearBonus, LastYearBonus, Level]\n",
      "Index: []\n",
      "Ausreißer in Spalte 'LastYearBonus':\n",
      "Empty DataFrame\n",
      "Columns: [Age, Gender, Quit, YearsOverall, BasicSalary, Contract, CusSize, TechRole, ThisYearBonus, LastYearBonus, Level]\n",
      "Index: []\n"
     ]
    }
   ],
   "source": [
    "# Liste der Spalten, die auf Ausreißer überprüft werden sollen\n",
    "outlier_columns = numerical_columns\n",
    "\n",
    "# Funktion zum Identifizieren von Ausreißern basierend auf dem IQR\n",
    "def detect_outliers(data, column):\n",
    "    Q1 = data[column].quantile(0.25)\n",
    "    Q3 = data[column].quantile(0.75)\n",
    "    IQR = Q3 - Q1\n",
    "    lower_bound = Q1 - 1.5 * IQR\n",
    "    upper_bound = Q3 + 1.5 * IQR\n",
    "    outliers = data[(data[column] < lower_bound) | (data[column] > upper_bound)]\n",
    "    return outliers\n",
    "\n",
    "# Überprüfung auf Ausreißer für die angegebenen Spalten\n",
    "for column in outlier_columns:\n",
    "    outliers = detect_outliers(data_clean, column)\n",
    "    print(f\"Ausreißer in Spalte '{column}':\")\n",
    "    print(outliers)\n",
    "\n"
   ]
  },
  {
   "cell_type": "code",
   "execution_count": 197,
   "metadata": {},
   "outputs": [
    {
     "name": "stderr",
     "output_type": "stream",
     "text": [
      "/var/folders/9n/l51dmzlx70jgqg93_yzvb_y00000gn/T/ipykernel_7148/2608233413.py:3: FutureWarning: The default value of numeric_only in DataFrame.corr is deprecated. In a future version, it will default to False. Select only valid columns or specify the value of numeric_only to silence this warning.\n",
      "  correlation_matrix = data_clean.corr()\n"
     ]
    },
    {
     "data": {
      "image/png": "[encoded data removed]",
      "text/plain": [
       "<Figure size 1000x800 with 2 Axes>"
      ]
     },
     "metadata": {},
     "output_type": "display_data"
    }
   ],
   "source": [
    "# Zeige eine Korrleationsmatrix für numerische Variablen\n",
    "# Berechnen der Korrelationsmatrix\n",
    "correlation_matrix = data_clean.corr()\n",
    "\n",
    "# Erstellung der Heatmap\n",
    "plt.figure(figsize=(10, 8))\n",
    "sns.heatmap(correlation_matrix, annot=True, cmap='coolwarm', fmt=\".2f\", linewidths=0.5)\n",
    "plt.title('Korrelationsmatrix')\n",
    "plt.show()"
   ]
  },
  {
   "cell_type": "markdown",
   "metadata": {},
   "source": [
    "### Export"
   ]
  },
  {
   "cell_type": "code",
   "execution_count": 198,
   "metadata": {},
   "outputs": [],
   "source": [
    "# Exportiern des aktuellen Datensatzes\n",
    "data_clean.to_csv('data_prepared.csv', index=False)"
   ]
  }
 ],
 "metadata": {
  "kernelspec": {
   "display_name": "Python 3 (ipykernel)",
   "language": "python",
   "name": "python3"
  },
  "language_info": {
   "codemirror_mode": {
    "name": "ipython",
    "version": 3
   },
   "file_extension": ".py",
   "mimetype": "text/x-python",
   "name": "python",
   "nbconvert_exporter": "python",
   "pygments_lexer": "ipython3",
   "version": "3.10.9"
  }
 },
 "nbformat": 4,
 "nbformat_minor": 2
}
