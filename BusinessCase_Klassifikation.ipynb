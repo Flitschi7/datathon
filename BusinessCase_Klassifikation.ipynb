{
 "cells": [
  {
   "cell_type": "markdown",
   "id": "f49b34cd",
   "metadata": {},
   "source": [
    "# Business Case 2 "
   ]
  },
  {
   "cell_type": "markdown",
   "id": "f989ee03",
   "metadata": {},
   "source": [
    "### Modellbildung und Evaluation"
   ]
  },
  {
   "cell_type": "code",
   "execution_count": 1,
   "id": "11f1605b",
   "metadata": {},
   "outputs": [
    {
     "ename": "ModuleNotFoundError",
     "evalue": "No module named 'pandas'",
     "output_type": "error",
     "traceback": [
      "\u001b[1;31m---------------------------------------------------------------------------\u001b[0m",
      "\u001b[1;31mModuleNotFoundError\u001b[0m                       Traceback (most recent call last)",
      "Cell \u001b[1;32mIn[1], line 1\u001b[0m\n\u001b[1;32m----> 1\u001b[0m \u001b[39mimport\u001b[39;00m \u001b[39mpandas\u001b[39;00m \u001b[39mas\u001b[39;00m \u001b[39mpd\u001b[39;00m \n\u001b[0;32m      2\u001b[0m \u001b[39mimport\u001b[39;00m \u001b[39mnumpy\u001b[39;00m \u001b[39mas\u001b[39;00m \u001b[39mnp\u001b[39;00m\n\u001b[0;32m      3\u001b[0m \u001b[39mimport\u001b[39;00m \u001b[39mmatplotlib\u001b[39;00m\u001b[39m.\u001b[39;00m\u001b[39mpyplot\u001b[39;00m \u001b[39mas\u001b[39;00m \u001b[39mplt\u001b[39;00m\n",
      "\u001b[1;31mModuleNotFoundError\u001b[0m: No module named 'pandas'"
     ]
    }
   ],
   "source": [
    "import pandas as pd \n",
    "import numpy as np\n",
    "import matplotlib.pyplot as plt\n",
    "import seaborn as sns\n",
    "import statsmodels.api as sm\n",
    "\n",
    "from sklearn.model_selection import train_test_split\n",
    "from sklearn.linear_model import LogisticRegression\n",
    "from sklearn import metrics\n",
    "from sklearn import metrics\n",
    "from sklearn.metrics import classification_report, confusion_matrix\n",
    "from sklearn.metrics import confusion_matrix\n",
    "from sklearn.tree import DecisionTreeClassifier\n",
    "from sklearn.ensemble import RandomForestClassifier\n",
    "\n",
    "sns.set()"
   ]
  },
  {
   "cell_type": "markdown",
   "id": "b38f5948",
   "metadata": {},
   "source": [
    "Importieren des Datensatzes, welcher im \"Data Prep\" Notebook exportiert wurde:"
   ]
  },
  {
   "cell_type": "code",
   "execution_count": 2,
   "id": "2f625205",
   "metadata": {},
   "outputs": [],
   "source": [
    "data_prepared = pd.read_csv('data_prepared.csv')"
   ]
  },
  {
   "cell_type": "code",
   "execution_count": 3,
   "id": "40ef9cf6",
   "metadata": {
    "scrolled": false
   },
   "outputs": [
    {
     "data": {
      "text/html": [
       "<div>\n",
       "<style scoped>\n",
       "    .dataframe tbody tr th:only-of-type {\n",
       "        vertical-align: middle;\n",
       "    }\n",
       "\n",
       "    .dataframe tbody tr th {\n",
       "        vertical-align: top;\n",
       "    }\n",
       "\n",
       "    .dataframe thead th {\n",
       "        text-align: right;\n",
       "    }\n",
       "</style>\n",
       "<table border=\"1\" class=\"dataframe\">\n",
       "  <thead>\n",
       "    <tr style=\"text-align: right;\">\n",
       "      <th></th>\n",
       "      <th>Fluglinie</th>\n",
       "      <th>Start</th>\n",
       "      <th>Startzeit</th>\n",
       "      <th>Stops</th>\n",
       "      <th>Ankunftszeit</th>\n",
       "      <th>Ziel</th>\n",
       "      <th>Klasse</th>\n",
       "      <th>Kauf</th>\n",
       "      <th>Buchung</th>\n",
       "      <th>Source</th>\n",
       "      <th>OnlineTime</th>\n",
       "      <th>PreisTicket</th>\n",
       "    </tr>\n",
       "  </thead>\n",
       "  <tbody>\n",
       "    <tr>\n",
       "      <th>0</th>\n",
       "      <td>Delta</td>\n",
       "      <td>Hamburg</td>\n",
       "      <td>Abend</td>\n",
       "      <td>zero</td>\n",
       "      <td>Nacht</td>\n",
       "      <td>Köln</td>\n",
       "      <td>Economy</td>\n",
       "      <td>1.0</td>\n",
       "      <td>1.0</td>\n",
       "      <td>Search</td>\n",
       "      <td>Spontan</td>\n",
       "      <td>595.3</td>\n",
       "    </tr>\n",
       "    <tr>\n",
       "      <th>1</th>\n",
       "      <td>Delta</td>\n",
       "      <td>Hamburg</td>\n",
       "      <td>Frühmorgen</td>\n",
       "      <td>zero</td>\n",
       "      <td>Morgen</td>\n",
       "      <td>Köln</td>\n",
       "      <td>Economy</td>\n",
       "      <td>1.0</td>\n",
       "      <td>1.0</td>\n",
       "      <td>Direct</td>\n",
       "      <td>Kurz</td>\n",
       "      <td>595.3</td>\n",
       "    </tr>\n",
       "    <tr>\n",
       "      <th>2</th>\n",
       "      <td>Lufthansa</td>\n",
       "      <td>Hamburg</td>\n",
       "      <td>Frühmorgen</td>\n",
       "      <td>zero</td>\n",
       "      <td>Frühmorgen</td>\n",
       "      <td>Köln</td>\n",
       "      <td>Economy</td>\n",
       "      <td>1.0</td>\n",
       "      <td>1.0</td>\n",
       "      <td>Social</td>\n",
       "      <td>Spontan</td>\n",
       "      <td>595.6</td>\n",
       "    </tr>\n",
       "    <tr>\n",
       "      <th>3</th>\n",
       "      <td>KLM</td>\n",
       "      <td>Hamburg</td>\n",
       "      <td>Morgen</td>\n",
       "      <td>zero</td>\n",
       "      <td>Nachmittag</td>\n",
       "      <td>Köln</td>\n",
       "      <td>Economy</td>\n",
       "      <td>1.0</td>\n",
       "      <td>1.0</td>\n",
       "      <td>Ads</td>\n",
       "      <td>Mittel</td>\n",
       "      <td>595.5</td>\n",
       "    </tr>\n",
       "    <tr>\n",
       "      <th>4</th>\n",
       "      <td>KLM</td>\n",
       "      <td>Hamburg</td>\n",
       "      <td>Morgen</td>\n",
       "      <td>zero</td>\n",
       "      <td>Morgen</td>\n",
       "      <td>Köln</td>\n",
       "      <td>Economy</td>\n",
       "      <td>1.0</td>\n",
       "      <td>1.0</td>\n",
       "      <td>Search</td>\n",
       "      <td>Kurz</td>\n",
       "      <td>595.5</td>\n",
       "    </tr>\n",
       "    <tr>\n",
       "      <th>...</th>\n",
       "      <td>...</td>\n",
       "      <td>...</td>\n",
       "      <td>...</td>\n",
       "      <td>...</td>\n",
       "      <td>...</td>\n",
       "      <td>...</td>\n",
       "      <td>...</td>\n",
       "      <td>...</td>\n",
       "      <td>...</td>\n",
       "      <td>...</td>\n",
       "      <td>...</td>\n",
       "      <td>...</td>\n",
       "    </tr>\n",
       "    <tr>\n",
       "      <th>294886</th>\n",
       "      <td>RyanAir</td>\n",
       "      <td>Nürnberg</td>\n",
       "      <td>Abend</td>\n",
       "      <td>one</td>\n",
       "      <td>Morgen</td>\n",
       "      <td>Frankfurt</td>\n",
       "      <td>Business</td>\n",
       "      <td>0.0</td>\n",
       "      <td>49.0</td>\n",
       "      <td>Direct</td>\n",
       "      <td>Lang</td>\n",
       "      <td>5134.5</td>\n",
       "    </tr>\n",
       "    <tr>\n",
       "      <th>294887</th>\n",
       "      <td>RyanAir</td>\n",
       "      <td>Nürnberg</td>\n",
       "      <td>Morgen</td>\n",
       "      <td>one</td>\n",
       "      <td>Morgen</td>\n",
       "      <td>Frankfurt</td>\n",
       "      <td>Business</td>\n",
       "      <td>0.0</td>\n",
       "      <td>49.0</td>\n",
       "      <td>Social</td>\n",
       "      <td>Lang</td>\n",
       "      <td>5134.5</td>\n",
       "    </tr>\n",
       "    <tr>\n",
       "      <th>294888</th>\n",
       "      <td>RyanAir</td>\n",
       "      <td>Nürnberg</td>\n",
       "      <td>Frühmorgen</td>\n",
       "      <td>one</td>\n",
       "      <td>Morgen</td>\n",
       "      <td>Frankfurt</td>\n",
       "      <td>Business</td>\n",
       "      <td>0.0</td>\n",
       "      <td>49.0</td>\n",
       "      <td>Direct</td>\n",
       "      <td>Kurz</td>\n",
       "      <td>5134.5</td>\n",
       "    </tr>\n",
       "    <tr>\n",
       "      <th>294889</th>\n",
       "      <td>RyanAir</td>\n",
       "      <td>Nürnberg</td>\n",
       "      <td>Frühmorgen</td>\n",
       "      <td>one</td>\n",
       "      <td>Nacht</td>\n",
       "      <td>Frankfurt</td>\n",
       "      <td>Business</td>\n",
       "      <td>0.0</td>\n",
       "      <td>49.0</td>\n",
       "      <td>Ads</td>\n",
       "      <td>Lang</td>\n",
       "      <td>6873.9</td>\n",
       "    </tr>\n",
       "    <tr>\n",
       "      <th>294890</th>\n",
       "      <td>KLM</td>\n",
       "      <td>Nürnberg</td>\n",
       "      <td>Morgen</td>\n",
       "      <td>one</td>\n",
       "      <td>Abend</td>\n",
       "      <td>Frankfurt</td>\n",
       "      <td>Business</td>\n",
       "      <td>0.0</td>\n",
       "      <td>49.0</td>\n",
       "      <td>Direct</td>\n",
       "      <td>Lang</td>\n",
       "      <td>6926.5</td>\n",
       "    </tr>\n",
       "  </tbody>\n",
       "</table>\n",
       "<p>294891 rows × 12 columns</p>\n",
       "</div>"
      ],
      "text/plain": [
       "        Fluglinie     Start   Startzeit Stops Ankunftszeit       Ziel  \\\n",
       "0           Delta   Hamburg       Abend  zero        Nacht       Köln   \n",
       "1           Delta   Hamburg  Frühmorgen  zero       Morgen       Köln   \n",
       "2       Lufthansa   Hamburg  Frühmorgen  zero   Frühmorgen       Köln   \n",
       "3             KLM   Hamburg      Morgen  zero   Nachmittag       Köln   \n",
       "4             KLM   Hamburg      Morgen  zero       Morgen       Köln   \n",
       "...           ...       ...         ...   ...          ...        ...   \n",
       "294886    RyanAir  Nürnberg       Abend   one       Morgen  Frankfurt   \n",
       "294887    RyanAir  Nürnberg      Morgen   one       Morgen  Frankfurt   \n",
       "294888    RyanAir  Nürnberg  Frühmorgen   one       Morgen  Frankfurt   \n",
       "294889    RyanAir  Nürnberg  Frühmorgen   one        Nacht  Frankfurt   \n",
       "294890        KLM  Nürnberg      Morgen   one        Abend  Frankfurt   \n",
       "\n",
       "          Klasse  Kauf  Buchung  Source OnlineTime  PreisTicket  \n",
       "0        Economy   1.0      1.0  Search    Spontan        595.3  \n",
       "1        Economy   1.0      1.0  Direct       Kurz        595.3  \n",
       "2        Economy   1.0      1.0  Social    Spontan        595.6  \n",
       "3        Economy   1.0      1.0     Ads     Mittel        595.5  \n",
       "4        Economy   1.0      1.0  Search       Kurz        595.5  \n",
       "...          ...   ...      ...     ...        ...          ...  \n",
       "294886  Business   0.0     49.0  Direct       Lang       5134.5  \n",
       "294887  Business   0.0     49.0  Social       Lang       5134.5  \n",
       "294888  Business   0.0     49.0  Direct       Kurz       5134.5  \n",
       "294889  Business   0.0     49.0     Ads       Lang       6873.9  \n",
       "294890  Business   0.0     49.0  Direct       Lang       6926.5  \n",
       "\n",
       "[294891 rows x 12 columns]"
      ]
     },
     "execution_count": 3,
     "metadata": {},
     "output_type": "execute_result"
    }
   ],
   "source": [
    "data_prepared"
   ]
  },
  {
   "cell_type": "markdown",
   "id": "349e74a4",
   "metadata": {},
   "source": [
    "### Check Oversampling der Zielvariable"
   ]
  },
  {
   "cell_type": "code",
   "execution_count": 4,
   "id": "36fee6ca",
   "metadata": {},
   "outputs": [
    {
     "data": {
      "text/plain": [
       "\"\\nzielvariable_counts = data_prepared['Zielvariable'].value_counts()\\nprint(zielvariable_counts)\\n\\nzielvariable_counts.plot(kind='bar')\\nplt.xlabel('Zielvariable')\\nplt.ylabel('Count')\\nplt.title('Distribution of Zielvariable')\\nplt.show()\\n\""
      ]
     },
     "execution_count": 4,
     "metadata": {},
     "output_type": "execute_result"
    }
   ],
   "source": [
    "# Analyse der Zielvariable \n",
    "\n",
    "\"\"\"\n",
    "zielvariable_counts = data_prepared['Zielvariable'].value_counts()\n",
    "print(zielvariable_counts)\n",
    "\n",
    "zielvariable_counts.plot(kind='bar')\n",
    "plt.xlabel('Zielvariable')\n",
    "plt.ylabel('Count')\n",
    "plt.title('Distribution of Zielvariable')\n",
    "plt.show()\n",
    "\"\"\""
   ]
  },
  {
   "cell_type": "markdown",
   "id": "3a78284f",
   "metadata": {},
   "source": [
    "### Dummy Variablen erstellen"
   ]
  },
  {
   "cell_type": "code",
   "execution_count": 5,
   "id": "bcfdc88e",
   "metadata": {},
   "outputs": [
    {
     "data": {
      "text/html": [
       "<div>\n",
       "<style scoped>\n",
       "    .dataframe tbody tr th:only-of-type {\n",
       "        vertical-align: middle;\n",
       "    }\n",
       "\n",
       "    .dataframe tbody tr th {\n",
       "        vertical-align: top;\n",
       "    }\n",
       "\n",
       "    .dataframe thead th {\n",
       "        text-align: right;\n",
       "    }\n",
       "</style>\n",
       "<table border=\"1\" class=\"dataframe\">\n",
       "  <thead>\n",
       "    <tr style=\"text-align: right;\">\n",
       "      <th></th>\n",
       "      <th>Kauf</th>\n",
       "      <th>Buchung</th>\n",
       "      <th>PreisTicket</th>\n",
       "      <th>Fluglinie_Delta</th>\n",
       "      <th>Fluglinie_KLM</th>\n",
       "      <th>Fluglinie_Lufthansa</th>\n",
       "      <th>Fluglinie_RyanAir</th>\n",
       "      <th>Fluglinie_United</th>\n",
       "      <th>Start_Frankfurt</th>\n",
       "      <th>Start_Hamburg</th>\n",
       "      <th>...</th>\n",
       "      <th>Ziel_Köln</th>\n",
       "      <th>Ziel_München</th>\n",
       "      <th>Ziel_Nürnberg</th>\n",
       "      <th>Klasse_Economy</th>\n",
       "      <th>Source_Direct</th>\n",
       "      <th>Source_Search</th>\n",
       "      <th>Source_Social</th>\n",
       "      <th>OnlineTime_Lang</th>\n",
       "      <th>OnlineTime_Mittel</th>\n",
       "      <th>OnlineTime_Spontan</th>\n",
       "    </tr>\n",
       "  </thead>\n",
       "  <tbody>\n",
       "    <tr>\n",
       "      <th>0</th>\n",
       "      <td>1.0</td>\n",
       "      <td>1.0</td>\n",
       "      <td>595.3</td>\n",
       "      <td>1</td>\n",
       "      <td>0</td>\n",
       "      <td>0</td>\n",
       "      <td>0</td>\n",
       "      <td>0</td>\n",
       "      <td>0</td>\n",
       "      <td>1</td>\n",
       "      <td>...</td>\n",
       "      <td>1</td>\n",
       "      <td>0</td>\n",
       "      <td>0</td>\n",
       "      <td>1</td>\n",
       "      <td>0</td>\n",
       "      <td>1</td>\n",
       "      <td>0</td>\n",
       "      <td>0</td>\n",
       "      <td>0</td>\n",
       "      <td>1</td>\n",
       "    </tr>\n",
       "    <tr>\n",
       "      <th>1</th>\n",
       "      <td>1.0</td>\n",
       "      <td>1.0</td>\n",
       "      <td>595.3</td>\n",
       "      <td>1</td>\n",
       "      <td>0</td>\n",
       "      <td>0</td>\n",
       "      <td>0</td>\n",
       "      <td>0</td>\n",
       "      <td>0</td>\n",
       "      <td>1</td>\n",
       "      <td>...</td>\n",
       "      <td>1</td>\n",
       "      <td>0</td>\n",
       "      <td>0</td>\n",
       "      <td>1</td>\n",
       "      <td>1</td>\n",
       "      <td>0</td>\n",
       "      <td>0</td>\n",
       "      <td>0</td>\n",
       "      <td>0</td>\n",
       "      <td>0</td>\n",
       "    </tr>\n",
       "    <tr>\n",
       "      <th>2</th>\n",
       "      <td>1.0</td>\n",
       "      <td>1.0</td>\n",
       "      <td>595.6</td>\n",
       "      <td>0</td>\n",
       "      <td>0</td>\n",
       "      <td>1</td>\n",
       "      <td>0</td>\n",
       "      <td>0</td>\n",
       "      <td>0</td>\n",
       "      <td>1</td>\n",
       "      <td>...</td>\n",
       "      <td>1</td>\n",
       "      <td>0</td>\n",
       "      <td>0</td>\n",
       "      <td>1</td>\n",
       "      <td>0</td>\n",
       "      <td>0</td>\n",
       "      <td>1</td>\n",
       "      <td>0</td>\n",
       "      <td>0</td>\n",
       "      <td>1</td>\n",
       "    </tr>\n",
       "    <tr>\n",
       "      <th>3</th>\n",
       "      <td>1.0</td>\n",
       "      <td>1.0</td>\n",
       "      <td>595.5</td>\n",
       "      <td>0</td>\n",
       "      <td>1</td>\n",
       "      <td>0</td>\n",
       "      <td>0</td>\n",
       "      <td>0</td>\n",
       "      <td>0</td>\n",
       "      <td>1</td>\n",
       "      <td>...</td>\n",
       "      <td>1</td>\n",
       "      <td>0</td>\n",
       "      <td>0</td>\n",
       "      <td>1</td>\n",
       "      <td>0</td>\n",
       "      <td>0</td>\n",
       "      <td>0</td>\n",
       "      <td>0</td>\n",
       "      <td>1</td>\n",
       "      <td>0</td>\n",
       "    </tr>\n",
       "    <tr>\n",
       "      <th>4</th>\n",
       "      <td>1.0</td>\n",
       "      <td>1.0</td>\n",
       "      <td>595.5</td>\n",
       "      <td>0</td>\n",
       "      <td>1</td>\n",
       "      <td>0</td>\n",
       "      <td>0</td>\n",
       "      <td>0</td>\n",
       "      <td>0</td>\n",
       "      <td>1</td>\n",
       "      <td>...</td>\n",
       "      <td>1</td>\n",
       "      <td>0</td>\n",
       "      <td>0</td>\n",
       "      <td>1</td>\n",
       "      <td>0</td>\n",
       "      <td>1</td>\n",
       "      <td>0</td>\n",
       "      <td>0</td>\n",
       "      <td>0</td>\n",
       "      <td>0</td>\n",
       "    </tr>\n",
       "  </tbody>\n",
       "</table>\n",
       "<p>5 rows × 37 columns</p>\n",
       "</div>"
      ],
      "text/plain": [
       "   Kauf  Buchung  PreisTicket  Fluglinie_Delta  Fluglinie_KLM  \\\n",
       "0   1.0      1.0        595.3                1              0   \n",
       "1   1.0      1.0        595.3                1              0   \n",
       "2   1.0      1.0        595.6                0              0   \n",
       "3   1.0      1.0        595.5                0              1   \n",
       "4   1.0      1.0        595.5                0              1   \n",
       "\n",
       "   Fluglinie_Lufthansa  Fluglinie_RyanAir  Fluglinie_United  Start_Frankfurt  \\\n",
       "0                    0                  0                 0                0   \n",
       "1                    0                  0                 0                0   \n",
       "2                    1                  0                 0                0   \n",
       "3                    0                  0                 0                0   \n",
       "4                    0                  0                 0                0   \n",
       "\n",
       "   Start_Hamburg  ...  Ziel_Köln  Ziel_München  Ziel_Nürnberg  Klasse_Economy  \\\n",
       "0              1  ...          1             0              0               1   \n",
       "1              1  ...          1             0              0               1   \n",
       "2              1  ...          1             0              0               1   \n",
       "3              1  ...          1             0              0               1   \n",
       "4              1  ...          1             0              0               1   \n",
       "\n",
       "   Source_Direct  Source_Search  Source_Social  OnlineTime_Lang  \\\n",
       "0              0              1              0                0   \n",
       "1              1              0              0                0   \n",
       "2              0              0              1                0   \n",
       "3              0              0              0                0   \n",
       "4              0              1              0                0   \n",
       "\n",
       "   OnlineTime_Mittel  OnlineTime_Spontan  \n",
       "0                  0                   1  \n",
       "1                  0                   0  \n",
       "2                  0                   1  \n",
       "3                  1                   0  \n",
       "4                  0                   0  \n",
       "\n",
       "[5 rows x 37 columns]"
      ]
     },
     "execution_count": 5,
     "metadata": {},
     "output_type": "execute_result"
    }
   ],
   "source": [
    "data_dummies = pd.get_dummies(data_prepared, drop_first=True)\n",
    "data_dummies.head()"
   ]
  },
  {
   "cell_type": "markdown",
   "id": "5c6b77fc",
   "metadata": {},
   "source": [
    "### Auf Multikollinearität prüfen"
   ]
  },
  {
   "cell_type": "code",
   "execution_count": 6,
   "id": "9ba97912",
   "metadata": {},
   "outputs": [
    {
     "name": "stdout",
     "output_type": "stream",
     "text": [
      "['Kauf', 'Buchung', 'PreisTicket', 'Fluglinie_Delta', 'Fluglinie_KLM', 'Fluglinie_Lufthansa', 'Fluglinie_RyanAir', 'Fluglinie_United', 'Start_Frankfurt', 'Start_Hamburg', 'Start_Köln', 'Start_München', 'Start_Nürnberg', 'Startzeit_Frühmorgen', 'Startzeit_Late_Night', 'Startzeit_Morgen', 'Startzeit_Nachmittag', 'Startzeit_Night', 'Stops_two_or_more', 'Stops_zero', 'Ankunftszeit_Frühmorgen', 'Ankunftszeit_Late_Nacht', 'Ankunftszeit_Morgen', 'Ankunftszeit_Nachmittag', 'Ankunftszeit_Nacht', 'Ziel_Frankfurt', 'Ziel_Hamburg', 'Ziel_Köln', 'Ziel_München', 'Ziel_Nürnberg', 'Klasse_Economy', 'Source_Direct', 'Source_Search', 'Source_Social', 'OnlineTime_Lang', 'OnlineTime_Mittel', 'OnlineTime_Spontan']\n"
     ]
    }
   ],
   "source": [
    "# Spaltennamen ausgeben\n",
    "spalten = data_dummies.columns.to_list()\n",
    "\n",
    "print(spalten)"
   ]
  },
  {
   "cell_type": "code",
   "execution_count": 7,
   "id": "86f4e6dd",
   "metadata": {},
   "outputs": [
    {
     "data": {
      "text/html": [
       "<div>\n",
       "<style scoped>\n",
       "    .dataframe tbody tr th:only-of-type {\n",
       "        vertical-align: middle;\n",
       "    }\n",
       "\n",
       "    .dataframe tbody tr th {\n",
       "        vertical-align: top;\n",
       "    }\n",
       "\n",
       "    .dataframe thead th {\n",
       "        text-align: right;\n",
       "    }\n",
       "</style>\n",
       "<table border=\"1\" class=\"dataframe\">\n",
       "  <thead>\n",
       "    <tr style=\"text-align: right;\">\n",
       "      <th></th>\n",
       "      <th>VIF</th>\n",
       "      <th>Features</th>\n",
       "    </tr>\n",
       "  </thead>\n",
       "  <tbody>\n",
       "    <tr>\n",
       "      <th>29</th>\n",
       "      <td>13.101008</td>\n",
       "      <td>Klasse_Economy</td>\n",
       "    </tr>\n",
       "    <tr>\n",
       "      <th>1</th>\n",
       "      <td>8.546897</td>\n",
       "      <td>PreisTicket</td>\n",
       "    </tr>\n",
       "    <tr>\n",
       "      <th>3</th>\n",
       "      <td>6.875992</td>\n",
       "      <td>Fluglinie_KLM</td>\n",
       "    </tr>\n",
       "    <tr>\n",
       "      <th>0</th>\n",
       "      <td>4.987428</td>\n",
       "      <td>Buchung</td>\n",
       "    </tr>\n",
       "    <tr>\n",
       "      <th>5</th>\n",
       "      <td>4.370623</td>\n",
       "      <td>Fluglinie_RyanAir</td>\n",
       "    </tr>\n",
       "    <tr>\n",
       "      <th>33</th>\n",
       "      <td>2.844547</td>\n",
       "      <td>OnlineTime_Lang</td>\n",
       "    </tr>\n",
       "    <tr>\n",
       "      <th>6</th>\n",
       "      <td>2.788336</td>\n",
       "      <td>Fluglinie_United</td>\n",
       "    </tr>\n",
       "    <tr>\n",
       "      <th>31</th>\n",
       "      <td>2.593441</td>\n",
       "      <td>Source_Search</td>\n",
       "    </tr>\n",
       "    <tr>\n",
       "      <th>34</th>\n",
       "      <td>2.362457</td>\n",
       "      <td>OnlineTime_Mittel</td>\n",
       "    </tr>\n",
       "    <tr>\n",
       "      <th>9</th>\n",
       "      <td>2.325695</td>\n",
       "      <td>Start_Köln</td>\n",
       "    </tr>\n",
       "    <tr>\n",
       "      <th>8</th>\n",
       "      <td>2.308480</td>\n",
       "      <td>Start_Hamburg</td>\n",
       "    </tr>\n",
       "    <tr>\n",
       "      <th>30</th>\n",
       "      <td>2.297866</td>\n",
       "      <td>Source_Direct</td>\n",
       "    </tr>\n",
       "    <tr>\n",
       "      <th>26</th>\n",
       "      <td>2.262510</td>\n",
       "      <td>Ziel_Köln</td>\n",
       "    </tr>\n",
       "    <tr>\n",
       "      <th>25</th>\n",
       "      <td>2.237286</td>\n",
       "      <td>Ziel_Hamburg</td>\n",
       "    </tr>\n",
       "    <tr>\n",
       "      <th>32</th>\n",
       "      <td>2.207361</td>\n",
       "      <td>Source_Social</td>\n",
       "    </tr>\n",
       "    <tr>\n",
       "      <th>23</th>\n",
       "      <td>2.202192</td>\n",
       "      <td>Ankunftszeit_Nacht</td>\n",
       "    </tr>\n",
       "    <tr>\n",
       "      <th>14</th>\n",
       "      <td>2.161873</td>\n",
       "      <td>Startzeit_Morgen</td>\n",
       "    </tr>\n",
       "    <tr>\n",
       "      <th>10</th>\n",
       "      <td>2.129286</td>\n",
       "      <td>Start_München</td>\n",
       "    </tr>\n",
       "    <tr>\n",
       "      <th>12</th>\n",
       "      <td>2.083498</td>\n",
       "      <td>Startzeit_Frühmorgen</td>\n",
       "    </tr>\n",
       "    <tr>\n",
       "      <th>27</th>\n",
       "      <td>2.058943</td>\n",
       "      <td>Ziel_München</td>\n",
       "    </tr>\n",
       "    <tr>\n",
       "      <th>35</th>\n",
       "      <td>1.966573</td>\n",
       "      <td>OnlineTime_Spontan</td>\n",
       "    </tr>\n",
       "    <tr>\n",
       "      <th>7</th>\n",
       "      <td>1.936420</td>\n",
       "      <td>Start_Frankfurt</td>\n",
       "    </tr>\n",
       "    <tr>\n",
       "      <th>11</th>\n",
       "      <td>1.900332</td>\n",
       "      <td>Start_Nürnberg</td>\n",
       "    </tr>\n",
       "    <tr>\n",
       "      <th>24</th>\n",
       "      <td>1.880874</td>\n",
       "      <td>Ziel_Frankfurt</td>\n",
       "    </tr>\n",
       "    <tr>\n",
       "      <th>21</th>\n",
       "      <td>1.872671</td>\n",
       "      <td>Ankunftszeit_Morgen</td>\n",
       "    </tr>\n",
       "    <tr>\n",
       "      <th>28</th>\n",
       "      <td>1.847443</td>\n",
       "      <td>Ziel_Nürnberg</td>\n",
       "    </tr>\n",
       "    <tr>\n",
       "      <th>16</th>\n",
       "      <td>1.774472</td>\n",
       "      <td>Startzeit_Night</td>\n",
       "    </tr>\n",
       "    <tr>\n",
       "      <th>15</th>\n",
       "      <td>1.768655</td>\n",
       "      <td>Startzeit_Nachmittag</td>\n",
       "    </tr>\n",
       "    <tr>\n",
       "      <th>4</th>\n",
       "      <td>1.653374</td>\n",
       "      <td>Fluglinie_Lufthansa</td>\n",
       "    </tr>\n",
       "    <tr>\n",
       "      <th>22</th>\n",
       "      <td>1.518350</td>\n",
       "      <td>Ankunftszeit_Nachmittag</td>\n",
       "    </tr>\n",
       "    <tr>\n",
       "      <th>2</th>\n",
       "      <td>1.382229</td>\n",
       "      <td>Fluglinie_Delta</td>\n",
       "    </tr>\n",
       "    <tr>\n",
       "      <th>20</th>\n",
       "      <td>1.311099</td>\n",
       "      <td>Ankunftszeit_Late_Nacht</td>\n",
       "    </tr>\n",
       "    <tr>\n",
       "      <th>18</th>\n",
       "      <td>1.300497</td>\n",
       "      <td>Stops_zero</td>\n",
       "    </tr>\n",
       "    <tr>\n",
       "      <th>19</th>\n",
       "      <td>1.267720</td>\n",
       "      <td>Ankunftszeit_Frühmorgen</td>\n",
       "    </tr>\n",
       "    <tr>\n",
       "      <th>17</th>\n",
       "      <td>1.116653</td>\n",
       "      <td>Stops_two_or_more</td>\n",
       "    </tr>\n",
       "    <tr>\n",
       "      <th>13</th>\n",
       "      <td>1.040144</td>\n",
       "      <td>Startzeit_Late_Night</td>\n",
       "    </tr>\n",
       "  </tbody>\n",
       "</table>\n",
       "</div>"
      ],
      "text/plain": [
       "          VIF                 Features\n",
       "29  13.101008           Klasse_Economy\n",
       "1    8.546897              PreisTicket\n",
       "3    6.875992            Fluglinie_KLM\n",
       "0    4.987428                  Buchung\n",
       "5    4.370623        Fluglinie_RyanAir\n",
       "33   2.844547          OnlineTime_Lang\n",
       "6    2.788336         Fluglinie_United\n",
       "31   2.593441            Source_Search\n",
       "34   2.362457        OnlineTime_Mittel\n",
       "9    2.325695               Start_Köln\n",
       "8    2.308480            Start_Hamburg\n",
       "30   2.297866            Source_Direct\n",
       "26   2.262510                Ziel_Köln\n",
       "25   2.237286             Ziel_Hamburg\n",
       "32   2.207361            Source_Social\n",
       "23   2.202192       Ankunftszeit_Nacht\n",
       "14   2.161873         Startzeit_Morgen\n",
       "10   2.129286            Start_München\n",
       "12   2.083498     Startzeit_Frühmorgen\n",
       "27   2.058943             Ziel_München\n",
       "35   1.966573       OnlineTime_Spontan\n",
       "7    1.936420          Start_Frankfurt\n",
       "11   1.900332           Start_Nürnberg\n",
       "24   1.880874           Ziel_Frankfurt\n",
       "21   1.872671      Ankunftszeit_Morgen\n",
       "28   1.847443            Ziel_Nürnberg\n",
       "16   1.774472          Startzeit_Night\n",
       "15   1.768655     Startzeit_Nachmittag\n",
       "4    1.653374      Fluglinie_Lufthansa\n",
       "22   1.518350  Ankunftszeit_Nachmittag\n",
       "2    1.382229          Fluglinie_Delta\n",
       "20   1.311099  Ankunftszeit_Late_Nacht\n",
       "18   1.300497               Stops_zero\n",
       "19   1.267720  Ankunftszeit_Frühmorgen\n",
       "17   1.116653        Stops_two_or_more\n",
       "13   1.040144     Startzeit_Late_Night"
      ]
     },
     "execution_count": 7,
     "metadata": {},
     "output_type": "execute_result"
    }
   ],
   "source": [
    "# Faustregel --> ein VIF > 10 deutet auf hohe Multikollinearität hin\n",
    "\n",
    "from statsmodels.stats.outliers_influence import variance_inflation_factor\n",
    "\n",
    "# Deklarieren eines data frames und Eingabe aller Merkmale, die auf Multikollinearität geprüft werden sollen.\n",
    "variables = data_dummies[['Buchung', 'PreisTicket', 'Fluglinie_Delta', 'Fluglinie_KLM', 'Fluglinie_Lufthansa', 'Fluglinie_RyanAir', 'Fluglinie_United', 'Start_Frankfurt', 'Start_Hamburg', 'Start_Köln', 'Start_München', 'Start_Nürnberg', 'Startzeit_Frühmorgen', 'Startzeit_Late_Night', 'Startzeit_Morgen', 'Startzeit_Nachmittag', 'Startzeit_Night', 'Stops_two_or_more', 'Stops_zero', 'Ankunftszeit_Frühmorgen', 'Ankunftszeit_Late_Nacht', 'Ankunftszeit_Morgen', 'Ankunftszeit_Nachmittag', 'Ankunftszeit_Nacht', 'Ziel_Frankfurt', 'Ziel_Hamburg', 'Ziel_Köln', 'Ziel_München', 'Ziel_Nürnberg', 'Klasse_Economy', 'Source_Direct', 'Source_Search', 'Source_Social', 'OnlineTime_Lang', 'OnlineTime_Mittel', 'OnlineTime_Spontan']]\n",
    "\n",
    "# Erstellen eines neuen data frames, der alle VIFs enthält.\n",
    "# Jede Variable hat ihren eigenen Varianzinflationsfaktor. Dieses Maß ist variablenspezifisch\n",
    "vif = pd.DataFrame()\n",
    "\n",
    "# Verwendung des Moduls variance_inflation_factor, Ausgabe der jeweiligen VIFs\n",
    "vif[\"VIF\"] = [variance_inflation_factor(variables.values, i) for i in range(variables.shape[1])]\n",
    "\n",
    "# Einfügen von Variablennamen\n",
    "vif[\"Features\"] = variables.columns\n",
    "\n",
    "# Ausgabe der Ergebnisse\n",
    "vif = vif.sort_values(by='VIF', ascending=False)\n",
    "vif"
   ]
  },
  {
   "cell_type": "code",
   "execution_count": 8,
   "id": "66572cea",
   "metadata": {},
   "outputs": [],
   "source": [
    "data_dummies = data_dummies.drop('Klasse_Economy', axis=1)"
   ]
  },
  {
   "cell_type": "code",
   "execution_count": 9,
   "id": "4330d611",
   "metadata": {},
   "outputs": [
    {
     "data": {
      "text/html": [
       "<div>\n",
       "<style scoped>\n",
       "    .dataframe tbody tr th:only-of-type {\n",
       "        vertical-align: middle;\n",
       "    }\n",
       "\n",
       "    .dataframe tbody tr th {\n",
       "        vertical-align: top;\n",
       "    }\n",
       "\n",
       "    .dataframe thead th {\n",
       "        text-align: right;\n",
       "    }\n",
       "</style>\n",
       "<table border=\"1\" class=\"dataframe\">\n",
       "  <thead>\n",
       "    <tr style=\"text-align: right;\">\n",
       "      <th></th>\n",
       "      <th>VIF</th>\n",
       "      <th>Features</th>\n",
       "    </tr>\n",
       "  </thead>\n",
       "  <tbody>\n",
       "    <tr>\n",
       "      <th>3</th>\n",
       "      <td>5.823584</td>\n",
       "      <td>Fluglinie_KLM</td>\n",
       "    </tr>\n",
       "    <tr>\n",
       "      <th>0</th>\n",
       "      <td>4.952708</td>\n",
       "      <td>Buchung</td>\n",
       "    </tr>\n",
       "    <tr>\n",
       "      <th>5</th>\n",
       "      <td>3.870225</td>\n",
       "      <td>Fluglinie_RyanAir</td>\n",
       "    </tr>\n",
       "    <tr>\n",
       "      <th>32</th>\n",
       "      <td>2.774188</td>\n",
       "      <td>OnlineTime_Lang</td>\n",
       "    </tr>\n",
       "    <tr>\n",
       "      <th>1</th>\n",
       "      <td>2.639535</td>\n",
       "      <td>PreisTicket</td>\n",
       "    </tr>\n",
       "    <tr>\n",
       "      <th>30</th>\n",
       "      <td>2.394011</td>\n",
       "      <td>Source_Search</td>\n",
       "    </tr>\n",
       "    <tr>\n",
       "      <th>6</th>\n",
       "      <td>2.344469</td>\n",
       "      <td>Fluglinie_United</td>\n",
       "    </tr>\n",
       "    <tr>\n",
       "      <th>33</th>\n",
       "      <td>2.299207</td>\n",
       "      <td>OnlineTime_Mittel</td>\n",
       "    </tr>\n",
       "    <tr>\n",
       "      <th>29</th>\n",
       "      <td>2.253174</td>\n",
       "      <td>Source_Direct</td>\n",
       "    </tr>\n",
       "    <tr>\n",
       "      <th>8</th>\n",
       "      <td>2.178986</td>\n",
       "      <td>Start_Hamburg</td>\n",
       "    </tr>\n",
       "    <tr>\n",
       "      <th>9</th>\n",
       "      <td>2.165867</td>\n",
       "      <td>Start_Köln</td>\n",
       "    </tr>\n",
       "    <tr>\n",
       "      <th>25</th>\n",
       "      <td>2.154586</td>\n",
       "      <td>Ziel_Hamburg</td>\n",
       "    </tr>\n",
       "    <tr>\n",
       "      <th>26</th>\n",
       "      <td>2.143640</td>\n",
       "      <td>Ziel_Köln</td>\n",
       "    </tr>\n",
       "    <tr>\n",
       "      <th>23</th>\n",
       "      <td>2.141217</td>\n",
       "      <td>Ankunftszeit_Nacht</td>\n",
       "    </tr>\n",
       "    <tr>\n",
       "      <th>31</th>\n",
       "      <td>2.132210</td>\n",
       "      <td>Source_Social</td>\n",
       "    </tr>\n",
       "    <tr>\n",
       "      <th>14</th>\n",
       "      <td>2.064957</td>\n",
       "      <td>Startzeit_Morgen</td>\n",
       "    </tr>\n",
       "    <tr>\n",
       "      <th>12</th>\n",
       "      <td>1.996972</td>\n",
       "      <td>Startzeit_Frühmorgen</td>\n",
       "    </tr>\n",
       "    <tr>\n",
       "      <th>10</th>\n",
       "      <td>1.982875</td>\n",
       "      <td>Start_München</td>\n",
       "    </tr>\n",
       "    <tr>\n",
       "      <th>27</th>\n",
       "      <td>1.955427</td>\n",
       "      <td>Ziel_München</td>\n",
       "    </tr>\n",
       "    <tr>\n",
       "      <th>34</th>\n",
       "      <td>1.894050</td>\n",
       "      <td>OnlineTime_Spontan</td>\n",
       "    </tr>\n",
       "    <tr>\n",
       "      <th>7</th>\n",
       "      <td>1.857387</td>\n",
       "      <td>Start_Frankfurt</td>\n",
       "    </tr>\n",
       "    <tr>\n",
       "      <th>24</th>\n",
       "      <td>1.829701</td>\n",
       "      <td>Ziel_Frankfurt</td>\n",
       "    </tr>\n",
       "    <tr>\n",
       "      <th>21</th>\n",
       "      <td>1.825540</td>\n",
       "      <td>Ankunftszeit_Morgen</td>\n",
       "    </tr>\n",
       "    <tr>\n",
       "      <th>11</th>\n",
       "      <td>1.818726</td>\n",
       "      <td>Start_Nürnberg</td>\n",
       "    </tr>\n",
       "    <tr>\n",
       "      <th>28</th>\n",
       "      <td>1.793340</td>\n",
       "      <td>Ziel_Nürnberg</td>\n",
       "    </tr>\n",
       "    <tr>\n",
       "      <th>16</th>\n",
       "      <td>1.722994</td>\n",
       "      <td>Startzeit_Night</td>\n",
       "    </tr>\n",
       "    <tr>\n",
       "      <th>15</th>\n",
       "      <td>1.708583</td>\n",
       "      <td>Startzeit_Nachmittag</td>\n",
       "    </tr>\n",
       "    <tr>\n",
       "      <th>4</th>\n",
       "      <td>1.546682</td>\n",
       "      <td>Fluglinie_Lufthansa</td>\n",
       "    </tr>\n",
       "    <tr>\n",
       "      <th>22</th>\n",
       "      <td>1.500205</td>\n",
       "      <td>Ankunftszeit_Nachmittag</td>\n",
       "    </tr>\n",
       "    <tr>\n",
       "      <th>20</th>\n",
       "      <td>1.285180</td>\n",
       "      <td>Ankunftszeit_Late_Nacht</td>\n",
       "    </tr>\n",
       "    <tr>\n",
       "      <th>2</th>\n",
       "      <td>1.278337</td>\n",
       "      <td>Fluglinie_Delta</td>\n",
       "    </tr>\n",
       "    <tr>\n",
       "      <th>18</th>\n",
       "      <td>1.256779</td>\n",
       "      <td>Stops_zero</td>\n",
       "    </tr>\n",
       "    <tr>\n",
       "      <th>19</th>\n",
       "      <td>1.251059</td>\n",
       "      <td>Ankunftszeit_Frühmorgen</td>\n",
       "    </tr>\n",
       "    <tr>\n",
       "      <th>17</th>\n",
       "      <td>1.103693</td>\n",
       "      <td>Stops_two_or_more</td>\n",
       "    </tr>\n",
       "    <tr>\n",
       "      <th>13</th>\n",
       "      <td>1.039140</td>\n",
       "      <td>Startzeit_Late_Night</td>\n",
       "    </tr>\n",
       "  </tbody>\n",
       "</table>\n",
       "</div>"
      ],
      "text/plain": [
       "         VIF                 Features\n",
       "3   5.823584            Fluglinie_KLM\n",
       "0   4.952708                  Buchung\n",
       "5   3.870225        Fluglinie_RyanAir\n",
       "32  2.774188          OnlineTime_Lang\n",
       "1   2.639535              PreisTicket\n",
       "30  2.394011            Source_Search\n",
       "6   2.344469         Fluglinie_United\n",
       "33  2.299207        OnlineTime_Mittel\n",
       "29  2.253174            Source_Direct\n",
       "8   2.178986            Start_Hamburg\n",
       "9   2.165867               Start_Köln\n",
       "25  2.154586             Ziel_Hamburg\n",
       "26  2.143640                Ziel_Köln\n",
       "23  2.141217       Ankunftszeit_Nacht\n",
       "31  2.132210            Source_Social\n",
       "14  2.064957         Startzeit_Morgen\n",
       "12  1.996972     Startzeit_Frühmorgen\n",
       "10  1.982875            Start_München\n",
       "27  1.955427             Ziel_München\n",
       "34  1.894050       OnlineTime_Spontan\n",
       "7   1.857387          Start_Frankfurt\n",
       "24  1.829701           Ziel_Frankfurt\n",
       "21  1.825540      Ankunftszeit_Morgen\n",
       "11  1.818726           Start_Nürnberg\n",
       "28  1.793340            Ziel_Nürnberg\n",
       "16  1.722994          Startzeit_Night\n",
       "15  1.708583     Startzeit_Nachmittag\n",
       "4   1.546682      Fluglinie_Lufthansa\n",
       "22  1.500205  Ankunftszeit_Nachmittag\n",
       "20  1.285180  Ankunftszeit_Late_Nacht\n",
       "2   1.278337          Fluglinie_Delta\n",
       "18  1.256779               Stops_zero\n",
       "19  1.251059  Ankunftszeit_Frühmorgen\n",
       "17  1.103693        Stops_two_or_more\n",
       "13  1.039140     Startzeit_Late_Night"
      ]
     },
     "execution_count": 9,
     "metadata": {},
     "output_type": "execute_result"
    }
   ],
   "source": [
    "# Faustregel --> ein VIF > 10 deutet auf hohe Multikollinearität hin\n",
    "\n",
    "from statsmodels.stats.outliers_influence import variance_inflation_factor\n",
    "\n",
    "# Deklarieren eines data frames und Eingabe aller Merkmale, die auf Multikollinearität geprüft werden sollen.\n",
    "variables = data_dummies[['Buchung', 'PreisTicket', 'Fluglinie_Delta', 'Fluglinie_KLM', 'Fluglinie_Lufthansa', 'Fluglinie_RyanAir', 'Fluglinie_United', 'Start_Frankfurt', 'Start_Hamburg', 'Start_Köln', 'Start_München', 'Start_Nürnberg', 'Startzeit_Frühmorgen', 'Startzeit_Late_Night', 'Startzeit_Morgen', 'Startzeit_Nachmittag', 'Startzeit_Night', 'Stops_two_or_more', 'Stops_zero', 'Ankunftszeit_Frühmorgen', 'Ankunftszeit_Late_Nacht', 'Ankunftszeit_Morgen', 'Ankunftszeit_Nachmittag', 'Ankunftszeit_Nacht', 'Ziel_Frankfurt', 'Ziel_Hamburg', 'Ziel_Köln', 'Ziel_München', 'Ziel_Nürnberg', 'Source_Direct', 'Source_Search', 'Source_Social', 'OnlineTime_Lang', 'OnlineTime_Mittel', 'OnlineTime_Spontan']]\n",
    "\n",
    "# Erstellen eines neuen data frames, der alle VIFs enthält.\n",
    "# Jede Variable hat ihren eigenen Varianzinflationsfaktor. Dieses Maß ist variablenspezifisch\n",
    "vif = pd.DataFrame()\n",
    "\n",
    "# Verwendung des Moduls variance_inflation_factor, Ausgabe der jeweiligen VIFs\n",
    "vif[\"VIF\"] = [variance_inflation_factor(variables.values, i) for i in range(variables.shape[1])]\n",
    "\n",
    "# Einfügen von Variablennamen\n",
    "vif[\"Features\"] = variables.columns\n",
    "\n",
    "# Ausgabe der Ergebnisse\n",
    "vif = vif.sort_values(by='VIF', ascending=False)\n",
    "vif"
   ]
  },
  {
   "cell_type": "markdown",
   "id": "fa530039",
   "metadata": {},
   "source": [
    "# Modeling"
   ]
  },
  {
   "cell_type": "code",
   "execution_count": 11,
   "id": "8dc3d875",
   "metadata": {},
   "outputs": [],
   "source": [
    "# Definition der Input- und Zielvariablen\n",
    "targets = data_dummies['Kauf']\n",
    "inputs = data_dummies.drop(['Kauf'],axis=1)\n"
   ]
  },
  {
   "cell_type": "code",
   "execution_count": 12,
   "id": "93645d5d",
   "metadata": {},
   "outputs": [],
   "source": [
    "# Aufteilen in  80% Trainings- und 20% Testdaten\n",
    "from sklearn.model_selection import train_test_split\n",
    "\n",
    "# Aufteilung der Daten in 80% Trainings- und 20% Testdaten\n",
    "x_train, x_test, y_train, y_test = train_test_split(inputs, targets, test_size=0.2, random_state=365)"
   ]
  },
  {
   "cell_type": "markdown",
   "id": "bfe5c85b",
   "metadata": {},
   "source": [
    "### Standardisierung"
   ]
  },
  {
   "cell_type": "code",
   "execution_count": 14,
   "id": "ec9ac60d",
   "metadata": {},
   "outputs": [],
   "source": [
    "from sklearn.preprocessing import StandardScaler\n",
    "\n",
    "scaler = StandardScaler()\n",
    "scaler.fit(x_train)\n",
    "\n",
    "X_train = scaler.transform(x_train)\n",
    "X_test = scaler.transform(x_test)"
   ]
  },
  {
   "cell_type": "markdown",
   "id": "60776f45",
   "metadata": {},
   "source": [
    "### Oversampling"
   ]
  },
  {
   "cell_type": "code",
   "execution_count": null,
   "id": "31f20105",
   "metadata": {},
   "outputs": [],
   "source": [
    "# hier gfs. Oversampling durchführen\n",
    "\n",
    "\"\"\"\n",
    "# RandomOverSampler um Dysbalance auszugleichen\n",
    "\n",
    "# sampling_strategy = 1.0 - erstellt ein 1:1 Verhältnis von 1 und 0 in den Trainingsdaten\n",
    "ros =  RandomOverSampler(sampling_strategy=1.0, random_state=42)\n",
    "\n",
    "x_train_res, y_train_res = ros.fit_resample(x_train, y_train)\n",
    "\n",
    "print('Original dataset shape {}'.format(Counter(y_train)))\n",
    "print('Resampled dataset shape {}'.format(Counter(y_train_res)))\n",
    "\n",
    "\n",
    "x_train = x_train_res\n",
    "y_train = y_train_res\n",
    "\"\"\""
   ]
  },
  {
   "cell_type": "markdown",
   "id": "dc2e5c5a",
   "metadata": {},
   "source": [
    "## Modellbildung Logistische Regression"
   ]
  },
  {
   "cell_type": "markdown",
   "id": "785118ec",
   "metadata": {},
   "source": [
    "#### Model Creation"
   ]
  },
  {
   "cell_type": "code",
   "execution_count": 16,
   "id": "bc6aebd1",
   "metadata": {},
   "outputs": [
    {
     "name": "stderr",
     "output_type": "stream",
     "text": [
      "c:\\Users\\176137724\\Anaconda3\\envs\\Datathon\\lib\\site-packages\\sklearn\\linear_model\\_logistic.py:458: ConvergenceWarning: lbfgs failed to converge (status=1):\n",
      "STOP: TOTAL NO. of ITERATIONS REACHED LIMIT.\n",
      "\n",
      "Increase the number of iterations (max_iter) or scale the data as shown in:\n",
      "    https://scikit-learn.org/stable/modules/preprocessing.html\n",
      "Please also refer to the documentation for alternative solver options:\n",
      "    https://scikit-learn.org/stable/modules/linear_model.html#logistic-regression\n",
      "  n_iter_i = _check_optimize_result(\n"
     ]
    },
    {
     "data": {
      "text/html": [
       "<style>#sk-container-id-2 {color: black;background-color: white;}#sk-container-id-2 pre{padding: 0;}#sk-container-id-2 div.sk-toggleable {background-color: white;}#sk-container-id-2 label.sk-toggleable__label {cursor: pointer;display: block;width: 100%;margin-bottom: 0;padding: 0.3em;box-sizing: border-box;text-align: center;}#sk-container-id-2 label.sk-toggleable__label-arrow:before {content: \"▸\";float: left;margin-right: 0.25em;color: #696969;}#sk-container-id-2 label.sk-toggleable__label-arrow:hover:before {color: black;}#sk-container-id-2 div.sk-estimator:hover label.sk-toggleable__label-arrow:before {color: black;}#sk-container-id-2 div.sk-toggleable__content {max-height: 0;max-width: 0;overflow: hidden;text-align: left;background-color: #f0f8ff;}#sk-container-id-2 div.sk-toggleable__content pre {margin: 0.2em;color: black;border-radius: 0.25em;background-color: #f0f8ff;}#sk-container-id-2 input.sk-toggleable__control:checked~div.sk-toggleable__content {max-height: 200px;max-width: 100%;overflow: auto;}#sk-container-id-2 input.sk-toggleable__control:checked~label.sk-toggleable__label-arrow:before {content: \"▾\";}#sk-container-id-2 div.sk-estimator input.sk-toggleable__control:checked~label.sk-toggleable__label {background-color: #d4ebff;}#sk-container-id-2 div.sk-label input.sk-toggleable__control:checked~label.sk-toggleable__label {background-color: #d4ebff;}#sk-container-id-2 input.sk-hidden--visually {border: 0;clip: rect(1px 1px 1px 1px);clip: rect(1px, 1px, 1px, 1px);height: 1px;margin: -1px;overflow: hidden;padding: 0;position: absolute;width: 1px;}#sk-container-id-2 div.sk-estimator {font-family: monospace;background-color: #f0f8ff;border: 1px dotted black;border-radius: 0.25em;box-sizing: border-box;margin-bottom: 0.5em;}#sk-container-id-2 div.sk-estimator:hover {background-color: #d4ebff;}#sk-container-id-2 div.sk-parallel-item::after {content: \"\";width: 100%;border-bottom: 1px solid gray;flex-grow: 1;}#sk-container-id-2 div.sk-label:hover label.sk-toggleable__label {background-color: #d4ebff;}#sk-container-id-2 div.sk-serial::before {content: \"\";position: absolute;border-left: 1px solid gray;box-sizing: border-box;top: 0;bottom: 0;left: 50%;z-index: 0;}#sk-container-id-2 div.sk-serial {display: flex;flex-direction: column;align-items: center;background-color: white;padding-right: 0.2em;padding-left: 0.2em;position: relative;}#sk-container-id-2 div.sk-item {position: relative;z-index: 1;}#sk-container-id-2 div.sk-parallel {display: flex;align-items: stretch;justify-content: center;background-color: white;position: relative;}#sk-container-id-2 div.sk-item::before, #sk-container-id-2 div.sk-parallel-item::before {content: \"\";position: absolute;border-left: 1px solid gray;box-sizing: border-box;top: 0;bottom: 0;left: 50%;z-index: -1;}#sk-container-id-2 div.sk-parallel-item {display: flex;flex-direction: column;z-index: 1;position: relative;background-color: white;}#sk-container-id-2 div.sk-parallel-item:first-child::after {align-self: flex-end;width: 50%;}#sk-container-id-2 div.sk-parallel-item:last-child::after {align-self: flex-start;width: 50%;}#sk-container-id-2 div.sk-parallel-item:only-child::after {width: 0;}#sk-container-id-2 div.sk-dashed-wrapped {border: 1px dashed gray;margin: 0 0.4em 0.5em 0.4em;box-sizing: border-box;padding-bottom: 0.4em;background-color: white;}#sk-container-id-2 div.sk-label label {font-family: monospace;font-weight: bold;display: inline-block;line-height: 1.2em;}#sk-container-id-2 div.sk-label-container {text-align: center;}#sk-container-id-2 div.sk-container {/* jupyter's `normalize.less` sets `[hidden] { display: none; }` but bootstrap.min.css set `[hidden] { display: none !important; }` so we also need the `!important` here to be able to override the default hidden behavior on the sphinx rendered scikit-learn.org. See: https://github.com/scikit-learn/scikit-learn/issues/21755 */display: inline-block !important;position: relative;}#sk-container-id-2 div.sk-text-repr-fallback {display: none;}</style><div id=\"sk-container-id-2\" class=\"sk-top-container\"><div class=\"sk-text-repr-fallback\"><pre>LogisticRegression(max_iter=1000)</pre><b>In a Jupyter environment, please rerun this cell to show the HTML representation or trust the notebook. <br />On GitHub, the HTML representation is unable to render, please try loading this page with nbviewer.org.</b></div><div class=\"sk-container\" hidden><div class=\"sk-item\"><div class=\"sk-estimator sk-toggleable\"><input class=\"sk-toggleable__control sk-hidden--visually\" id=\"sk-estimator-id-2\" type=\"checkbox\" checked><label for=\"sk-estimator-id-2\" class=\"sk-toggleable__label sk-toggleable__label-arrow\">LogisticRegression</label><div class=\"sk-toggleable__content\"><pre>LogisticRegression(max_iter=1000)</pre></div></div></div></div></div>"
      ],
      "text/plain": [
       "LogisticRegression(max_iter=1000)"
      ]
     },
     "execution_count": 16,
     "metadata": {},
     "output_type": "execute_result"
    }
   ],
   "source": [
    "# Modell erstellen\n",
    "model_lr = LogisticRegression()\n",
    "model_lr.fit(x_train, y_train)"
   ]
  },
  {
   "cell_type": "markdown",
   "id": "bc0ea9d0",
   "metadata": {},
   "source": [
    "#### Hyperparameter Optimization"
   ]
  },
  {
   "cell_type": "code",
   "execution_count": 17,
   "id": "b38ff06e",
   "metadata": {},
   "outputs": [
    {
     "data": {
      "text/plain": [
       "'\\n# Definition der Hyperparameter und ihrer möglichen Werte für die randomisierte Suche\\nparam_distributions = {\\n    \\'C\\': [0.1, 1.0, 10.0], # Regularisierungsstärke \\n}\\n\\n# Erstellung des Modellbewerters basierend auf dem F1-Score\\nscorer = make_scorer(f1_score)\\n\\n# Erstellung des RandomizedSearchCV mit F1-Score als Bewertungsmaßstab\\ngrid_search  = GridSearchCV(model_lr, param_distributions, scoring=scorer, cv=5)\\n\\n# Randomized Search durchführen\\ngrid_search.fit(x_train, y_train)\\n\\n# Die besten Hyperparameter und das beste Modell ausgeben\\nbest_params = grid_search.best_params_\\nmodel_lr = grid_search.best_estimator_\\n\\n# Bewertung des besten Modells anhand den Testdaten\\nprint(\"Best hyperparameters:\", best_params)\\n'"
      ]
     },
     "execution_count": 17,
     "metadata": {},
     "output_type": "execute_result"
    }
   ],
   "source": [
    "\"\"\"\n",
    "# Definition der Hyperparameter und ihrer möglichen Werte für die randomisierte Suche\n",
    "param_distributions = {\n",
    "    'C': [0.1, 1.0, 10.0], # Regularisierungsstärke \n",
    "}\n",
    "\n",
    "# Erstellung des Modellbewerters basierend auf dem F1-Score\n",
    "scorer = make_scorer(f1_score)\n",
    "\n",
    "# Erstellung des RandomizedSearchCV mit F1-Score als Bewertungsmaßstab\n",
    "grid_search  = GridSearchCV(model_lr, param_distributions, scoring=scorer, cv=5)\n",
    "\n",
    "# Randomized Search durchführen\n",
    "grid_search.fit(x_train, y_train)\n",
    "\n",
    "# Die besten Hyperparameter und das beste Modell ausgeben\n",
    "best_params = grid_search.best_params_\n",
    "model_lr = grid_search.best_estimator_\n",
    "\n",
    "# Bewertung des besten Modells anhand den Testdaten\n",
    "print(\"Best hyperparameters:\", best_params)\n",
    "\"\"\"\n"
   ]
  },
  {
   "cell_type": "markdown",
   "id": "1251ccc0",
   "metadata": {},
   "source": [
    "#### Evaluation"
   ]
  },
  {
   "cell_type": "code",
   "execution_count": 18,
   "id": "7d12f86e",
   "metadata": {},
   "outputs": [],
   "source": [
    "# Werte vorhersagen\n",
    "predictions_lr_train = model_lr.predict(x_train)\n",
    "predictions_lr_test = model_lr.predict(x_test)"
   ]
  },
  {
   "cell_type": "markdown",
   "id": "b286040a",
   "metadata": {},
   "source": [
    "##### Confusion matrix"
   ]
  },
  {
   "cell_type": "code",
   "execution_count": 19,
   "id": "8b0305b0",
   "metadata": {},
   "outputs": [
    {
     "name": "stdout",
     "output_type": "stream",
     "text": [
      "[[115596   1144]\n",
      " [   610 118562]]\n"
     ]
    }
   ],
   "source": [
    "# confusion matrix erstellen für train data\n",
    "cm = confusion_matrix(y_train, predictions_lr_train)\n",
    "print(cm)"
   ]
  },
  {
   "cell_type": "code",
   "execution_count": 20,
   "id": "824db6f3",
   "metadata": {},
   "outputs": [
    {
     "name": "stdout",
     "output_type": "stream",
     "text": [
      "[[28717   318]\n",
      " [  156 29788]]\n"
     ]
    }
   ],
   "source": [
    "# confusion matrix erstellen für test data\n",
    "cm = confusion_matrix(y_test, predictions_lr_test)\n",
    "print(cm)"
   ]
  },
  {
   "cell_type": "code",
   "execution_count": 21,
   "id": "346669b4",
   "metadata": {},
   "outputs": [
    {
     "name": "stdout",
     "output_type": "stream",
     "text": [
      "Trainingsdaten Logistic Regression:\n",
      "              precision    recall  f1-score   support\n",
      "\n",
      "         0.0       0.99      0.99      0.99    116740\n",
      "         1.0       0.99      0.99      0.99    119172\n",
      "\n",
      "    accuracy                           0.99    235912\n",
      "   macro avg       0.99      0.99      0.99    235912\n",
      "weighted avg       0.99      0.99      0.99    235912\n",
      "\n",
      "--------------------------------------------------------\n",
      "Testdaten Logistic Regression:\n",
      "              precision    recall  f1-score   support\n",
      "\n",
      "         0.0       0.99      0.99      0.99     29035\n",
      "         1.0       0.99      0.99      0.99     29944\n",
      "\n",
      "    accuracy                           0.99     58979\n",
      "   macro avg       0.99      0.99      0.99     58979\n",
      "weighted avg       0.99      0.99      0.99     58979\n",
      "\n"
     ]
    }
   ],
   "source": [
    "print(\"Trainingsdaten Logistic Regression:\")\n",
    "print(classification_report(y_train, predictions_lr_train))\n",
    "print(\"--------------------------------------------------------\")\n",
    "print(\"Testdaten Logistic Regression:\")\n",
    "print(classification_report(y_test, predictions_lr_test))"
   ]
  },
  {
   "cell_type": "markdown",
   "id": "dffda262",
   "metadata": {},
   "source": [
    "##### Check Feature importance"
   ]
  },
  {
   "cell_type": "code",
   "execution_count": 22,
   "id": "8f52d11c",
   "metadata": {},
   "outputs": [
    {
     "name": "stdout",
     "output_type": "stream",
     "text": [
      "[-1.59687766e+01 -1.56619478e+01 -4.00700415e+00 -3.50864766e+00\n",
      " -1.39771757e+00 -1.32960735e+00 -1.02332256e+00 -1.02088287e+00\n",
      " -8.54200263e-01 -7.57802246e-01 -4.33721887e-01 -2.03809896e-01\n",
      " -1.85068833e-01 -1.64319032e-01 -1.40442144e-01 -1.10535929e-01\n",
      " -6.68168568e-02 -5.50294326e-02 -5.56032954e-03  1.33535327e-02\n",
      "  4.28154683e-02  6.83711850e-02  7.23623237e-02  1.10434970e-01\n",
      "  1.12299650e-01  3.01061123e-01  6.12508797e-01  9.65813940e-01\n",
      "  1.10538981e+00  1.11639176e+00  1.68181902e+00  2.35572822e+00\n",
      "  3.19916011e+00  3.82124362e+00  3.96638453e+00]\n"
     ]
    },
    {
     "data": {
      "image/png": "[encoded data removed]",
      "text/plain": [
       "<Figure size 1000x600 with 1 Axes>"
      ]
     },
     "metadata": {},
     "output_type": "display_data"
    }
   ],
   "source": [
    "coefficients = model_lr.coef_[0]\n",
    "feature_names = np.array(x_train.columns)\n",
    "\n",
    "# Sortieren der Koeffizienten nach ihrer Wichtigkeit\n",
    "sorted_indices = np.argsort(coefficients)\n",
    "sorted_coefficients = coefficients[sorted_indices]\n",
    "sorted_feature_names = feature_names[sorted_indices]\n",
    "\n",
    "print(sorted_coefficients)\n",
    "\n",
    "# Darstellung der Wichtigkeit der Features\n",
    "plt.figure(figsize=(10, 6))\n",
    "plt.barh(sorted_feature_names, sorted_coefficients)\n",
    "plt.xlabel(\"Koeffizienten\")\n",
    "plt.ylabel(\"Features\")\n",
    "plt.title(\"Wichtigkeit der Features in der logistischen Regression\")\n",
    "plt.show()"
   ]
  },
  {
   "cell_type": "markdown",
   "id": "b7bb7e43",
   "metadata": {},
   "source": [
    "## Modellbildung Decision Tree"
   ]
  },
  {
   "cell_type": "markdown",
   "id": "4782a48d",
   "metadata": {},
   "source": [
    "#### Model Creation"
   ]
  },
  {
   "cell_type": "code",
   "execution_count": 23,
   "id": "b0de789d",
   "metadata": {},
   "outputs": [
    {
     "data": {
      "text/html": [
       "<style>#sk-container-id-3 {color: black;background-color: white;}#sk-container-id-3 pre{padding: 0;}#sk-container-id-3 div.sk-toggleable {background-color: white;}#sk-container-id-3 label.sk-toggleable__label {cursor: pointer;display: block;width: 100%;margin-bottom: 0;padding: 0.3em;box-sizing: border-box;text-align: center;}#sk-container-id-3 label.sk-toggleable__label-arrow:before {content: \"▸\";float: left;margin-right: 0.25em;color: #696969;}#sk-container-id-3 label.sk-toggleable__label-arrow:hover:before {color: black;}#sk-container-id-3 div.sk-estimator:hover label.sk-toggleable__label-arrow:before {color: black;}#sk-container-id-3 div.sk-toggleable__content {max-height: 0;max-width: 0;overflow: hidden;text-align: left;background-color: #f0f8ff;}#sk-container-id-3 div.sk-toggleable__content pre {margin: 0.2em;color: black;border-radius: 0.25em;background-color: #f0f8ff;}#sk-container-id-3 input.sk-toggleable__control:checked~div.sk-toggleable__content {max-height: 200px;max-width: 100%;overflow: auto;}#sk-container-id-3 input.sk-toggleable__control:checked~label.sk-toggleable__label-arrow:before {content: \"▾\";}#sk-container-id-3 div.sk-estimator input.sk-toggleable__control:checked~label.sk-toggleable__label {background-color: #d4ebff;}#sk-container-id-3 div.sk-label input.sk-toggleable__control:checked~label.sk-toggleable__label {background-color: #d4ebff;}#sk-container-id-3 input.sk-hidden--visually {border: 0;clip: rect(1px 1px 1px 1px);clip: rect(1px, 1px, 1px, 1px);height: 1px;margin: -1px;overflow: hidden;padding: 0;position: absolute;width: 1px;}#sk-container-id-3 div.sk-estimator {font-family: monospace;background-color: #f0f8ff;border: 1px dotted black;border-radius: 0.25em;box-sizing: border-box;margin-bottom: 0.5em;}#sk-container-id-3 div.sk-estimator:hover {background-color: #d4ebff;}#sk-container-id-3 div.sk-parallel-item::after {content: \"\";width: 100%;border-bottom: 1px solid gray;flex-grow: 1;}#sk-container-id-3 div.sk-label:hover label.sk-toggleable__label {background-color: #d4ebff;}#sk-container-id-3 div.sk-serial::before {content: \"\";position: absolute;border-left: 1px solid gray;box-sizing: border-box;top: 0;bottom: 0;left: 50%;z-index: 0;}#sk-container-id-3 div.sk-serial {display: flex;flex-direction: column;align-items: center;background-color: white;padding-right: 0.2em;padding-left: 0.2em;position: relative;}#sk-container-id-3 div.sk-item {position: relative;z-index: 1;}#sk-container-id-3 div.sk-parallel {display: flex;align-items: stretch;justify-content: center;background-color: white;position: relative;}#sk-container-id-3 div.sk-item::before, #sk-container-id-3 div.sk-parallel-item::before {content: \"\";position: absolute;border-left: 1px solid gray;box-sizing: border-box;top: 0;bottom: 0;left: 50%;z-index: -1;}#sk-container-id-3 div.sk-parallel-item {display: flex;flex-direction: column;z-index: 1;position: relative;background-color: white;}#sk-container-id-3 div.sk-parallel-item:first-child::after {align-self: flex-end;width: 50%;}#sk-container-id-3 div.sk-parallel-item:last-child::after {align-self: flex-start;width: 50%;}#sk-container-id-3 div.sk-parallel-item:only-child::after {width: 0;}#sk-container-id-3 div.sk-dashed-wrapped {border: 1px dashed gray;margin: 0 0.4em 0.5em 0.4em;box-sizing: border-box;padding-bottom: 0.4em;background-color: white;}#sk-container-id-3 div.sk-label label {font-family: monospace;font-weight: bold;display: inline-block;line-height: 1.2em;}#sk-container-id-3 div.sk-label-container {text-align: center;}#sk-container-id-3 div.sk-container {/* jupyter's `normalize.less` sets `[hidden] { display: none; }` but bootstrap.min.css set `[hidden] { display: none !important; }` so we also need the `!important` here to be able to override the default hidden behavior on the sphinx rendered scikit-learn.org. See: https://github.com/scikit-learn/scikit-learn/issues/21755 */display: inline-block !important;position: relative;}#sk-container-id-3 div.sk-text-repr-fallback {display: none;}</style><div id=\"sk-container-id-3\" class=\"sk-top-container\"><div class=\"sk-text-repr-fallback\"><pre>DecisionTreeClassifier(random_state=42)</pre><b>In a Jupyter environment, please rerun this cell to show the HTML representation or trust the notebook. <br />On GitHub, the HTML representation is unable to render, please try loading this page with nbviewer.org.</b></div><div class=\"sk-container\" hidden><div class=\"sk-item\"><div class=\"sk-estimator sk-toggleable\"><input class=\"sk-toggleable__control sk-hidden--visually\" id=\"sk-estimator-id-3\" type=\"checkbox\" checked><label for=\"sk-estimator-id-3\" class=\"sk-toggleable__label sk-toggleable__label-arrow\">DecisionTreeClassifier</label><div class=\"sk-toggleable__content\"><pre>DecisionTreeClassifier(random_state=42)</pre></div></div></div></div></div>"
      ],
      "text/plain": [
       "DecisionTreeClassifier(random_state=42)"
      ]
     },
     "execution_count": 23,
     "metadata": {},
     "output_type": "execute_result"
    }
   ],
   "source": [
    "# Modell erstellen mit fixem random_state (ermöglicht die Reproduzierbarkeit von zufälligen Abläufen oder Zufallsgenerierungen)\n",
    "model_dt = DecisionTreeClassifier(random_state=42)\n",
    "model_dt.fit(x_train, y_train)"
   ]
  },
  {
   "cell_type": "markdown",
   "id": "db4df729",
   "metadata": {},
   "source": [
    "#### Hyperparameter Optimization"
   ]
  },
  {
   "cell_type": "code",
   "execution_count": null,
   "id": "38a0e87a",
   "metadata": {},
   "outputs": [
    {
     "data": {
      "text/plain": [
       "'\\n# Definition der Hyperparameter und ihrer möglichen Werte für die randomisierte Suche\\nparam_distributions = {\\n    \\'C\\': [0.1, 1.0, 10.0], # Regularisierungsstärke \\n}\\n\\n# Erstellung des Modellbewerters basierend auf dem F1-Score\\nscorer = make_scorer(f1_score)\\n\\n# Erstellung des RandomizedSearchCV mit F1-Score als Bewertungsmaßstab\\ngrid_search  = GridSearchCV(model_lr, param_distributions, scoring=scorer, cv=5)\\n\\n# Randomized Search durchführen\\ngrid_search.fit(x_train, y_train)\\n\\n# Die besten Hyperparameter und das beste Modell ausgeben\\nbest_params = grid_search.best_params_\\nmodel_lr = grid_search.best_estimator_\\n\\n# Bewertung des besten Modells anhand den Testdaten\\nprint(\"Best hyperparameters:\", best_params)\\n'"
      ]
     },
     "metadata": {},
     "output_type": "display_data"
    }
   ],
   "source": [
    "\"\"\"\n",
    "# Definition der Hyperparameter und ihrer möglichen Werte für die randomisierte Suche\n",
    "param_distributions = {\n",
    "    'max_depth': [3, 5, 7, None],       # maximale Tiefe des Entscheidungsbaums\n",
    "    'min_samples_split': [2, 5, 10],    # Minimale Anzahl von Proben für einen Split\n",
    "    'min_samples_leaf': [1, 2, 4],      # Minimale Anzahl von Proben in einem Blatt\n",
    "    'criterion': ['gini', 'entropy']    # Kriterium für die Aufteilung\n",
    "}\n",
    "\n",
    "# Erstellung des Modellbewerters basierend auf dem F1-Score\n",
    "scorer = make_scorer(f1_score)\n",
    "\n",
    "# Erstellung des RandomizedSearchCV mit F1-Score als Bewertungsmaßstab\n",
    "grid_search  = GridSearchCV(model_dt, param_distributions, scoring=scorer, cv=5)\n",
    "\n",
    "# Randomized Search durchführen\n",
    "grid_search.fit(x_train, y_train)\n",
    "\n",
    "# Ermittlung der besten Hyperparameter und des besten Modells\n",
    "best_params = grid_search.best_params_\n",
    "model_dt = grid_search.best_estimator_\n",
    "\n",
    "# beste Hyperparameter ausgeben\n",
    "print(\"Best hyperparameters:\", best_params)\n",
    "\n",
    "\"\"\"\n"
   ]
  },
  {
   "cell_type": "markdown",
   "id": "1e330944",
   "metadata": {},
   "source": [
    "#### Evaluation"
   ]
  },
  {
   "cell_type": "code",
   "execution_count": 24,
   "id": "6b4d1a6e",
   "metadata": {},
   "outputs": [],
   "source": [
    "# Werte vorhersagen für train data\n",
    "predictions_dt_train = model_dt.predict(x_train)\n",
    "\n",
    "# Werte vorhersagen für test data\n",
    "predictions_dt_test = model_dt.predict(x_test)"
   ]
  },
  {
   "cell_type": "markdown",
   "id": "87ed2be5",
   "metadata": {},
   "source": [
    "##### Confusion matrix"
   ]
  },
  {
   "cell_type": "code",
   "execution_count": 25,
   "id": "14886aa9",
   "metadata": {},
   "outputs": [
    {
     "name": "stdout",
     "output_type": "stream",
     "text": [
      "[[116740      0]\n",
      " [     0 119172]]\n"
     ]
    }
   ],
   "source": [
    "# confusion matrix erstellen für train data\n",
    "cm = confusion_matrix(y_train, predictions_dt_train)\n",
    "print(cm)"
   ]
  },
  {
   "cell_type": "code",
   "execution_count": 26,
   "id": "4499e648",
   "metadata": {},
   "outputs": [
    {
     "name": "stdout",
     "output_type": "stream",
     "text": [
      "[[29030     5]\n",
      " [   12 29932]]\n"
     ]
    }
   ],
   "source": [
    "# confusion matrix erstellen für test data\n",
    "cm = confusion_matrix(y_test, predictions_dt_test)\n",
    "print(cm)"
   ]
  },
  {
   "cell_type": "code",
   "execution_count": 27,
   "id": "cec6f15d",
   "metadata": {},
   "outputs": [
    {
     "name": "stdout",
     "output_type": "stream",
     "text": [
      "Trainingsdaten Decision Tree:\n",
      "              precision    recall  f1-score   support\n",
      "\n",
      "         0.0       1.00      1.00      1.00    116740\n",
      "         1.0       1.00      1.00      1.00    119172\n",
      "\n",
      "    accuracy                           1.00    235912\n",
      "   macro avg       1.00      1.00      1.00    235912\n",
      "weighted avg       1.00      1.00      1.00    235912\n",
      "\n",
      "--------------------------------------------------------\n",
      "Trainingsdaten Decision Tree:\n",
      "              precision    recall  f1-score   support\n",
      "\n",
      "         0.0       1.00      1.00      1.00     29035\n",
      "         1.0       1.00      1.00      1.00     29944\n",
      "\n",
      "    accuracy                           1.00     58979\n",
      "   macro avg       1.00      1.00      1.00     58979\n",
      "weighted avg       1.00      1.00      1.00     58979\n",
      "\n"
     ]
    }
   ],
   "source": [
    "print(\"Trainingsdaten Decision Tree:\")\n",
    "print(classification_report(y_train, predictions_dt_train))\n",
    "print(\"--------------------------------------------------------\")\n",
    "print(\"Trainingsdaten Decision Tree:\")\n",
    "print(classification_report(y_test, predictions_dt_test))"
   ]
  },
  {
   "cell_type": "markdown",
   "id": "ccb38c21",
   "metadata": {},
   "source": [
    "##### Check Feature importance"
   ]
  },
  {
   "cell_type": "code",
   "execution_count": 28,
   "id": "ded66389",
   "metadata": {},
   "outputs": [
    {
     "name": "stdout",
     "output_type": "stream",
     "text": [
      "[0.00000000e+00 0.00000000e+00 0.00000000e+00 0.00000000e+00\n",
      " 0.00000000e+00 0.00000000e+00 0.00000000e+00 8.65857718e-08\n",
      " 7.63077467e-06 9.99392019e-06 1.02389378e-05 1.13048514e-05\n",
      " 1.58974472e-05 1.67600994e-05 1.76644316e-05 2.14485546e-05\n",
      " 3.31176896e-05 3.38760710e-05 4.00577428e-05 7.45092476e-05\n",
      " 8.26234672e-05 1.01441175e-04 1.01777308e-04 1.52330115e-04\n",
      " 2.03011129e-04 2.99502574e-04 2.73531961e-03 3.26395539e-03\n",
      " 4.15912089e-03 7.25957274e-03 7.85643950e-03 1.51067259e-02\n",
      " 2.31560921e-01 2.88798427e-01 4.38026246e-01]\n"
     ]
    },
    {
     "data": {
      "image/png": "[encoded data removed]",
      "text/plain": [
       "<Figure size 1000x600 with 1 Axes>"
      ]
     },
     "metadata": {},
     "output_type": "display_data"
    }
   ],
   "source": [
    "# Wichtigkeit der Features abrufen\n",
    "importances = model_dt.feature_importances_\n",
    "feature_names = np.array(x_train.columns)\n",
    "\n",
    "# Sortieren der Features nach ihrer Wichtigkeit\n",
    "sorted_indices = np.argsort(importances)\n",
    "sorted_importances = importances[sorted_indices]\n",
    "sorted_feature_names = feature_names[sorted_indices]\n",
    "\n",
    "print(sorted_importances)\n",
    "\n",
    "# Darstellung der Wichtigkeit der Features\n",
    "plt.figure(figsize=(10, 6))\n",
    "plt.barh(sorted_feature_names, sorted_importances)\n",
    "plt.xlabel(\"Wichtigkeit\")\n",
    "plt.ylabel(\"Features\")\n",
    "plt.title(\"Wichtigkeit der Features im Decision Tree\")\n",
    "plt.show()"
   ]
  },
  {
   "cell_type": "markdown",
   "id": "e100ec11",
   "metadata": {},
   "source": [
    "## Modellbildung Random Forest"
   ]
  },
  {
   "cell_type": "markdown",
   "id": "b4a4acc4",
   "metadata": {},
   "source": [
    "#### Model Creation"
   ]
  },
  {
   "cell_type": "code",
   "execution_count": 29,
   "id": "2f73eee3",
   "metadata": {},
   "outputs": [
    {
     "data": {
      "text/html": [
       "<style>#sk-container-id-4 {color: black;background-color: white;}#sk-container-id-4 pre{padding: 0;}#sk-container-id-4 div.sk-toggleable {background-color: white;}#sk-container-id-4 label.sk-toggleable__label {cursor: pointer;display: block;width: 100%;margin-bottom: 0;padding: 0.3em;box-sizing: border-box;text-align: center;}#sk-container-id-4 label.sk-toggleable__label-arrow:before {content: \"▸\";float: left;margin-right: 0.25em;color: #696969;}#sk-container-id-4 label.sk-toggleable__label-arrow:hover:before {color: black;}#sk-container-id-4 div.sk-estimator:hover label.sk-toggleable__label-arrow:before {color: black;}#sk-container-id-4 div.sk-toggleable__content {max-height: 0;max-width: 0;overflow: hidden;text-align: left;background-color: #f0f8ff;}#sk-container-id-4 div.sk-toggleable__content pre {margin: 0.2em;color: black;border-radius: 0.25em;background-color: #f0f8ff;}#sk-container-id-4 input.sk-toggleable__control:checked~div.sk-toggleable__content {max-height: 200px;max-width: 100%;overflow: auto;}#sk-container-id-4 input.sk-toggleable__control:checked~label.sk-toggleable__label-arrow:before {content: \"▾\";}#sk-container-id-4 div.sk-estimator input.sk-toggleable__control:checked~label.sk-toggleable__label {background-color: #d4ebff;}#sk-container-id-4 div.sk-label input.sk-toggleable__control:checked~label.sk-toggleable__label {background-color: #d4ebff;}#sk-container-id-4 input.sk-hidden--visually {border: 0;clip: rect(1px 1px 1px 1px);clip: rect(1px, 1px, 1px, 1px);height: 1px;margin: -1px;overflow: hidden;padding: 0;position: absolute;width: 1px;}#sk-container-id-4 div.sk-estimator {font-family: monospace;background-color: #f0f8ff;border: 1px dotted black;border-radius: 0.25em;box-sizing: border-box;margin-bottom: 0.5em;}#sk-container-id-4 div.sk-estimator:hover {background-color: #d4ebff;}#sk-container-id-4 div.sk-parallel-item::after {content: \"\";width: 100%;border-bottom: 1px solid gray;flex-grow: 1;}#sk-container-id-4 div.sk-label:hover label.sk-toggleable__label {background-color: #d4ebff;}#sk-container-id-4 div.sk-serial::before {content: \"\";position: absolute;border-left: 1px solid gray;box-sizing: border-box;top: 0;bottom: 0;left: 50%;z-index: 0;}#sk-container-id-4 div.sk-serial {display: flex;flex-direction: column;align-items: center;background-color: white;padding-right: 0.2em;padding-left: 0.2em;position: relative;}#sk-container-id-4 div.sk-item {position: relative;z-index: 1;}#sk-container-id-4 div.sk-parallel {display: flex;align-items: stretch;justify-content: center;background-color: white;position: relative;}#sk-container-id-4 div.sk-item::before, #sk-container-id-4 div.sk-parallel-item::before {content: \"\";position: absolute;border-left: 1px solid gray;box-sizing: border-box;top: 0;bottom: 0;left: 50%;z-index: -1;}#sk-container-id-4 div.sk-parallel-item {display: flex;flex-direction: column;z-index: 1;position: relative;background-color: white;}#sk-container-id-4 div.sk-parallel-item:first-child::after {align-self: flex-end;width: 50%;}#sk-container-id-4 div.sk-parallel-item:last-child::after {align-self: flex-start;width: 50%;}#sk-container-id-4 div.sk-parallel-item:only-child::after {width: 0;}#sk-container-id-4 div.sk-dashed-wrapped {border: 1px dashed gray;margin: 0 0.4em 0.5em 0.4em;box-sizing: border-box;padding-bottom: 0.4em;background-color: white;}#sk-container-id-4 div.sk-label label {font-family: monospace;font-weight: bold;display: inline-block;line-height: 1.2em;}#sk-container-id-4 div.sk-label-container {text-align: center;}#sk-container-id-4 div.sk-container {/* jupyter's `normalize.less` sets `[hidden] { display: none; }` but bootstrap.min.css set `[hidden] { display: none !important; }` so we also need the `!important` here to be able to override the default hidden behavior on the sphinx rendered scikit-learn.org. See: https://github.com/scikit-learn/scikit-learn/issues/21755 */display: inline-block !important;position: relative;}#sk-container-id-4 div.sk-text-repr-fallback {display: none;}</style><div id=\"sk-container-id-4\" class=\"sk-top-container\"><div class=\"sk-text-repr-fallback\"><pre>RandomForestClassifier(random_state=42)</pre><b>In a Jupyter environment, please rerun this cell to show the HTML representation or trust the notebook. <br />On GitHub, the HTML representation is unable to render, please try loading this page with nbviewer.org.</b></div><div class=\"sk-container\" hidden><div class=\"sk-item\"><div class=\"sk-estimator sk-toggleable\"><input class=\"sk-toggleable__control sk-hidden--visually\" id=\"sk-estimator-id-4\" type=\"checkbox\" checked><label for=\"sk-estimator-id-4\" class=\"sk-toggleable__label sk-toggleable__label-arrow\">RandomForestClassifier</label><div class=\"sk-toggleable__content\"><pre>RandomForestClassifier(random_state=42)</pre></div></div></div></div></div>"
      ],
      "text/plain": [
       "RandomForestClassifier(random_state=42)"
      ]
     },
     "execution_count": 29,
     "metadata": {},
     "output_type": "execute_result"
    }
   ],
   "source": [
    "# Modell erstellen mit fixem random_state (ermöglicht die Reproduzierbarkeit von zufälligen Abläufen oder Zufallsgenerierungen)\n",
    "model_rf = RandomForestClassifier(random_state=42)\n",
    "model_rf.fit(x_train, y_train)"
   ]
  },
  {
   "cell_type": "markdown",
   "id": "5d2da92c",
   "metadata": {},
   "source": [
    "#### Hyperparameter Optimization"
   ]
  },
  {
   "cell_type": "code",
   "execution_count": null,
   "id": "2b0f32f2",
   "metadata": {},
   "outputs": [
    {
     "data": {
      "text/plain": [
       "'\\n# Definition der Hyperparameter und ihrer möglichen Werte für die randomisierte Suche\\nparam_distributions = {\\n    \\'C\\': [0.1, 1.0, 10.0], # Regularisierungsstärke \\n}\\n\\n# Erstellung des Modellbewerters basierend auf dem F1-Score\\nscorer = make_scorer(f1_score)\\n\\n# Erstellung des RandomizedSearchCV mit F1-Score als Bewertungsmaßstab\\ngrid_search  = GridSearchCV(model_lr, param_distributions, scoring=scorer, cv=5)\\n\\n# Randomized Search durchführen\\ngrid_search.fit(x_train, y_train)\\n\\n# Die besten Hyperparameter und das beste Modell ausgeben\\nbest_params = grid_search.best_params_\\nmodel_lr = grid_search.best_estimator_\\n\\n# Bewertung des besten Modells anhand den Testdaten\\nprint(\"Best hyperparameters:\", best_params)\\n'"
      ]
     },
     "metadata": {},
     "output_type": "display_data"
    }
   ],
   "source": [
    "\"\"\"\n",
    "# Definition der Hyperparameter und ihrer möglichen Werte für die randomisierte Suche\n",
    "param_distributions = {\n",
    "    'n_estimators': [100, 200, 500],\n",
    "    'max_depth': [3, 5, None],\n",
    "    'min_samples_split': [2, 5, 10],\n",
    "    'min_samples_leaf': [1, 2, 4],\n",
    "    'criterion': ['gini', 'entropy']\n",
    "}\n",
    "\n",
    "# Erstellung des Modellbewerters basierend auf dem F1-Score\n",
    "scorer = make_scorer(f1_score)\n",
    "\n",
    "# Erstellung des RandomizedSearchCV mit F1-Score als Bewertungsmaßstab\n",
    "grid_search  = GridSearchCV(model_rf, param_distributions, scoring=scorer, cv=5)\n",
    "\n",
    "# Randomized Search durchführen\n",
    "grid_search.fit(x_train, y_train)\n",
    "\n",
    "# Die besten Hyperparameter und das beste Modell ausgeben\n",
    "best_params = grid_search.best_params_\n",
    "model_rf = grid_search.best_estimator_\n",
    "\n",
    "# Bewertung des besten Modells anhand der Testdaten\n",
    "print(\"Best hyperparameters:\", best_params)\n",
    "\"\"\""
   ]
  },
  {
   "cell_type": "markdown",
   "id": "1066fc5a",
   "metadata": {},
   "source": [
    "#### Evaluation"
   ]
  },
  {
   "cell_type": "code",
   "execution_count": 30,
   "id": "55431f99",
   "metadata": {},
   "outputs": [],
   "source": [
    "# Werte vorhersagen für train data\n",
    "predictions_rf_train = model_rf.predict(x_train)\n",
    "\n",
    "# Werte vorhersagen für test data\n",
    "predictions_rf_test = model_rf.predict(x_test)"
   ]
  },
  {
   "cell_type": "markdown",
   "id": "c815b978",
   "metadata": {},
   "source": [
    "##### Confusion matrix"
   ]
  },
  {
   "cell_type": "code",
   "execution_count": 31,
   "id": "f9d5e506",
   "metadata": {},
   "outputs": [
    {
     "name": "stdout",
     "output_type": "stream",
     "text": [
      "[[116740      0]\n",
      " [     0 119172]]\n"
     ]
    }
   ],
   "source": [
    "# confusion matrix erstellen für train data\n",
    "cm = confusion_matrix(y_train, predictions_rf_train)\n",
    "print(cm)"
   ]
  },
  {
   "cell_type": "code",
   "execution_count": 32,
   "id": "8b4f62cf",
   "metadata": {},
   "outputs": [
    {
     "name": "stdout",
     "output_type": "stream",
     "text": [
      "[[29010    25]\n",
      " [   23 29921]]\n"
     ]
    }
   ],
   "source": [
    "# confusion matrix erstellen für test data\n",
    "cm = confusion_matrix(y_test, predictions_rf_test)\n",
    "print(cm)"
   ]
  },
  {
   "cell_type": "code",
   "execution_count": 33,
   "id": "6611638f",
   "metadata": {},
   "outputs": [
    {
     "name": "stdout",
     "output_type": "stream",
     "text": [
      "Trainingsdaten Random Forest:\n",
      "              precision    recall  f1-score   support\n",
      "\n",
      "         0.0       1.00      1.00      1.00    116740\n",
      "         1.0       1.00      1.00      1.00    119172\n",
      "\n",
      "    accuracy                           1.00    235912\n",
      "   macro avg       1.00      1.00      1.00    235912\n",
      "weighted avg       1.00      1.00      1.00    235912\n",
      "\n",
      "--------------------------------------------------------\n",
      "Trainingsdaten Random Forest:\n",
      "              precision    recall  f1-score   support\n",
      "\n",
      "         0.0       1.00      1.00      1.00     29035\n",
      "         1.0       1.00      1.00      1.00     29944\n",
      "\n",
      "    accuracy                           1.00     58979\n",
      "   macro avg       1.00      1.00      1.00     58979\n",
      "weighted avg       1.00      1.00      1.00     58979\n",
      "\n"
     ]
    }
   ],
   "source": [
    "print(\"Trainingsdaten Random Forest:\")\n",
    "print(classification_report(y_train, predictions_rf_train))\n",
    "print(\"--------------------------------------------------------\")\n",
    "print(\"Trainingsdaten Random Forest:\")\n",
    "print(classification_report(y_test, predictions_rf_test))"
   ]
  },
  {
   "cell_type": "markdown",
   "id": "f4c7d98a",
   "metadata": {},
   "source": [
    "##### Check Feature importance"
   ]
  },
  {
   "cell_type": "code",
   "execution_count": 34,
   "id": "2b9a1101",
   "metadata": {},
   "outputs": [
    {
     "name": "stdout",
     "output_type": "stream",
     "text": [
      "[0.00000000e+00 0.00000000e+00 0.00000000e+00 0.00000000e+00\n",
      " 0.00000000e+00 0.00000000e+00 0.00000000e+00 8.65857718e-08\n",
      " 7.63077467e-06 9.99392019e-06 1.02389378e-05 1.13048514e-05\n",
      " 1.58974472e-05 1.67600994e-05 1.76644316e-05 2.14485546e-05\n",
      " 3.31176896e-05 3.38760710e-05 4.00577428e-05 7.45092476e-05\n",
      " 8.26234672e-05 1.01441175e-04 1.01777308e-04 1.52330115e-04\n",
      " 2.03011129e-04 2.99502574e-04 2.73531961e-03 3.26395539e-03\n",
      " 4.15912089e-03 7.25957274e-03 7.85643950e-03 1.51067259e-02\n",
      " 2.31560921e-01 2.88798427e-01 4.38026246e-01]\n"
     ]
    },
    {
     "data": {
      "image/png": "[encoded data removed]",
      "text/plain": [
       "<Figure size 1000x600 with 1 Axes>"
      ]
     },
     "metadata": {},
     "output_type": "display_data"
    }
   ],
   "source": [
    "# Wichtigkeit der Features abrufen\n",
    "importances = model_dt.feature_importances_\n",
    "feature_names = np.array(x_train.columns)\n",
    "\n",
    "# Sortieren der Features nach ihrer Wichtigkeit\n",
    "sorted_indices = np.argsort(importances)\n",
    "sorted_importances = importances[sorted_indices]\n",
    "sorted_feature_names = feature_names[sorted_indices]\n",
    "\n",
    "print(sorted_importances)\n",
    "\n",
    "# Darstellung der Wichtigkeit der Features\n",
    "plt.figure(figsize=(10, 6))\n",
    "plt.barh(sorted_feature_names, sorted_importances)\n",
    "plt.xlabel(\"Wichtigkeit\")\n",
    "plt.ylabel(\"Features\")\n",
    "plt.title(\"Wichtigkeit der Features im Decision Tree\")\n",
    "plt.show()"
   ]
  },
  {
   "cell_type": "markdown",
   "id": "d5cc6a8f",
   "metadata": {},
   "source": [
    "## Modellbildung XGBoost"
   ]
  },
  {
   "cell_type": "markdown",
   "id": "01a6ccea",
   "metadata": {},
   "source": [
    "#### Model Creation"
   ]
  },
  {
   "cell_type": "code",
   "execution_count": null,
   "id": "e51243dd",
   "metadata": {},
   "outputs": [],
   "source": [
    "#conda install xgboost"
   ]
  },
  {
   "cell_type": "code",
   "execution_count": 39,
   "id": "62d1b652",
   "metadata": {},
   "outputs": [
    {
     "data": {
      "text/html": [
       "<style>#sk-container-id-5 {color: black;background-color: white;}#sk-container-id-5 pre{padding: 0;}#sk-container-id-5 div.sk-toggleable {background-color: white;}#sk-container-id-5 label.sk-toggleable__label {cursor: pointer;display: block;width: 100%;margin-bottom: 0;padding: 0.3em;box-sizing: border-box;text-align: center;}#sk-container-id-5 label.sk-toggleable__label-arrow:before {content: \"▸\";float: left;margin-right: 0.25em;color: #696969;}#sk-container-id-5 label.sk-toggleable__label-arrow:hover:before {color: black;}#sk-container-id-5 div.sk-estimator:hover label.sk-toggleable__label-arrow:before {color: black;}#sk-container-id-5 div.sk-toggleable__content {max-height: 0;max-width: 0;overflow: hidden;text-align: left;background-color: #f0f8ff;}#sk-container-id-5 div.sk-toggleable__content pre {margin: 0.2em;color: black;border-radius: 0.25em;background-color: #f0f8ff;}#sk-container-id-5 input.sk-toggleable__control:checked~div.sk-toggleable__content {max-height: 200px;max-width: 100%;overflow: auto;}#sk-container-id-5 input.sk-toggleable__control:checked~label.sk-toggleable__label-arrow:before {content: \"▾\";}#sk-container-id-5 div.sk-estimator input.sk-toggleable__control:checked~label.sk-toggleable__label {background-color: #d4ebff;}#sk-container-id-5 div.sk-label input.sk-toggleable__control:checked~label.sk-toggleable__label {background-color: #d4ebff;}#sk-container-id-5 input.sk-hidden--visually {border: 0;clip: rect(1px 1px 1px 1px);clip: rect(1px, 1px, 1px, 1px);height: 1px;margin: -1px;overflow: hidden;padding: 0;position: absolute;width: 1px;}#sk-container-id-5 div.sk-estimator {font-family: monospace;background-color: #f0f8ff;border: 1px dotted black;border-radius: 0.25em;box-sizing: border-box;margin-bottom: 0.5em;}#sk-container-id-5 div.sk-estimator:hover {background-color: #d4ebff;}#sk-container-id-5 div.sk-parallel-item::after {content: \"\";width: 100%;border-bottom: 1px solid gray;flex-grow: 1;}#sk-container-id-5 div.sk-label:hover label.sk-toggleable__label {background-color: #d4ebff;}#sk-container-id-5 div.sk-serial::before {content: \"\";position: absolute;border-left: 1px solid gray;box-sizing: border-box;top: 0;bottom: 0;left: 50%;z-index: 0;}#sk-container-id-5 div.sk-serial {display: flex;flex-direction: column;align-items: center;background-color: white;padding-right: 0.2em;padding-left: 0.2em;position: relative;}#sk-container-id-5 div.sk-item {position: relative;z-index: 1;}#sk-container-id-5 div.sk-parallel {display: flex;align-items: stretch;justify-content: center;background-color: white;position: relative;}#sk-container-id-5 div.sk-item::before, #sk-container-id-5 div.sk-parallel-item::before {content: \"\";position: absolute;border-left: 1px solid gray;box-sizing: border-box;top: 0;bottom: 0;left: 50%;z-index: -1;}#sk-container-id-5 div.sk-parallel-item {display: flex;flex-direction: column;z-index: 1;position: relative;background-color: white;}#sk-container-id-5 div.sk-parallel-item:first-child::after {align-self: flex-end;width: 50%;}#sk-container-id-5 div.sk-parallel-item:last-child::after {align-self: flex-start;width: 50%;}#sk-container-id-5 div.sk-parallel-item:only-child::after {width: 0;}#sk-container-id-5 div.sk-dashed-wrapped {border: 1px dashed gray;margin: 0 0.4em 0.5em 0.4em;box-sizing: border-box;padding-bottom: 0.4em;background-color: white;}#sk-container-id-5 div.sk-label label {font-family: monospace;font-weight: bold;display: inline-block;line-height: 1.2em;}#sk-container-id-5 div.sk-label-container {text-align: center;}#sk-container-id-5 div.sk-container {/* jupyter's `normalize.less` sets `[hidden] { display: none; }` but bootstrap.min.css set `[hidden] { display: none !important; }` so we also need the `!important` here to be able to override the default hidden behavior on the sphinx rendered scikit-learn.org. See: https://github.com/scikit-learn/scikit-learn/issues/21755 */display: inline-block !important;position: relative;}#sk-container-id-5 div.sk-text-repr-fallback {display: none;}</style><div id=\"sk-container-id-5\" class=\"sk-top-container\"><div class=\"sk-text-repr-fallback\"><pre>XGBClassifier(base_score=None, booster=None, callbacks=None,\n",
       "              colsample_bylevel=None, colsample_bynode=None,\n",
       "              colsample_bytree=None, early_stopping_rounds=None,\n",
       "              enable_categorical=False, eval_metric=None, feature_types=None,\n",
       "              gamma=None, gpu_id=None, grow_policy=None, importance_type=None,\n",
       "              interaction_constraints=None, learning_rate=None, max_bin=None,\n",
       "              max_cat_threshold=None, max_cat_to_onehot=None,\n",
       "              max_delta_step=None, max_depth=None, max_leaves=None,\n",
       "              min_child_weight=None, missing=nan, monotone_constraints=None,\n",
       "              n_estimators=100, n_jobs=None, num_parallel_tree=None,\n",
       "              predictor=None, random_state=42, ...)</pre><b>In a Jupyter environment, please rerun this cell to show the HTML representation or trust the notebook. <br />On GitHub, the HTML representation is unable to render, please try loading this page with nbviewer.org.</b></div><div class=\"sk-container\" hidden><div class=\"sk-item\"><div class=\"sk-estimator sk-toggleable\"><input class=\"sk-toggleable__control sk-hidden--visually\" id=\"sk-estimator-id-5\" type=\"checkbox\" checked><label for=\"sk-estimator-id-5\" class=\"sk-toggleable__label sk-toggleable__label-arrow\">XGBClassifier</label><div class=\"sk-toggleable__content\"><pre>XGBClassifier(base_score=None, booster=None, callbacks=None,\n",
       "              colsample_bylevel=None, colsample_bynode=None,\n",
       "              colsample_bytree=None, early_stopping_rounds=None,\n",
       "              enable_categorical=False, eval_metric=None, feature_types=None,\n",
       "              gamma=None, gpu_id=None, grow_policy=None, importance_type=None,\n",
       "              interaction_constraints=None, learning_rate=None, max_bin=None,\n",
       "              max_cat_threshold=None, max_cat_to_onehot=None,\n",
       "              max_delta_step=None, max_depth=None, max_leaves=None,\n",
       "              min_child_weight=None, missing=nan, monotone_constraints=None,\n",
       "              n_estimators=100, n_jobs=None, num_parallel_tree=None,\n",
       "              predictor=None, random_state=42, ...)</pre></div></div></div></div></div>"
      ],
      "text/plain": [
       "XGBClassifier(base_score=None, booster=None, callbacks=None,\n",
       "              colsample_bylevel=None, colsample_bynode=None,\n",
       "              colsample_bytree=None, early_stopping_rounds=None,\n",
       "              enable_categorical=False, eval_metric=None, feature_types=None,\n",
       "              gamma=None, gpu_id=None, grow_policy=None, importance_type=None,\n",
       "              interaction_constraints=None, learning_rate=None, max_bin=None,\n",
       "              max_cat_threshold=None, max_cat_to_onehot=None,\n",
       "              max_delta_step=None, max_depth=None, max_leaves=None,\n",
       "              min_child_weight=None, missing=nan, monotone_constraints=None,\n",
       "              n_estimators=100, n_jobs=None, num_parallel_tree=None,\n",
       "              predictor=None, random_state=42, ...)"
      ]
     },
     "execution_count": 39,
     "metadata": {},
     "output_type": "execute_result"
    }
   ],
   "source": [
    "import xgboost as xgb\n",
    "\n",
    "# Modell erstellen mit fixem random_state (ermöglicht die Reproduzierbarkeit von zufälligen Abläufen oder Zufallsgenerierungen)\n",
    "model_xgb = xgb.XGBClassifier(random_state=42)\n",
    "\n",
    "# XGBoost-Parameter festlegen\n",
    "params = {\n",
    "    'objective': 'binary:logistic',  # Binäre Klassifikation\n",
    "    'eval_metric': 'logloss',        # Bewertungsmetrik (logarithmischer Verlust)\n",
    "}\n",
    "\n",
    "# Modell trainieren\n",
    "model_xgb.fit(x_train, y_train)"
   ]
  },
  {
   "cell_type": "markdown",
   "id": "d43f6645",
   "metadata": {},
   "source": [
    "#### Hyperparameter Optimization"
   ]
  },
  {
   "cell_type": "code",
   "execution_count": null,
   "id": "6e2e0e0a",
   "metadata": {},
   "outputs": [
    {
     "data": {
      "text/plain": [
       "'\\n# Definition der Hyperparameter und ihrer möglichen Werte für die randomisierte Suche\\nparam_distributions = {\\n    \\'C\\': [0.1, 1.0, 10.0], # Regularisierungsstärke \\n}\\n\\n# Erstellung des Modellbewerters basierend auf dem F1-Score\\nscorer = make_scorer(f1_score)\\n\\n# Erstellung des RandomizedSearchCV mit F1-Score als Bewertungsmaßstab\\ngrid_search  = GridSearchCV(model_lr, param_distributions, scoring=scorer, cv=5)\\n\\n# Randomized Search durchführen\\ngrid_search.fit(x_train, y_train)\\n\\n# Die besten Hyperparameter und das beste Modell ausgeben\\nbest_params = grid_search.best_params_\\nmodel_lr = grid_search.best_estimator_\\n\\n# Bewertung des besten Modells anhand den Testdaten\\nprint(\"Best hyperparameters:\", best_params)\\n'"
      ]
     },
     "metadata": {},
     "output_type": "display_data"
    }
   ],
   "source": [
    "\"\"\"\n",
    "\n",
    "# Parameter-Raum für die Hyperparameter-Optimierung festlegen\n",
    "param_distributions = {\n",
    "    'eta': [0.01, 0.1, 0.2],        # Lernrate\n",
    "    'max_depth': [3, 5, 7],         # Maximale Tiefe der Entscheidungsbäume\n",
    "    'min_child_weight': [1, 3, 5],  # Minimales Gewicht pro Blatt\n",
    "    'gamma': [0, 0.1, 0.2],         # Minimale Reduzierung des Verlusts, die für einen Split erforderlich ist\n",
    "}\n",
    "\n",
    "# Erstellung des Modellbewerters basierend auf dem F1-Score\n",
    "scorer = make_scorer(f1_score)\n",
    "\n",
    "# Erstellung des RandomizedSearchCV mit F1-Score als Bewertungsmaßstab\n",
    "grid_search  = GridSearchCV(model_xgb, param_distributions, scoring=scorer, cv=5)\n",
    "\n",
    "# Randomized Search durchführen\n",
    "grid_search.fit(x_train, y_train)\n",
    "\n",
    "# Beste Hyperparameter und bestes Modell erhalten\n",
    "best_params = grid_search.best_params_\n",
    "model_xgb = grid_search.best_estimator_\n",
    "\n",
    "# Ausgabe der besten Parameter\n",
    "print(\"Best hyperparameters:\", best_params)\n",
    "\n",
    "\"\"\""
   ]
  },
  {
   "cell_type": "markdown",
   "id": "a7eb50de",
   "metadata": {},
   "source": [
    "#### Evaluation"
   ]
  },
  {
   "cell_type": "code",
   "execution_count": 40,
   "id": "23c64150",
   "metadata": {},
   "outputs": [],
   "source": [
    "# Vorhersagen für Trainingsdaten machen\n",
    "predictions_xgb_train = model_xgb.predict(x_train)\n",
    "\n",
    "# Vorhersagen für Testdaten machen\n",
    "predictions_xgb_test = model_xgb.predict(x_test)\n",
    "\n",
    "# Rundungsregel anwenden, um binäre Vorhersagen zu erhalten\n",
    "binary_predictions_xgb_train = [1 if p >= 0.5 else 0 for p in predictions_xgb_train]\n",
    "binary_predictions_xgb_test = [1 if p >= 0.5 else 0 for p in predictions_xgb_test]"
   ]
  },
  {
   "cell_type": "markdown",
   "id": "02b41726",
   "metadata": {},
   "source": [
    "##### Confusion matrix"
   ]
  },
  {
   "cell_type": "code",
   "execution_count": 41,
   "id": "84b3b690",
   "metadata": {},
   "outputs": [
    {
     "name": "stdout",
     "output_type": "stream",
     "text": [
      "[[116740      0]\n",
      " [     2 119170]]\n"
     ]
    }
   ],
   "source": [
    "# confusion matrix erstellen für train data\n",
    "cm = confusion_matrix(y_train, binary_predictions_xgb_train)\n",
    "print(cm)"
   ]
  },
  {
   "cell_type": "code",
   "execution_count": 42,
   "id": "19d1d660",
   "metadata": {},
   "outputs": [
    {
     "name": "stdout",
     "output_type": "stream",
     "text": [
      "[[29034     1]\n",
      " [    6 29938]]\n"
     ]
    }
   ],
   "source": [
    "# confusion matrix erstellen für test data\n",
    "cm = confusion_matrix(y_test, binary_predictions_xgb_test)\n",
    "print(cm)"
   ]
  },
  {
   "cell_type": "code",
   "execution_count": 43,
   "id": "74b635e8",
   "metadata": {},
   "outputs": [
    {
     "name": "stdout",
     "output_type": "stream",
     "text": [
      "Trainingsdaten XGBoost:\n",
      "              precision    recall  f1-score   support\n",
      "\n",
      "         0.0       1.00      1.00      1.00    116740\n",
      "         1.0       1.00      1.00      1.00    119172\n",
      "\n",
      "    accuracy                           1.00    235912\n",
      "   macro avg       1.00      1.00      1.00    235912\n",
      "weighted avg       1.00      1.00      1.00    235912\n",
      "\n",
      "--------------------------------------------------------\n",
      "Trainingsdaten XGBoost:\n",
      "              precision    recall  f1-score   support\n",
      "\n",
      "         0.0       1.00      1.00      1.00     29035\n",
      "         1.0       1.00      1.00      1.00     29944\n",
      "\n",
      "    accuracy                           1.00     58979\n",
      "   macro avg       1.00      1.00      1.00     58979\n",
      "weighted avg       1.00      1.00      1.00     58979\n",
      "\n"
     ]
    }
   ],
   "source": [
    "print(\"Trainingsdaten XGBoost:\")\n",
    "print(classification_report(y_train, binary_predictions_xgb_train))\n",
    "print(\"--------------------------------------------------------\")\n",
    "print(\"Trainingsdaten XGBoost:\")\n",
    "print(classification_report(y_test, binary_predictions_xgb_test))"
   ]
  },
  {
   "cell_type": "markdown",
   "id": "d4686a1e",
   "metadata": {},
   "source": [
    "##### Check Feature importance"
   ]
  },
  {
   "cell_type": "code",
   "execution_count": 44,
   "id": "e95b66c1",
   "metadata": {},
   "outputs": [
    {
     "name": "stdout",
     "output_type": "stream",
     "text": [
      "Buchung: 0.003687983611598611\n",
      "PreisTicket: 0.07572566717863083\n",
      "Fluglinie_Delta: 0.0\n",
      "Fluglinie_KLM: 0.00019560665532480925\n",
      "Fluglinie_Lufthansa: 0.0025510068517178297\n",
      "Fluglinie_RyanAir: 0.001100719440728426\n",
      "Fluglinie_United: 0.0010592369362711906\n",
      "Start_Frankfurt: 0.3805115520954132\n",
      "Start_Hamburg: 0.016201145946979523\n",
      "Start_Köln: 0.013578705489635468\n",
      "Start_München: 0.009471622295677662\n",
      "Start_Nürnberg: 0.45399370789527893\n",
      "Startzeit_Frühmorgen: 0.00017178340931423008\n",
      "Startzeit_Late_Night: 0.0\n",
      "Startzeit_Morgen: 0.00015469948993995786\n",
      "Startzeit_Nachmittag: 0.00021025522437412292\n",
      "Startzeit_Night: 3.6290555726736784e-05\n",
      "Stops_two_or_more: 0.0002370818838244304\n",
      "Stops_zero: 0.009376089088618755\n",
      "Ankunftszeit_Frühmorgen: 2.04183415917214e-05\n",
      "Ankunftszeit_Late_Nacht: 0.0\n",
      "Ankunftszeit_Morgen: 0.00011861170060001314\n",
      "Ankunftszeit_Nachmittag: 7.144546543713659e-05\n",
      "Ankunftszeit_Nacht: 6.130448309704661e-05\n",
      "Ziel_Frankfurt: 0.0006364737055264413\n",
      "Ziel_Hamburg: 0.00020962781854905188\n",
      "Ziel_Köln: 0.00023753342975396663\n",
      "Ziel_München: 0.00012898238492198288\n",
      "Ziel_Nürnberg: 0.01399292517453432\n",
      "Source_Direct: 0.00786326639354229\n",
      "Source_Search: 0.008229883387684822\n",
      "Source_Social: 6.16061151959002e-05\n",
      "OnlineTime_Lang: 4.797000656253658e-05\n",
      "OnlineTime_Mittel: 2.1429343178169802e-05\n",
      "OnlineTime_Spontan: 3.541424302966334e-05\n"
     ]
    }
   ],
   "source": [
    "# Feature Importance abrufen\n",
    "importance = model_xgb.feature_importances_\n",
    "\n",
    "# Ausgabe der Feature Importance\n",
    "for i, feature in enumerate(x_train.columns):\n",
    "    print(f'{feature}: {importance[i]}')"
   ]
  }
 ],
 "metadata": {
  "kernelspec": {
   "display_name": "Python 3 (ipykernel)",
   "language": "python",
   "name": "python3"
  },
  "language_info": {
   "codemirror_mode": {
    "name": "ipython",
    "version": 3
   },
   "file_extension": ".py",
   "mimetype": "text/x-python",
   "name": "python",
   "nbconvert_exporter": "python",
   "pygments_lexer": "ipython3",
   "version": "3.10.12"
  }
 },
 "nbformat": 4,
 "nbformat_minor": 5
}
